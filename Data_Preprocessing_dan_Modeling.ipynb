{
  "cells": [
    {
      "cell_type": "markdown",
      "metadata": {
        "id": "wcy9AC3Lmqlr"
      },
      "source": [
        "# **Bank Term Deposit Subscription Prediction**\n",
        "\n",
        "---"
      ]
    },
    {
      "cell_type": "markdown",
      "metadata": {
        "id": "gqO7I60Emql1"
      },
      "source": [
        "# **Stage 2**"
      ]
    },
    {
      "cell_type": "code",
      "execution_count": null,
      "metadata": {
        "id": "dgeGByXUmql4"
      },
      "outputs": [],
      "source": [
        "import warnings\n",
        "warnings.filterwarnings('ignore')\n",
        "\n",
        "import pandas as pd\n",
        "import numpy as np\n",
        "\n",
        "import seaborn as sns\n",
        "import matplotlib.pyplot as plt\n",
        "%matplotlib inline\n",
        "\n",
        "from sklearn.feature_selection import chi2\n",
        "from scipy import stats\n",
        "import math\n",
        "from sklearn.preprocessing import RobustScaler\n",
        "from sklearn.model_selection import train_test_split\n",
        "from imblearn.over_sampling import SMOTE\n",
        "from imblearn import under_sampling, over_sampling\n",
        "from sklearn.feature_selection import mutual_info_regression\n"
      ]
    },
    {
      "cell_type": "code",
      "execution_count": null,
      "metadata": {
        "id": "dyvA7vXPmqmA"
      },
      "outputs": [],
      "source": [
        "from matplotlib import rcParams\n",
        "\n",
        "rcParams['figure.figsize'] = 5, 3\n",
        "rcParams['lines.linewidth'] = 1.5\n",
        "rcParams['xtick.labelsize'] = 'x-small'\n",
        "rcParams['ytick.labelsize'] = 'x-small'\n",
        "rcParams['axes.labelsize'] = 'x-small'"
      ]
    },
    {
      "cell_type": "code",
      "execution_count": null,
      "metadata": {
        "colab": {
          "base_uri": "https://localhost:8080/"
        },
        "id": "7VlS5xOpmzqg",
        "outputId": "4815a186-b28f-4bf0-8cb8-e5b7af99395c"
      },
      "outputs": [
        {
          "output_type": "stream",
          "name": "stdout",
          "text": [
            "Drive already mounted at /content/drive; to attempt to forcibly remount, call drive.mount(\"/content/drive\", force_remount=True).\n"
          ]
        }
      ],
      "source": [
        "from google.colab import drive\n",
        "drive.mount('/content/drive')"
      ]
    },
    {
      "cell_type": "code",
      "execution_count": null,
      "metadata": {
        "id": "MtlPabMgmqmC"
      },
      "outputs": [],
      "source": [
        "#Read data\n",
        "df = pd.read_csv('/content/drive/MyDrive/Coba Coba/final_project_audita/train.csv', delimiter=';')"
      ]
    },
    {
      "cell_type": "code",
      "execution_count": null,
      "metadata": {
        "id": "tds22r4emqmD"
      },
      "outputs": [],
      "source": [
        "df.rename(columns={\n",
        "    'job': 'job_type',\n",
        "    'marital': 'marital_status',\n",
        "    'default': 'has_default',\n",
        "    'housing': 'has_housing_loan',\n",
        "    'loan': 'has_personal_loan',\n",
        "    'contact': 'contact_type',\n",
        "    'day': 'last_contact_day',\n",
        "    'month': 'last_contact_month',\n",
        "    'duration': 'last_contact_duration',\n",
        "    'campaign': 'num_contacts_campaign',\n",
        "    'pdays': 'days_since_last_contacted',\n",
        "    'previous': 'num_contacts_before_campaign',\n",
        "    'poutcome': 'prev_campaign_outcome',\n",
        "    'y': 'has_subs_deposit'\n",
        "}, inplace=True)"
      ]
    },
    {
      "cell_type": "markdown",
      "metadata": {
        "id": "qRCfqgTmmqmH"
      },
      "source": [
        "#### Data Features Description\n",
        "#### Numerical Features\n",
        "\n",
        "| Feature Name| Feature Description                                                                       |\n",
        "|:------------|:------------------------------------------------------------------------------------------|\n",
        "| `age`       |Represents the client's age in years                                                       |\n",
        "| `balance`   |Represents the client's average yearly balance in euros                                    |\n",
        "| `last_contact_day`       |Represents the day of the month when the last contact with client was made                 |\n",
        "| `last_contact_duration`  |Represents the duration of the last contact in seconds                                     |\n",
        "| `num_contacts_campaign`  |Indicates the total number of contacts made during the current campaign and for this client, including the last contact|\n",
        "| `days_since_last_contacted`     |Represents the number of days since the client was last contacted in a previous campaign   |\n",
        "| `num_contacts_before_campaign`  |Indicates the total number of contacts made before the current campaign for this client    |\n",
        "\n",
        "#### Categorical Features\n",
        "\n",
        "| Feature Name  | Feature Description                                           |\n",
        "|:--------------|:--------------------------------------------------------------|\n",
        "| `job_type`         | Describes the client's type of job or occupation              |\n",
        "| `marital_status`     | Indicates the client's marital status                         |\n",
        "| `education`   | Specifies the client's educational level                      |\n",
        "| `has_default`     | Indicates whether the client has credit in default            |\n",
        "| `has_housing_loan`     | Indicates whether the client has a housing loan               |\n",
        "| `has_personal_loan`        | Indicates whether the client has a personal loan              |\n",
        "| `contact_type`\t    | Describes the type of communication used by client            |\n",
        "| `last_contact_month`       | Specifies the month of the year when the last contact occurred|\n",
        "| `prev_campaign_outcome`    | Describes the outcome of the previous marketing campaign      |\n",
        "\n",
        "#### Target Feature\n",
        "\n",
        "| Feature Name  | Feature Description                                           |\n",
        "|:--------------|:--------------------------------------------------------------|\n",
        "| `has_subs_deposit`           | Specifies whether the client has subscribed to a term deposit |\n"
      ]
    },
    {
      "cell_type": "markdown",
      "metadata": {
        "id": "aenwtgx0mqmM"
      },
      "source": [
        "# 1. Data Cleansing"
      ]
    },
    {
      "cell_type": "markdown",
      "metadata": {
        "id": "kRKVWXEUmqmO"
      },
      "source": [
        "## 1.1 Handle missing values"
      ]
    },
    {
      "cell_type": "code",
      "execution_count": null,
      "metadata": {
        "colab": {
          "base_uri": "https://localhost:8080/"
        },
        "id": "ljbs4EtkmqmP",
        "outputId": "39fbb00d-4255-439a-bb9d-87dcd1dbdd67"
      },
      "outputs": [
        {
          "output_type": "execute_result",
          "data": {
            "text/plain": [
              "age                             0\n",
              "job_type                        0\n",
              "marital_status                  0\n",
              "education                       0\n",
              "has_default                     0\n",
              "balance                         0\n",
              "has_housing_loan                0\n",
              "has_personal_loan               0\n",
              "contact_type                    0\n",
              "last_contact_day                0\n",
              "last_contact_month              0\n",
              "last_contact_duration           0\n",
              "num_contacts_campaign           0\n",
              "days_since_last_contacted       0\n",
              "num_contacts_before_campaign    0\n",
              "prev_campaign_outcome           0\n",
              "has_subs_deposit                0\n",
              "dtype: int64"
            ]
          },
          "metadata": {},
          "execution_count": 6
        }
      ],
      "source": [
        "# Cek NaN value\n",
        "df.isna().sum()"
      ]
    },
    {
      "cell_type": "code",
      "execution_count": null,
      "metadata": {
        "colab": {
          "base_uri": "https://localhost:8080/"
        },
        "id": "lKWfdD2YmqmS",
        "outputId": "06d3ddec-bfb9-42f9-ef3d-15317d484f11"
      },
      "outputs": [
        {
          "output_type": "execute_result",
          "data": {
            "text/plain": [
              "job_type                  0.637013\n",
              "education                 4.107407\n",
              "contact_type             28.798301\n",
              "prev_campaign_outcome    81.747805\n",
              "dtype: float64"
            ]
          },
          "metadata": {},
          "execution_count": 7
        }
      ],
      "source": [
        "#Persentase nilai unknown dalam data\n",
        "df[df.columns[df.isin(['unknown']).any()]].apply(lambda x: x == 'unknown').sum() / len(df) * 100"
      ]
    },
    {
      "cell_type": "markdown",
      "metadata": {
        "id": "devgHcWumqmV"
      },
      "source": [
        "**Pertimbangan handle missing values**<br>\n",
        "Dari data diatas diketahui bahwa data 'unknown' terdapat pada beberapa fitur yaitu:\n",
        "- `job_type` (288 row atau 0.6% dari total row)\n",
        "- `education` (1857 row atau 4.1% dari total row)\n",
        "- `contact_type` (13020 row atau 28.7% dari total row)\n",
        "- `prev_campaign_outcome` (36959 row atau 81.7% dari total row)\n",
        "<br> Fitur yang berisi 'unknown' ini merupakan fitur kategorikal. Opsi yang dapat dipilih untuk menangani permasalahan ini adalah drop row jika total unknown data pada satu fitur tidak lebih dari 10% dari jumlah data (4521) dan imputation menggunakan modus atau nilai lain ataupun nilai konstan.\n",
        "\n",
        "**Conclusion**<br>\n",
        "Data unknown dari fitur diatas akan di isi dengan data modus karena fitur tersebut bersifat kategorik, tidak data unknown yang akan di drop dengan asumsi data tersebut adalah data unique yang akan mempengaruhi asumsi pemodelan dan kualitas data yang akan dihasilkan."
      ]
    },
    {
      "cell_type": "markdown",
      "metadata": {
        "id": "DZl-IX51mqmX"
      },
      "source": [
        "### 1.1.1 Handling `job_type` 'unknown' Values"
      ]
    },
    {
      "cell_type": "markdown",
      "metadata": {
        "id": "F7L2lGBamqmX"
      },
      "source": [
        "Mengecek modus value fitur `job_type`"
      ]
    },
    {
      "cell_type": "code",
      "execution_count": null,
      "metadata": {
        "colab": {
          "base_uri": "https://localhost:8080/"
        },
        "id": "FlZPt1-GmqmY",
        "outputId": "8bd547c9-c946-4509-e1d2-e257951fac12"
      },
      "outputs": [
        {
          "output_type": "execute_result",
          "data": {
            "text/plain": [
              "job_type\n",
              "blue-collar      21.525735\n",
              "management       20.919688\n",
              "technician       16.803433\n",
              "admin.           11.437482\n",
              "services          9.188029\n",
              "retired           5.007631\n",
              "self-employed     3.492513\n",
              "entrepreneur      3.289023\n",
              "unemployed        2.882042\n",
              "housemaid         2.742695\n",
              "student           2.074716\n",
              "unknown           0.637013\n",
              "Name: count, dtype: float64"
            ]
          },
          "metadata": {},
          "execution_count": 8
        }
      ],
      "source": [
        "df['job_type'].value_counts() / len(df) * 100"
      ]
    },
    {
      "cell_type": "code",
      "execution_count": null,
      "metadata": {
        "colab": {
          "base_uri": "https://localhost:8080/",
          "height": 300
        },
        "id": "m1ABiAPUmqma",
        "outputId": "296e8381-df67-4200-a87f-0bd4d18cec68"
      },
      "outputs": [
        {
          "output_type": "execute_result",
          "data": {
            "text/plain": [
              "   education     job_type  percentage\n",
              "0    primary  blue-collar    0.548533\n",
              "1    primary      retired    0.116041\n",
              "2  secondary  blue-collar    0.231489\n",
              "3  secondary   technician    0.225369\n",
              "4   tertiary   management    0.586497\n",
              "5   tertiary   technician    0.147959\n",
              "6    unknown  blue-collar    0.244480\n",
              "7    unknown   management    0.130318"
            ],
            "text/html": [
              "\n",
              "  <div id=\"df-17ac7b6b-66f4-4a10-9184-2cf5837367b5\" class=\"colab-df-container\">\n",
              "    <div>\n",
              "<style scoped>\n",
              "    .dataframe tbody tr th:only-of-type {\n",
              "        vertical-align: middle;\n",
              "    }\n",
              "\n",
              "    .dataframe tbody tr th {\n",
              "        vertical-align: top;\n",
              "    }\n",
              "\n",
              "    .dataframe thead th {\n",
              "        text-align: right;\n",
              "    }\n",
              "</style>\n",
              "<table border=\"1\" class=\"dataframe\">\n",
              "  <thead>\n",
              "    <tr style=\"text-align: right;\">\n",
              "      <th></th>\n",
              "      <th>education</th>\n",
              "      <th>job_type</th>\n",
              "      <th>percentage</th>\n",
              "    </tr>\n",
              "  </thead>\n",
              "  <tbody>\n",
              "    <tr>\n",
              "      <th>0</th>\n",
              "      <td>primary</td>\n",
              "      <td>blue-collar</td>\n",
              "      <td>0.548533</td>\n",
              "    </tr>\n",
              "    <tr>\n",
              "      <th>1</th>\n",
              "      <td>primary</td>\n",
              "      <td>retired</td>\n",
              "      <td>0.116041</td>\n",
              "    </tr>\n",
              "    <tr>\n",
              "      <th>2</th>\n",
              "      <td>secondary</td>\n",
              "      <td>blue-collar</td>\n",
              "      <td>0.231489</td>\n",
              "    </tr>\n",
              "    <tr>\n",
              "      <th>3</th>\n",
              "      <td>secondary</td>\n",
              "      <td>technician</td>\n",
              "      <td>0.225369</td>\n",
              "    </tr>\n",
              "    <tr>\n",
              "      <th>4</th>\n",
              "      <td>tertiary</td>\n",
              "      <td>management</td>\n",
              "      <td>0.586497</td>\n",
              "    </tr>\n",
              "    <tr>\n",
              "      <th>5</th>\n",
              "      <td>tertiary</td>\n",
              "      <td>technician</td>\n",
              "      <td>0.147959</td>\n",
              "    </tr>\n",
              "    <tr>\n",
              "      <th>6</th>\n",
              "      <td>unknown</td>\n",
              "      <td>blue-collar</td>\n",
              "      <td>0.244480</td>\n",
              "    </tr>\n",
              "    <tr>\n",
              "      <th>7</th>\n",
              "      <td>unknown</td>\n",
              "      <td>management</td>\n",
              "      <td>0.130318</td>\n",
              "    </tr>\n",
              "  </tbody>\n",
              "</table>\n",
              "</div>\n",
              "    <div class=\"colab-df-buttons\">\n",
              "\n",
              "  <div class=\"colab-df-container\">\n",
              "    <button class=\"colab-df-convert\" onclick=\"convertToInteractive('df-17ac7b6b-66f4-4a10-9184-2cf5837367b5')\"\n",
              "            title=\"Convert this dataframe to an interactive table.\"\n",
              "            style=\"display:none;\">\n",
              "\n",
              "  <svg xmlns=\"http://www.w3.org/2000/svg\" height=\"24px\" viewBox=\"0 -960 960 960\">\n",
              "    <path d=\"M120-120v-720h720v720H120Zm60-500h600v-160H180v160Zm220 220h160v-160H400v160Zm0 220h160v-160H400v160ZM180-400h160v-160H180v160Zm440 0h160v-160H620v160ZM180-180h160v-160H180v160Zm440 0h160v-160H620v160Z\"/>\n",
              "  </svg>\n",
              "    </button>\n",
              "\n",
              "  <style>\n",
              "    .colab-df-container {\n",
              "      display:flex;\n",
              "      gap: 12px;\n",
              "    }\n",
              "\n",
              "    .colab-df-convert {\n",
              "      background-color: #E8F0FE;\n",
              "      border: none;\n",
              "      border-radius: 50%;\n",
              "      cursor: pointer;\n",
              "      display: none;\n",
              "      fill: #1967D2;\n",
              "      height: 32px;\n",
              "      padding: 0 0 0 0;\n",
              "      width: 32px;\n",
              "    }\n",
              "\n",
              "    .colab-df-convert:hover {\n",
              "      background-color: #E2EBFA;\n",
              "      box-shadow: 0px 1px 2px rgba(60, 64, 67, 0.3), 0px 1px 3px 1px rgba(60, 64, 67, 0.15);\n",
              "      fill: #174EA6;\n",
              "    }\n",
              "\n",
              "    .colab-df-buttons div {\n",
              "      margin-bottom: 4px;\n",
              "    }\n",
              "\n",
              "    [theme=dark] .colab-df-convert {\n",
              "      background-color: #3B4455;\n",
              "      fill: #D2E3FC;\n",
              "    }\n",
              "\n",
              "    [theme=dark] .colab-df-convert:hover {\n",
              "      background-color: #434B5C;\n",
              "      box-shadow: 0px 1px 3px 1px rgba(0, 0, 0, 0.15);\n",
              "      filter: drop-shadow(0px 1px 2px rgba(0, 0, 0, 0.3));\n",
              "      fill: #FFFFFF;\n",
              "    }\n",
              "  </style>\n",
              "\n",
              "    <script>\n",
              "      const buttonEl =\n",
              "        document.querySelector('#df-17ac7b6b-66f4-4a10-9184-2cf5837367b5 button.colab-df-convert');\n",
              "      buttonEl.style.display =\n",
              "        google.colab.kernel.accessAllowed ? 'block' : 'none';\n",
              "\n",
              "      async function convertToInteractive(key) {\n",
              "        const element = document.querySelector('#df-17ac7b6b-66f4-4a10-9184-2cf5837367b5');\n",
              "        const dataTable =\n",
              "          await google.colab.kernel.invokeFunction('convertToInteractive',\n",
              "                                                    [key], {});\n",
              "        if (!dataTable) return;\n",
              "\n",
              "        const docLinkHtml = 'Like what you see? Visit the ' +\n",
              "          '<a target=\"_blank\" href=https://colab.research.google.com/notebooks/data_table.ipynb>data table notebook</a>'\n",
              "          + ' to learn more about interactive tables.';\n",
              "        element.innerHTML = '';\n",
              "        dataTable['output_type'] = 'display_data';\n",
              "        await google.colab.output.renderOutput(dataTable, element);\n",
              "        const docLink = document.createElement('div');\n",
              "        docLink.innerHTML = docLinkHtml;\n",
              "        element.appendChild(docLink);\n",
              "      }\n",
              "    </script>\n",
              "  </div>\n",
              "\n",
              "\n",
              "<div id=\"df-87e4f1bf-f2b4-4d07-855c-84229fa2e004\">\n",
              "  <button class=\"colab-df-quickchart\" onclick=\"quickchart('df-87e4f1bf-f2b4-4d07-855c-84229fa2e004')\"\n",
              "            title=\"Suggest charts\"\n",
              "            style=\"display:none;\">\n",
              "\n",
              "<svg xmlns=\"http://www.w3.org/2000/svg\" height=\"24px\"viewBox=\"0 0 24 24\"\n",
              "     width=\"24px\">\n",
              "    <g>\n",
              "        <path d=\"M19 3H5c-1.1 0-2 .9-2 2v14c0 1.1.9 2 2 2h14c1.1 0 2-.9 2-2V5c0-1.1-.9-2-2-2zM9 17H7v-7h2v7zm4 0h-2V7h2v10zm4 0h-2v-4h2v4z\"/>\n",
              "    </g>\n",
              "</svg>\n",
              "  </button>\n",
              "\n",
              "<style>\n",
              "  .colab-df-quickchart {\n",
              "      --bg-color: #E8F0FE;\n",
              "      --fill-color: #1967D2;\n",
              "      --hover-bg-color: #E2EBFA;\n",
              "      --hover-fill-color: #174EA6;\n",
              "      --disabled-fill-color: #AAA;\n",
              "      --disabled-bg-color: #DDD;\n",
              "  }\n",
              "\n",
              "  [theme=dark] .colab-df-quickchart {\n",
              "      --bg-color: #3B4455;\n",
              "      --fill-color: #D2E3FC;\n",
              "      --hover-bg-color: #434B5C;\n",
              "      --hover-fill-color: #FFFFFF;\n",
              "      --disabled-bg-color: #3B4455;\n",
              "      --disabled-fill-color: #666;\n",
              "  }\n",
              "\n",
              "  .colab-df-quickchart {\n",
              "    background-color: var(--bg-color);\n",
              "    border: none;\n",
              "    border-radius: 50%;\n",
              "    cursor: pointer;\n",
              "    display: none;\n",
              "    fill: var(--fill-color);\n",
              "    height: 32px;\n",
              "    padding: 0;\n",
              "    width: 32px;\n",
              "  }\n",
              "\n",
              "  .colab-df-quickchart:hover {\n",
              "    background-color: var(--hover-bg-color);\n",
              "    box-shadow: 0 1px 2px rgba(60, 64, 67, 0.3), 0 1px 3px 1px rgba(60, 64, 67, 0.15);\n",
              "    fill: var(--button-hover-fill-color);\n",
              "  }\n",
              "\n",
              "  .colab-df-quickchart-complete:disabled,\n",
              "  .colab-df-quickchart-complete:disabled:hover {\n",
              "    background-color: var(--disabled-bg-color);\n",
              "    fill: var(--disabled-fill-color);\n",
              "    box-shadow: none;\n",
              "  }\n",
              "\n",
              "  .colab-df-spinner {\n",
              "    border: 2px solid var(--fill-color);\n",
              "    border-color: transparent;\n",
              "    border-bottom-color: var(--fill-color);\n",
              "    animation:\n",
              "      spin 1s steps(1) infinite;\n",
              "  }\n",
              "\n",
              "  @keyframes spin {\n",
              "    0% {\n",
              "      border-color: transparent;\n",
              "      border-bottom-color: var(--fill-color);\n",
              "      border-left-color: var(--fill-color);\n",
              "    }\n",
              "    20% {\n",
              "      border-color: transparent;\n",
              "      border-left-color: var(--fill-color);\n",
              "      border-top-color: var(--fill-color);\n",
              "    }\n",
              "    30% {\n",
              "      border-color: transparent;\n",
              "      border-left-color: var(--fill-color);\n",
              "      border-top-color: var(--fill-color);\n",
              "      border-right-color: var(--fill-color);\n",
              "    }\n",
              "    40% {\n",
              "      border-color: transparent;\n",
              "      border-right-color: var(--fill-color);\n",
              "      border-top-color: var(--fill-color);\n",
              "    }\n",
              "    60% {\n",
              "      border-color: transparent;\n",
              "      border-right-color: var(--fill-color);\n",
              "    }\n",
              "    80% {\n",
              "      border-color: transparent;\n",
              "      border-right-color: var(--fill-color);\n",
              "      border-bottom-color: var(--fill-color);\n",
              "    }\n",
              "    90% {\n",
              "      border-color: transparent;\n",
              "      border-bottom-color: var(--fill-color);\n",
              "    }\n",
              "  }\n",
              "</style>\n",
              "\n",
              "  <script>\n",
              "    async function quickchart(key) {\n",
              "      const quickchartButtonEl =\n",
              "        document.querySelector('#' + key + ' button');\n",
              "      quickchartButtonEl.disabled = true;  // To prevent multiple clicks.\n",
              "      quickchartButtonEl.classList.add('colab-df-spinner');\n",
              "      try {\n",
              "        const charts = await google.colab.kernel.invokeFunction(\n",
              "            'suggestCharts', [key], {});\n",
              "      } catch (error) {\n",
              "        console.error('Error during call to suggestCharts:', error);\n",
              "      }\n",
              "      quickchartButtonEl.classList.remove('colab-df-spinner');\n",
              "      quickchartButtonEl.classList.add('colab-df-quickchart-complete');\n",
              "    }\n",
              "    (() => {\n",
              "      let quickchartButtonEl =\n",
              "        document.querySelector('#df-87e4f1bf-f2b4-4d07-855c-84229fa2e004 button');\n",
              "      quickchartButtonEl.style.display =\n",
              "        google.colab.kernel.accessAllowed ? 'block' : 'none';\n",
              "    })();\n",
              "  </script>\n",
              "</div>\n",
              "    </div>\n",
              "  </div>\n"
            ],
            "application/vnd.google.colaboratory.intrinsic+json": {
              "type": "dataframe",
              "summary": "{\n  \"name\": \"df\",\n  \"rows\": 8,\n  \"fields\": [\n    {\n      \"column\": \"education\",\n      \"properties\": {\n        \"dtype\": \"string\",\n        \"num_unique_values\": 4,\n        \"samples\": [\n          \"secondary\",\n          \"unknown\",\n          \"primary\"\n        ],\n        \"semantic_type\": \"\",\n        \"description\": \"\"\n      }\n    },\n    {\n      \"column\": \"job_type\",\n      \"properties\": {\n        \"dtype\": \"string\",\n        \"num_unique_values\": 4,\n        \"samples\": [\n          \"retired\",\n          \"management\",\n          \"blue-collar\"\n        ],\n        \"semantic_type\": \"\",\n        \"description\": \"\"\n      }\n    },\n    {\n      \"column\": \"percentage\",\n      \"properties\": {\n        \"dtype\": \"number\",\n        \"std\": 0.18491750811438254,\n        \"min\": 0.11604145380236462,\n        \"max\": 0.5864972558454251,\n        \"num_unique_values\": 8,\n        \"samples\": [\n          0.11604145380236462,\n          0.14795880009021878,\n          0.5485330608670267\n        ],\n        \"semantic_type\": \"\",\n        \"description\": \"\"\n      }\n    }\n  ]\n}"
            }
          },
          "metadata": {},
          "execution_count": 9
        }
      ],
      "source": [
        "df.groupby(['education', 'job_type']).size().groupby('education', group_keys=False).apply(lambda x: x.sort_values(ascending=False).head(2) / x.sum()).reset_index(name='percentage').sort_values(['education', 'percentage'], ascending=[True, False])"
      ]
    },
    {
      "cell_type": "markdown",
      "metadata": {
        "id": "o4hWlhMumqmc"
      },
      "source": [
        "Modus dari fitur `job_type` yaitu 'blue-collar' jumlah datanya tidak terlalu berbeda dengan modus kedua yaitu 'management'. Kemudian ketika di cek cara lain, yaitu mengecek modus `job_type` berdasarkan `education`, terlihat bahwa beberapa `education` modus `job_type` nya hampir mendekati. Mempertimbangkan hal ini dan juga jumlah unknown yang hanya 0.6% atau 288 row dari keseluruhan data, maka baris data yang berisi value 'unknown' pada fitur `job_type` akan di drop."
      ]
    },
    {
      "cell_type": "code",
      "execution_count": null,
      "metadata": {
        "id": "VQfzDB2gmqmd"
      },
      "outputs": [],
      "source": [
        "# drop row dengan values unknown pada 'job_type\n",
        "df.drop(df[df['job_type'] == 'unknown'].index, inplace=True)"
      ]
    },
    {
      "cell_type": "code",
      "execution_count": null,
      "metadata": {
        "colab": {
          "base_uri": "https://localhost:8080/"
        },
        "id": "euA0hQ7kmqme",
        "outputId": "8377d52d-1e7b-4436-a868-fcc65fcb717b"
      },
      "outputs": [
        {
          "output_type": "execute_result",
          "data": {
            "text/plain": [
              "job_type\n",
              "blue-collar      9732\n",
              "management       9458\n",
              "technician       7597\n",
              "admin.           5171\n",
              "services         4154\n",
              "retired          2264\n",
              "self-employed    1579\n",
              "entrepreneur     1487\n",
              "unemployed       1303\n",
              "housemaid        1240\n",
              "student           938\n",
              "Name: count, dtype: int64"
            ]
          },
          "metadata": {},
          "execution_count": 11
        }
      ],
      "source": [
        "df['job_type'].value_counts()"
      ]
    },
    {
      "cell_type": "code",
      "execution_count": null,
      "metadata": {
        "id": "vg88jR8hmqmf"
      },
      "outputs": [],
      "source": [
        "# Mengganti values 'job_type' admin. menjadi admin\n",
        "df['job_type'] = df['job_type'].replace('admin.', 'admin')"
      ]
    },
    {
      "cell_type": "markdown",
      "metadata": {
        "id": "iDeTkIaCmqmf"
      },
      "source": [
        "### 1.1.2 Handling `education` 'unknown' Values"
      ]
    },
    {
      "cell_type": "code",
      "execution_count": null,
      "metadata": {
        "colab": {
          "base_uri": "https://localhost:8080/"
        },
        "id": "jxNeEAMGmqmg",
        "outputId": "b6033832-3cd8-49f5-a72f-61d197d15d20"
      },
      "outputs": [
        {
          "output_type": "execute_result",
          "data": {
            "text/plain": [
              "education\n",
              "secondary    51.490328\n",
              "tertiary     29.521626\n",
              "primary      15.137012\n",
              "unknown       3.851034\n",
              "Name: count, dtype: float64"
            ]
          },
          "metadata": {},
          "execution_count": 13
        }
      ],
      "source": [
        "\n",
        "df['education'].value_counts() / len(df) * 100"
      ]
    },
    {
      "cell_type": "code",
      "execution_count": null,
      "metadata": {
        "colab": {
          "base_uri": "https://localhost:8080/",
          "height": 739
        },
        "id": "eoFOCpepmqmh",
        "outputId": "c2688718-8e6a-40ed-c073-82082c869c2e"
      },
      "outputs": [
        {
          "output_type": "execute_result",
          "data": {
            "text/plain": [
              "         job_type  education  percentage\n",
              "0           admin  secondary    0.815896\n",
              "1           admin   tertiary    0.110617\n",
              "2     blue-collar  secondary    0.551891\n",
              "3     blue-collar    primary    0.386149\n",
              "4    entrepreneur   tertiary    0.461332\n",
              "5    entrepreneur  secondary    0.364492\n",
              "6       housemaid    primary    0.505645\n",
              "7       housemaid  secondary    0.318548\n",
              "8      management   tertiary    0.824804\n",
              "9      management  secondary    0.118524\n",
              "10        retired  secondary    0.434629\n",
              "11        retired    primary    0.351148\n",
              "12  self-employed   tertiary    0.527549\n",
              "13  self-employed  secondary    0.365421\n",
              "14       services  secondary    0.832210\n",
              "15       services    primary    0.083052\n",
              "16        student  secondary    0.541578\n",
              "17        student   tertiary    0.237740\n",
              "18     technician  secondary    0.688298\n",
              "19     technician   tertiary    0.259050\n",
              "20     unemployed  secondary    0.558711\n",
              "21     unemployed   tertiary    0.221796"
            ],
            "text/html": [
              "\n",
              "  <div id=\"df-45c36689-ba38-4e66-866a-a3a920399044\" class=\"colab-df-container\">\n",
              "    <div>\n",
              "<style scoped>\n",
              "    .dataframe tbody tr th:only-of-type {\n",
              "        vertical-align: middle;\n",
              "    }\n",
              "\n",
              "    .dataframe tbody tr th {\n",
              "        vertical-align: top;\n",
              "    }\n",
              "\n",
              "    .dataframe thead th {\n",
              "        text-align: right;\n",
              "    }\n",
              "</style>\n",
              "<table border=\"1\" class=\"dataframe\">\n",
              "  <thead>\n",
              "    <tr style=\"text-align: right;\">\n",
              "      <th></th>\n",
              "      <th>job_type</th>\n",
              "      <th>education</th>\n",
              "      <th>percentage</th>\n",
              "    </tr>\n",
              "  </thead>\n",
              "  <tbody>\n",
              "    <tr>\n",
              "      <th>0</th>\n",
              "      <td>admin</td>\n",
              "      <td>secondary</td>\n",
              "      <td>0.815896</td>\n",
              "    </tr>\n",
              "    <tr>\n",
              "      <th>1</th>\n",
              "      <td>admin</td>\n",
              "      <td>tertiary</td>\n",
              "      <td>0.110617</td>\n",
              "    </tr>\n",
              "    <tr>\n",
              "      <th>2</th>\n",
              "      <td>blue-collar</td>\n",
              "      <td>secondary</td>\n",
              "      <td>0.551891</td>\n",
              "    </tr>\n",
              "    <tr>\n",
              "      <th>3</th>\n",
              "      <td>blue-collar</td>\n",
              "      <td>primary</td>\n",
              "      <td>0.386149</td>\n",
              "    </tr>\n",
              "    <tr>\n",
              "      <th>4</th>\n",
              "      <td>entrepreneur</td>\n",
              "      <td>tertiary</td>\n",
              "      <td>0.461332</td>\n",
              "    </tr>\n",
              "    <tr>\n",
              "      <th>5</th>\n",
              "      <td>entrepreneur</td>\n",
              "      <td>secondary</td>\n",
              "      <td>0.364492</td>\n",
              "    </tr>\n",
              "    <tr>\n",
              "      <th>6</th>\n",
              "      <td>housemaid</td>\n",
              "      <td>primary</td>\n",
              "      <td>0.505645</td>\n",
              "    </tr>\n",
              "    <tr>\n",
              "      <th>7</th>\n",
              "      <td>housemaid</td>\n",
              "      <td>secondary</td>\n",
              "      <td>0.318548</td>\n",
              "    </tr>\n",
              "    <tr>\n",
              "      <th>8</th>\n",
              "      <td>management</td>\n",
              "      <td>tertiary</td>\n",
              "      <td>0.824804</td>\n",
              "    </tr>\n",
              "    <tr>\n",
              "      <th>9</th>\n",
              "      <td>management</td>\n",
              "      <td>secondary</td>\n",
              "      <td>0.118524</td>\n",
              "    </tr>\n",
              "    <tr>\n",
              "      <th>10</th>\n",
              "      <td>retired</td>\n",
              "      <td>secondary</td>\n",
              "      <td>0.434629</td>\n",
              "    </tr>\n",
              "    <tr>\n",
              "      <th>11</th>\n",
              "      <td>retired</td>\n",
              "      <td>primary</td>\n",
              "      <td>0.351148</td>\n",
              "    </tr>\n",
              "    <tr>\n",
              "      <th>12</th>\n",
              "      <td>self-employed</td>\n",
              "      <td>tertiary</td>\n",
              "      <td>0.527549</td>\n",
              "    </tr>\n",
              "    <tr>\n",
              "      <th>13</th>\n",
              "      <td>self-employed</td>\n",
              "      <td>secondary</td>\n",
              "      <td>0.365421</td>\n",
              "    </tr>\n",
              "    <tr>\n",
              "      <th>14</th>\n",
              "      <td>services</td>\n",
              "      <td>secondary</td>\n",
              "      <td>0.832210</td>\n",
              "    </tr>\n",
              "    <tr>\n",
              "      <th>15</th>\n",
              "      <td>services</td>\n",
              "      <td>primary</td>\n",
              "      <td>0.083052</td>\n",
              "    </tr>\n",
              "    <tr>\n",
              "      <th>16</th>\n",
              "      <td>student</td>\n",
              "      <td>secondary</td>\n",
              "      <td>0.541578</td>\n",
              "    </tr>\n",
              "    <tr>\n",
              "      <th>17</th>\n",
              "      <td>student</td>\n",
              "      <td>tertiary</td>\n",
              "      <td>0.237740</td>\n",
              "    </tr>\n",
              "    <tr>\n",
              "      <th>18</th>\n",
              "      <td>technician</td>\n",
              "      <td>secondary</td>\n",
              "      <td>0.688298</td>\n",
              "    </tr>\n",
              "    <tr>\n",
              "      <th>19</th>\n",
              "      <td>technician</td>\n",
              "      <td>tertiary</td>\n",
              "      <td>0.259050</td>\n",
              "    </tr>\n",
              "    <tr>\n",
              "      <th>20</th>\n",
              "      <td>unemployed</td>\n",
              "      <td>secondary</td>\n",
              "      <td>0.558711</td>\n",
              "    </tr>\n",
              "    <tr>\n",
              "      <th>21</th>\n",
              "      <td>unemployed</td>\n",
              "      <td>tertiary</td>\n",
              "      <td>0.221796</td>\n",
              "    </tr>\n",
              "  </tbody>\n",
              "</table>\n",
              "</div>\n",
              "    <div class=\"colab-df-buttons\">\n",
              "\n",
              "  <div class=\"colab-df-container\">\n",
              "    <button class=\"colab-df-convert\" onclick=\"convertToInteractive('df-45c36689-ba38-4e66-866a-a3a920399044')\"\n",
              "            title=\"Convert this dataframe to an interactive table.\"\n",
              "            style=\"display:none;\">\n",
              "\n",
              "  <svg xmlns=\"http://www.w3.org/2000/svg\" height=\"24px\" viewBox=\"0 -960 960 960\">\n",
              "    <path d=\"M120-120v-720h720v720H120Zm60-500h600v-160H180v160Zm220 220h160v-160H400v160Zm0 220h160v-160H400v160ZM180-400h160v-160H180v160Zm440 0h160v-160H620v160ZM180-180h160v-160H180v160Zm440 0h160v-160H620v160Z\"/>\n",
              "  </svg>\n",
              "    </button>\n",
              "\n",
              "  <style>\n",
              "    .colab-df-container {\n",
              "      display:flex;\n",
              "      gap: 12px;\n",
              "    }\n",
              "\n",
              "    .colab-df-convert {\n",
              "      background-color: #E8F0FE;\n",
              "      border: none;\n",
              "      border-radius: 50%;\n",
              "      cursor: pointer;\n",
              "      display: none;\n",
              "      fill: #1967D2;\n",
              "      height: 32px;\n",
              "      padding: 0 0 0 0;\n",
              "      width: 32px;\n",
              "    }\n",
              "\n",
              "    .colab-df-convert:hover {\n",
              "      background-color: #E2EBFA;\n",
              "      box-shadow: 0px 1px 2px rgba(60, 64, 67, 0.3), 0px 1px 3px 1px rgba(60, 64, 67, 0.15);\n",
              "      fill: #174EA6;\n",
              "    }\n",
              "\n",
              "    .colab-df-buttons div {\n",
              "      margin-bottom: 4px;\n",
              "    }\n",
              "\n",
              "    [theme=dark] .colab-df-convert {\n",
              "      background-color: #3B4455;\n",
              "      fill: #D2E3FC;\n",
              "    }\n",
              "\n",
              "    [theme=dark] .colab-df-convert:hover {\n",
              "      background-color: #434B5C;\n",
              "      box-shadow: 0px 1px 3px 1px rgba(0, 0, 0, 0.15);\n",
              "      filter: drop-shadow(0px 1px 2px rgba(0, 0, 0, 0.3));\n",
              "      fill: #FFFFFF;\n",
              "    }\n",
              "  </style>\n",
              "\n",
              "    <script>\n",
              "      const buttonEl =\n",
              "        document.querySelector('#df-45c36689-ba38-4e66-866a-a3a920399044 button.colab-df-convert');\n",
              "      buttonEl.style.display =\n",
              "        google.colab.kernel.accessAllowed ? 'block' : 'none';\n",
              "\n",
              "      async function convertToInteractive(key) {\n",
              "        const element = document.querySelector('#df-45c36689-ba38-4e66-866a-a3a920399044');\n",
              "        const dataTable =\n",
              "          await google.colab.kernel.invokeFunction('convertToInteractive',\n",
              "                                                    [key], {});\n",
              "        if (!dataTable) return;\n",
              "\n",
              "        const docLinkHtml = 'Like what you see? Visit the ' +\n",
              "          '<a target=\"_blank\" href=https://colab.research.google.com/notebooks/data_table.ipynb>data table notebook</a>'\n",
              "          + ' to learn more about interactive tables.';\n",
              "        element.innerHTML = '';\n",
              "        dataTable['output_type'] = 'display_data';\n",
              "        await google.colab.output.renderOutput(dataTable, element);\n",
              "        const docLink = document.createElement('div');\n",
              "        docLink.innerHTML = docLinkHtml;\n",
              "        element.appendChild(docLink);\n",
              "      }\n",
              "    </script>\n",
              "  </div>\n",
              "\n",
              "\n",
              "<div id=\"df-bf8eefb1-81c9-483d-a13b-1a313a26ecec\">\n",
              "  <button class=\"colab-df-quickchart\" onclick=\"quickchart('df-bf8eefb1-81c9-483d-a13b-1a313a26ecec')\"\n",
              "            title=\"Suggest charts\"\n",
              "            style=\"display:none;\">\n",
              "\n",
              "<svg xmlns=\"http://www.w3.org/2000/svg\" height=\"24px\"viewBox=\"0 0 24 24\"\n",
              "     width=\"24px\">\n",
              "    <g>\n",
              "        <path d=\"M19 3H5c-1.1 0-2 .9-2 2v14c0 1.1.9 2 2 2h14c1.1 0 2-.9 2-2V5c0-1.1-.9-2-2-2zM9 17H7v-7h2v7zm4 0h-2V7h2v10zm4 0h-2v-4h2v4z\"/>\n",
              "    </g>\n",
              "</svg>\n",
              "  </button>\n",
              "\n",
              "<style>\n",
              "  .colab-df-quickchart {\n",
              "      --bg-color: #E8F0FE;\n",
              "      --fill-color: #1967D2;\n",
              "      --hover-bg-color: #E2EBFA;\n",
              "      --hover-fill-color: #174EA6;\n",
              "      --disabled-fill-color: #AAA;\n",
              "      --disabled-bg-color: #DDD;\n",
              "  }\n",
              "\n",
              "  [theme=dark] .colab-df-quickchart {\n",
              "      --bg-color: #3B4455;\n",
              "      --fill-color: #D2E3FC;\n",
              "      --hover-bg-color: #434B5C;\n",
              "      --hover-fill-color: #FFFFFF;\n",
              "      --disabled-bg-color: #3B4455;\n",
              "      --disabled-fill-color: #666;\n",
              "  }\n",
              "\n",
              "  .colab-df-quickchart {\n",
              "    background-color: var(--bg-color);\n",
              "    border: none;\n",
              "    border-radius: 50%;\n",
              "    cursor: pointer;\n",
              "    display: none;\n",
              "    fill: var(--fill-color);\n",
              "    height: 32px;\n",
              "    padding: 0;\n",
              "    width: 32px;\n",
              "  }\n",
              "\n",
              "  .colab-df-quickchart:hover {\n",
              "    background-color: var(--hover-bg-color);\n",
              "    box-shadow: 0 1px 2px rgba(60, 64, 67, 0.3), 0 1px 3px 1px rgba(60, 64, 67, 0.15);\n",
              "    fill: var(--button-hover-fill-color);\n",
              "  }\n",
              "\n",
              "  .colab-df-quickchart-complete:disabled,\n",
              "  .colab-df-quickchart-complete:disabled:hover {\n",
              "    background-color: var(--disabled-bg-color);\n",
              "    fill: var(--disabled-fill-color);\n",
              "    box-shadow: none;\n",
              "  }\n",
              "\n",
              "  .colab-df-spinner {\n",
              "    border: 2px solid var(--fill-color);\n",
              "    border-color: transparent;\n",
              "    border-bottom-color: var(--fill-color);\n",
              "    animation:\n",
              "      spin 1s steps(1) infinite;\n",
              "  }\n",
              "\n",
              "  @keyframes spin {\n",
              "    0% {\n",
              "      border-color: transparent;\n",
              "      border-bottom-color: var(--fill-color);\n",
              "      border-left-color: var(--fill-color);\n",
              "    }\n",
              "    20% {\n",
              "      border-color: transparent;\n",
              "      border-left-color: var(--fill-color);\n",
              "      border-top-color: var(--fill-color);\n",
              "    }\n",
              "    30% {\n",
              "      border-color: transparent;\n",
              "      border-left-color: var(--fill-color);\n",
              "      border-top-color: var(--fill-color);\n",
              "      border-right-color: var(--fill-color);\n",
              "    }\n",
              "    40% {\n",
              "      border-color: transparent;\n",
              "      border-right-color: var(--fill-color);\n",
              "      border-top-color: var(--fill-color);\n",
              "    }\n",
              "    60% {\n",
              "      border-color: transparent;\n",
              "      border-right-color: var(--fill-color);\n",
              "    }\n",
              "    80% {\n",
              "      border-color: transparent;\n",
              "      border-right-color: var(--fill-color);\n",
              "      border-bottom-color: var(--fill-color);\n",
              "    }\n",
              "    90% {\n",
              "      border-color: transparent;\n",
              "      border-bottom-color: var(--fill-color);\n",
              "    }\n",
              "  }\n",
              "</style>\n",
              "\n",
              "  <script>\n",
              "    async function quickchart(key) {\n",
              "      const quickchartButtonEl =\n",
              "        document.querySelector('#' + key + ' button');\n",
              "      quickchartButtonEl.disabled = true;  // To prevent multiple clicks.\n",
              "      quickchartButtonEl.classList.add('colab-df-spinner');\n",
              "      try {\n",
              "        const charts = await google.colab.kernel.invokeFunction(\n",
              "            'suggestCharts', [key], {});\n",
              "      } catch (error) {\n",
              "        console.error('Error during call to suggestCharts:', error);\n",
              "      }\n",
              "      quickchartButtonEl.classList.remove('colab-df-spinner');\n",
              "      quickchartButtonEl.classList.add('colab-df-quickchart-complete');\n",
              "    }\n",
              "    (() => {\n",
              "      let quickchartButtonEl =\n",
              "        document.querySelector('#df-bf8eefb1-81c9-483d-a13b-1a313a26ecec button');\n",
              "      quickchartButtonEl.style.display =\n",
              "        google.colab.kernel.accessAllowed ? 'block' : 'none';\n",
              "    })();\n",
              "  </script>\n",
              "</div>\n",
              "    </div>\n",
              "  </div>\n"
            ],
            "application/vnd.google.colaboratory.intrinsic+json": {
              "type": "dataframe",
              "summary": "{\n  \"name\": \"df\",\n  \"rows\": 22,\n  \"fields\": [\n    {\n      \"column\": \"job_type\",\n      \"properties\": {\n        \"dtype\": \"string\",\n        \"num_unique_values\": 11,\n        \"samples\": [\n          \"retired\",\n          \"admin\",\n          \"technician\"\n        ],\n        \"semantic_type\": \"\",\n        \"description\": \"\"\n      }\n    },\n    {\n      \"column\": \"education\",\n      \"properties\": {\n        \"dtype\": \"category\",\n        \"num_unique_values\": 3,\n        \"samples\": [\n          \"secondary\",\n          \"tertiary\",\n          \"primary\"\n        ],\n        \"semantic_type\": \"\",\n        \"description\": \"\"\n      }\n    },\n    {\n      \"column\": \"percentage\",\n      \"properties\": {\n        \"dtype\": \"number\",\n        \"std\": 0.22370276843073933,\n        \"min\": 0.08305247953779489,\n        \"max\": 0.8322099181511796,\n        \"num_unique_values\": 22,\n        \"samples\": [\n          0.815896345000967,\n          0.3654211526282457,\n          0.8248043983928949\n        ],\n        \"semantic_type\": \"\",\n        \"description\": \"\"\n      }\n    }\n  ]\n}"
            }
          },
          "metadata": {},
          "execution_count": 14
        }
      ],
      "source": [
        "df.groupby(['job_type','education']).size().groupby('job_type', group_keys=False).apply(lambda x: x.sort_values(ascending=False).head(2) / x.sum()).reset_index(name='percentage').sort_values(['job_type', 'percentage'], ascending=[True, False])"
      ]
    },
    {
      "cell_type": "markdown",
      "metadata": {
        "id": "zQX3Lm74mqmi"
      },
      "source": [
        "Modus dari fitur `education` yaitu 'secondary' dengan jarak yang cukup jauh dengan modus kedua 'tertiary', ketika dilihat dengan cara lain yaitu modus `education` berdasarkan `job_type`, dapat dilihat bahwa setiap `education` dari `job_type` memang didominasi oleh 'secondary' dan beberapa ada yang 'tertiary'. Jarak diantara modus pertama dan modus kedua juga tidak terlalu dekat. Sehingga akan dilakukan imputation nilai unknown dari fitur `education` dengan modus dari `education` dari setiap `job_type`"
      ]
    },
    {
      "cell_type": "code",
      "execution_count": null,
      "metadata": {
        "id": "nq2BmjYYmqmi"
      },
      "outputs": [],
      "source": [
        "#Mengisi nilai unknown dari 'education' dengan modus 'education' dari setiap 'job_type'\n",
        "def fill_unknown_education(df):\n",
        "    mode_dict = df[df['education'] != 'unknown'].groupby('job_type')['education'].apply(lambda x: x.mode().iloc[0]).to_dict()\n",
        "    df['education'] = df.apply(lambda row: mode_dict[row['job_type']] if row['education'] == 'unknown' else row['education'], axis=1)\n",
        "    return df\n",
        "\n",
        "df = fill_unknown_education(df)"
      ]
    },
    {
      "cell_type": "markdown",
      "metadata": {
        "id": "NuUhS9XCmqmj"
      },
      "source": [
        "### 1.1.3 Handling `contact_type` 'unknown' Values"
      ]
    },
    {
      "cell_type": "code",
      "execution_count": null,
      "metadata": {
        "colab": {
          "base_uri": "https://localhost:8080/"
        },
        "id": "XLXCWktjmqmk",
        "outputId": "edd2859c-02a0-4ce0-a841-9ffaba35a531"
      },
      "outputs": [
        {
          "output_type": "execute_result",
          "data": {
            "text/plain": [
              "contact_type\n",
              "cellular     64.897714\n",
              "unknown      28.735837\n",
              "telephone     6.366449\n",
              "Name: count, dtype: float64"
            ]
          },
          "metadata": {},
          "execution_count": 16
        }
      ],
      "source": [
        "\n",
        "df['contact_type'].value_counts() / len(df) * 100"
      ]
    },
    {
      "cell_type": "markdown",
      "metadata": {
        "id": "Bw0pF6tzmqmk"
      },
      "source": [
        "Modus dari fitur `contact_type` yaitu 'cellular' dengan jarak terhadap modus kedua tidak berdekatan sehingga nilai unknown pada fitur `contact_type` akan dilakukan imputation dengan nilai modus yaitu 'cellular'"
      ]
    },
    {
      "cell_type": "code",
      "execution_count": null,
      "metadata": {
        "id": "lk99bkKgmqmn"
      },
      "outputs": [],
      "source": [
        "# Mengisi nilai inknown dengan modus dari 'contact_type'\n",
        "df['contact_type'].replace(['unknown'],df['contact_type'].mode(),inplace = True)"
      ]
    },
    {
      "cell_type": "code",
      "execution_count": null,
      "metadata": {
        "colab": {
          "base_uri": "https://localhost:8080/"
        },
        "id": "VBVDRi27mqmo",
        "outputId": "fc8d9ea6-a676-4df3-ac5b-05b8f5f5e5c9"
      },
      "outputs": [
        {
          "output_type": "execute_result",
          "data": {
            "text/plain": [
              "contact_type\n",
              "cellular     42063\n",
              "telephone     2860\n",
              "Name: count, dtype: int64"
            ]
          },
          "metadata": {},
          "execution_count": 18
        }
      ],
      "source": [
        "df['contact_type'].value_counts()"
      ]
    },
    {
      "cell_type": "markdown",
      "metadata": {
        "id": "iDA6Ukfimqmp"
      },
      "source": [
        "### 1.1.4 Handling `prev_campaign_outcome` 'unknown' Values"
      ]
    },
    {
      "cell_type": "code",
      "execution_count": null,
      "metadata": {
        "colab": {
          "base_uri": "https://localhost:8080/"
        },
        "id": "9zmA32Q3mqmr",
        "outputId": "9f8dd4d1-7143-49e8-d100-7ed6ea5a7efa"
      },
      "outputs": [
        {
          "output_type": "execute_result",
          "data": {
            "text/plain": [
              "prev_campaign_outcome\n",
              "unknown    81.704249\n",
              "failure    10.865258\n",
              "other       4.091445\n",
              "success     3.339047\n",
              "Name: count, dtype: float64"
            ]
          },
          "metadata": {},
          "execution_count": 19
        }
      ],
      "source": [
        "df['prev_campaign_outcome'].value_counts() / len(df) * 100"
      ]
    },
    {
      "cell_type": "markdown",
      "metadata": {
        "id": "3pCCEoA7mqms"
      },
      "source": [
        "Nilai 'unknown' pada fitur `prev_campaign_outcome` sangat mendominasi hingga 81.7% dari total kesluruhan row data. Sehingga jika mengisinya langsung dengan modus yaitu failure merupakan keputusan yang kurang bijak. Untuk mengatasi hal ini, sebelumnya perlu dicek apakah ada pola tertentu yang berhubungan dengan kolom lain dengan nilai 'unknown' pada fitur `prev_campaign_outcome`"
      ]
    },
    {
      "cell_type": "code",
      "execution_count": null,
      "metadata": {
        "colab": {
          "base_uri": "https://localhost:8080/"
        },
        "id": "1bN164Ijmqmt",
        "outputId": "35bc8430-f25c-438d-e03a-28f531d68307"
      },
      "outputs": [
        {
          "output_type": "execute_result",
          "data": {
            "text/plain": [
              "(36704, 17)"
            ]
          },
          "metadata": {},
          "execution_count": 20
        }
      ],
      "source": [
        "df[df['prev_campaign_outcome'] == 'unknown'].shape"
      ]
    },
    {
      "cell_type": "code",
      "execution_count": null,
      "metadata": {
        "colab": {
          "base_uri": "https://localhost:8080/"
        },
        "id": "diBPr-XWmqmu",
        "outputId": "d08367a4-a6c8-45d6-9386-7573541043b9"
      },
      "outputs": [
        {
          "output_type": "execute_result",
          "data": {
            "text/plain": [
              "(36699, 17)"
            ]
          },
          "metadata": {},
          "execution_count": 21
        }
      ],
      "source": [
        "df[(df['prev_campaign_outcome'] == 'unknown') &\n",
        "   (df['days_since_last_contacted'] == -1) &\n",
        "   (df['num_contacts_before_campaign'] == 0)].shape"
      ]
    },
    {
      "cell_type": "code",
      "execution_count": null,
      "metadata": {
        "colab": {
          "base_uri": "https://localhost:8080/",
          "height": 443
        },
        "id": "iXRZDQhVmqmv",
        "outputId": "b7d7ffd0-62fb-44f7-d8a9-f63026c0a275"
      },
      "outputs": [
        {
          "output_type": "execute_result",
          "data": {
            "text/plain": [
              "       age      job_type marital_status  education has_default  balance  \\\n",
              "0       58    management        married   tertiary          no     2143   \n",
              "1       44    technician         single  secondary          no       29   \n",
              "2       33  entrepreneur        married  secondary          no        2   \n",
              "3       47   blue-collar        married  secondary          no     1506   \n",
              "5       35    management        married   tertiary          no      231   \n",
              "...    ...           ...            ...        ...         ...      ...   \n",
              "45203   23       student         single   tertiary          no      113   \n",
              "45205   25    technician         single  secondary          no      505   \n",
              "45206   51    technician        married   tertiary          no      825   \n",
              "45207   71       retired       divorced    primary          no     1729   \n",
              "45209   57   blue-collar        married  secondary          no      668   \n",
              "\n",
              "      has_housing_loan has_personal_loan contact_type  last_contact_day  \\\n",
              "0                  yes                no     cellular                 5   \n",
              "1                  yes                no     cellular                 5   \n",
              "2                  yes               yes     cellular                 5   \n",
              "3                  yes                no     cellular                 5   \n",
              "5                  yes                no     cellular                 5   \n",
              "...                ...               ...          ...               ...   \n",
              "45203               no                no     cellular                17   \n",
              "45205               no               yes     cellular                17   \n",
              "45206               no                no     cellular                17   \n",
              "45207               no                no     cellular                17   \n",
              "45209               no                no    telephone                17   \n",
              "\n",
              "      last_contact_month  last_contact_duration  num_contacts_campaign  \\\n",
              "0                    may                    261                      1   \n",
              "1                    may                    151                      1   \n",
              "2                    may                     76                      1   \n",
              "3                    may                     92                      1   \n",
              "5                    may                    139                      1   \n",
              "...                  ...                    ...                    ...   \n",
              "45203                nov                    266                      1   \n",
              "45205                nov                    386                      2   \n",
              "45206                nov                    977                      3   \n",
              "45207                nov                    456                      2   \n",
              "45209                nov                    508                      4   \n",
              "\n",
              "       days_since_last_contacted  num_contacts_before_campaign  \\\n",
              "0                             -1                             0   \n",
              "1                             -1                             0   \n",
              "2                             -1                             0   \n",
              "3                             -1                             0   \n",
              "5                             -1                             0   \n",
              "...                          ...                           ...   \n",
              "45203                         -1                             0   \n",
              "45205                         -1                             0   \n",
              "45206                         -1                             0   \n",
              "45207                         -1                             0   \n",
              "45209                         -1                             0   \n",
              "\n",
              "      prev_campaign_outcome has_subs_deposit  \n",
              "0                   unknown               no  \n",
              "1                   unknown               no  \n",
              "2                   unknown               no  \n",
              "3                   unknown               no  \n",
              "5                   unknown               no  \n",
              "...                     ...              ...  \n",
              "45203               unknown              yes  \n",
              "45205               unknown              yes  \n",
              "45206               unknown              yes  \n",
              "45207               unknown              yes  \n",
              "45209               unknown               no  \n",
              "\n",
              "[36699 rows x 17 columns]"
            ],
            "text/html": [
              "\n",
              "  <div id=\"df-63db49d0-6505-40fc-999b-ecc6fe350d59\" class=\"colab-df-container\">\n",
              "    <div>\n",
              "<style scoped>\n",
              "    .dataframe tbody tr th:only-of-type {\n",
              "        vertical-align: middle;\n",
              "    }\n",
              "\n",
              "    .dataframe tbody tr th {\n",
              "        vertical-align: top;\n",
              "    }\n",
              "\n",
              "    .dataframe thead th {\n",
              "        text-align: right;\n",
              "    }\n",
              "</style>\n",
              "<table border=\"1\" class=\"dataframe\">\n",
              "  <thead>\n",
              "    <tr style=\"text-align: right;\">\n",
              "      <th></th>\n",
              "      <th>age</th>\n",
              "      <th>job_type</th>\n",
              "      <th>marital_status</th>\n",
              "      <th>education</th>\n",
              "      <th>has_default</th>\n",
              "      <th>balance</th>\n",
              "      <th>has_housing_loan</th>\n",
              "      <th>has_personal_loan</th>\n",
              "      <th>contact_type</th>\n",
              "      <th>last_contact_day</th>\n",
              "      <th>last_contact_month</th>\n",
              "      <th>last_contact_duration</th>\n",
              "      <th>num_contacts_campaign</th>\n",
              "      <th>days_since_last_contacted</th>\n",
              "      <th>num_contacts_before_campaign</th>\n",
              "      <th>prev_campaign_outcome</th>\n",
              "      <th>has_subs_deposit</th>\n",
              "    </tr>\n",
              "  </thead>\n",
              "  <tbody>\n",
              "    <tr>\n",
              "      <th>0</th>\n",
              "      <td>58</td>\n",
              "      <td>management</td>\n",
              "      <td>married</td>\n",
              "      <td>tertiary</td>\n",
              "      <td>no</td>\n",
              "      <td>2143</td>\n",
              "      <td>yes</td>\n",
              "      <td>no</td>\n",
              "      <td>cellular</td>\n",
              "      <td>5</td>\n",
              "      <td>may</td>\n",
              "      <td>261</td>\n",
              "      <td>1</td>\n",
              "      <td>-1</td>\n",
              "      <td>0</td>\n",
              "      <td>unknown</td>\n",
              "      <td>no</td>\n",
              "    </tr>\n",
              "    <tr>\n",
              "      <th>1</th>\n",
              "      <td>44</td>\n",
              "      <td>technician</td>\n",
              "      <td>single</td>\n",
              "      <td>secondary</td>\n",
              "      <td>no</td>\n",
              "      <td>29</td>\n",
              "      <td>yes</td>\n",
              "      <td>no</td>\n",
              "      <td>cellular</td>\n",
              "      <td>5</td>\n",
              "      <td>may</td>\n",
              "      <td>151</td>\n",
              "      <td>1</td>\n",
              "      <td>-1</td>\n",
              "      <td>0</td>\n",
              "      <td>unknown</td>\n",
              "      <td>no</td>\n",
              "    </tr>\n",
              "    <tr>\n",
              "      <th>2</th>\n",
              "      <td>33</td>\n",
              "      <td>entrepreneur</td>\n",
              "      <td>married</td>\n",
              "      <td>secondary</td>\n",
              "      <td>no</td>\n",
              "      <td>2</td>\n",
              "      <td>yes</td>\n",
              "      <td>yes</td>\n",
              "      <td>cellular</td>\n",
              "      <td>5</td>\n",
              "      <td>may</td>\n",
              "      <td>76</td>\n",
              "      <td>1</td>\n",
              "      <td>-1</td>\n",
              "      <td>0</td>\n",
              "      <td>unknown</td>\n",
              "      <td>no</td>\n",
              "    </tr>\n",
              "    <tr>\n",
              "      <th>3</th>\n",
              "      <td>47</td>\n",
              "      <td>blue-collar</td>\n",
              "      <td>married</td>\n",
              "      <td>secondary</td>\n",
              "      <td>no</td>\n",
              "      <td>1506</td>\n",
              "      <td>yes</td>\n",
              "      <td>no</td>\n",
              "      <td>cellular</td>\n",
              "      <td>5</td>\n",
              "      <td>may</td>\n",
              "      <td>92</td>\n",
              "      <td>1</td>\n",
              "      <td>-1</td>\n",
              "      <td>0</td>\n",
              "      <td>unknown</td>\n",
              "      <td>no</td>\n",
              "    </tr>\n",
              "    <tr>\n",
              "      <th>5</th>\n",
              "      <td>35</td>\n",
              "      <td>management</td>\n",
              "      <td>married</td>\n",
              "      <td>tertiary</td>\n",
              "      <td>no</td>\n",
              "      <td>231</td>\n",
              "      <td>yes</td>\n",
              "      <td>no</td>\n",
              "      <td>cellular</td>\n",
              "      <td>5</td>\n",
              "      <td>may</td>\n",
              "      <td>139</td>\n",
              "      <td>1</td>\n",
              "      <td>-1</td>\n",
              "      <td>0</td>\n",
              "      <td>unknown</td>\n",
              "      <td>no</td>\n",
              "    </tr>\n",
              "    <tr>\n",
              "      <th>...</th>\n",
              "      <td>...</td>\n",
              "      <td>...</td>\n",
              "      <td>...</td>\n",
              "      <td>...</td>\n",
              "      <td>...</td>\n",
              "      <td>...</td>\n",
              "      <td>...</td>\n",
              "      <td>...</td>\n",
              "      <td>...</td>\n",
              "      <td>...</td>\n",
              "      <td>...</td>\n",
              "      <td>...</td>\n",
              "      <td>...</td>\n",
              "      <td>...</td>\n",
              "      <td>...</td>\n",
              "      <td>...</td>\n",
              "      <td>...</td>\n",
              "    </tr>\n",
              "    <tr>\n",
              "      <th>45203</th>\n",
              "      <td>23</td>\n",
              "      <td>student</td>\n",
              "      <td>single</td>\n",
              "      <td>tertiary</td>\n",
              "      <td>no</td>\n",
              "      <td>113</td>\n",
              "      <td>no</td>\n",
              "      <td>no</td>\n",
              "      <td>cellular</td>\n",
              "      <td>17</td>\n",
              "      <td>nov</td>\n",
              "      <td>266</td>\n",
              "      <td>1</td>\n",
              "      <td>-1</td>\n",
              "      <td>0</td>\n",
              "      <td>unknown</td>\n",
              "      <td>yes</td>\n",
              "    </tr>\n",
              "    <tr>\n",
              "      <th>45205</th>\n",
              "      <td>25</td>\n",
              "      <td>technician</td>\n",
              "      <td>single</td>\n",
              "      <td>secondary</td>\n",
              "      <td>no</td>\n",
              "      <td>505</td>\n",
              "      <td>no</td>\n",
              "      <td>yes</td>\n",
              "      <td>cellular</td>\n",
              "      <td>17</td>\n",
              "      <td>nov</td>\n",
              "      <td>386</td>\n",
              "      <td>2</td>\n",
              "      <td>-1</td>\n",
              "      <td>0</td>\n",
              "      <td>unknown</td>\n",
              "      <td>yes</td>\n",
              "    </tr>\n",
              "    <tr>\n",
              "      <th>45206</th>\n",
              "      <td>51</td>\n",
              "      <td>technician</td>\n",
              "      <td>married</td>\n",
              "      <td>tertiary</td>\n",
              "      <td>no</td>\n",
              "      <td>825</td>\n",
              "      <td>no</td>\n",
              "      <td>no</td>\n",
              "      <td>cellular</td>\n",
              "      <td>17</td>\n",
              "      <td>nov</td>\n",
              "      <td>977</td>\n",
              "      <td>3</td>\n",
              "      <td>-1</td>\n",
              "      <td>0</td>\n",
              "      <td>unknown</td>\n",
              "      <td>yes</td>\n",
              "    </tr>\n",
              "    <tr>\n",
              "      <th>45207</th>\n",
              "      <td>71</td>\n",
              "      <td>retired</td>\n",
              "      <td>divorced</td>\n",
              "      <td>primary</td>\n",
              "      <td>no</td>\n",
              "      <td>1729</td>\n",
              "      <td>no</td>\n",
              "      <td>no</td>\n",
              "      <td>cellular</td>\n",
              "      <td>17</td>\n",
              "      <td>nov</td>\n",
              "      <td>456</td>\n",
              "      <td>2</td>\n",
              "      <td>-1</td>\n",
              "      <td>0</td>\n",
              "      <td>unknown</td>\n",
              "      <td>yes</td>\n",
              "    </tr>\n",
              "    <tr>\n",
              "      <th>45209</th>\n",
              "      <td>57</td>\n",
              "      <td>blue-collar</td>\n",
              "      <td>married</td>\n",
              "      <td>secondary</td>\n",
              "      <td>no</td>\n",
              "      <td>668</td>\n",
              "      <td>no</td>\n",
              "      <td>no</td>\n",
              "      <td>telephone</td>\n",
              "      <td>17</td>\n",
              "      <td>nov</td>\n",
              "      <td>508</td>\n",
              "      <td>4</td>\n",
              "      <td>-1</td>\n",
              "      <td>0</td>\n",
              "      <td>unknown</td>\n",
              "      <td>no</td>\n",
              "    </tr>\n",
              "  </tbody>\n",
              "</table>\n",
              "<p>36699 rows × 17 columns</p>\n",
              "</div>\n",
              "    <div class=\"colab-df-buttons\">\n",
              "\n",
              "  <div class=\"colab-df-container\">\n",
              "    <button class=\"colab-df-convert\" onclick=\"convertToInteractive('df-63db49d0-6505-40fc-999b-ecc6fe350d59')\"\n",
              "            title=\"Convert this dataframe to an interactive table.\"\n",
              "            style=\"display:none;\">\n",
              "\n",
              "  <svg xmlns=\"http://www.w3.org/2000/svg\" height=\"24px\" viewBox=\"0 -960 960 960\">\n",
              "    <path d=\"M120-120v-720h720v720H120Zm60-500h600v-160H180v160Zm220 220h160v-160H400v160Zm0 220h160v-160H400v160ZM180-400h160v-160H180v160Zm440 0h160v-160H620v160ZM180-180h160v-160H180v160Zm440 0h160v-160H620v160Z\"/>\n",
              "  </svg>\n",
              "    </button>\n",
              "\n",
              "  <style>\n",
              "    .colab-df-container {\n",
              "      display:flex;\n",
              "      gap: 12px;\n",
              "    }\n",
              "\n",
              "    .colab-df-convert {\n",
              "      background-color: #E8F0FE;\n",
              "      border: none;\n",
              "      border-radius: 50%;\n",
              "      cursor: pointer;\n",
              "      display: none;\n",
              "      fill: #1967D2;\n",
              "      height: 32px;\n",
              "      padding: 0 0 0 0;\n",
              "      width: 32px;\n",
              "    }\n",
              "\n",
              "    .colab-df-convert:hover {\n",
              "      background-color: #E2EBFA;\n",
              "      box-shadow: 0px 1px 2px rgba(60, 64, 67, 0.3), 0px 1px 3px 1px rgba(60, 64, 67, 0.15);\n",
              "      fill: #174EA6;\n",
              "    }\n",
              "\n",
              "    .colab-df-buttons div {\n",
              "      margin-bottom: 4px;\n",
              "    }\n",
              "\n",
              "    [theme=dark] .colab-df-convert {\n",
              "      background-color: #3B4455;\n",
              "      fill: #D2E3FC;\n",
              "    }\n",
              "\n",
              "    [theme=dark] .colab-df-convert:hover {\n",
              "      background-color: #434B5C;\n",
              "      box-shadow: 0px 1px 3px 1px rgba(0, 0, 0, 0.15);\n",
              "      filter: drop-shadow(0px 1px 2px rgba(0, 0, 0, 0.3));\n",
              "      fill: #FFFFFF;\n",
              "    }\n",
              "  </style>\n",
              "\n",
              "    <script>\n",
              "      const buttonEl =\n",
              "        document.querySelector('#df-63db49d0-6505-40fc-999b-ecc6fe350d59 button.colab-df-convert');\n",
              "      buttonEl.style.display =\n",
              "        google.colab.kernel.accessAllowed ? 'block' : 'none';\n",
              "\n",
              "      async function convertToInteractive(key) {\n",
              "        const element = document.querySelector('#df-63db49d0-6505-40fc-999b-ecc6fe350d59');\n",
              "        const dataTable =\n",
              "          await google.colab.kernel.invokeFunction('convertToInteractive',\n",
              "                                                    [key], {});\n",
              "        if (!dataTable) return;\n",
              "\n",
              "        const docLinkHtml = 'Like what you see? Visit the ' +\n",
              "          '<a target=\"_blank\" href=https://colab.research.google.com/notebooks/data_table.ipynb>data table notebook</a>'\n",
              "          + ' to learn more about interactive tables.';\n",
              "        element.innerHTML = '';\n",
              "        dataTable['output_type'] = 'display_data';\n",
              "        await google.colab.output.renderOutput(dataTable, element);\n",
              "        const docLink = document.createElement('div');\n",
              "        docLink.innerHTML = docLinkHtml;\n",
              "        element.appendChild(docLink);\n",
              "      }\n",
              "    </script>\n",
              "  </div>\n",
              "\n",
              "\n",
              "<div id=\"df-1ec7d7a9-5b50-409c-b3d6-522e194c1758\">\n",
              "  <button class=\"colab-df-quickchart\" onclick=\"quickchart('df-1ec7d7a9-5b50-409c-b3d6-522e194c1758')\"\n",
              "            title=\"Suggest charts\"\n",
              "            style=\"display:none;\">\n",
              "\n",
              "<svg xmlns=\"http://www.w3.org/2000/svg\" height=\"24px\"viewBox=\"0 0 24 24\"\n",
              "     width=\"24px\">\n",
              "    <g>\n",
              "        <path d=\"M19 3H5c-1.1 0-2 .9-2 2v14c0 1.1.9 2 2 2h14c1.1 0 2-.9 2-2V5c0-1.1-.9-2-2-2zM9 17H7v-7h2v7zm4 0h-2V7h2v10zm4 0h-2v-4h2v4z\"/>\n",
              "    </g>\n",
              "</svg>\n",
              "  </button>\n",
              "\n",
              "<style>\n",
              "  .colab-df-quickchart {\n",
              "      --bg-color: #E8F0FE;\n",
              "      --fill-color: #1967D2;\n",
              "      --hover-bg-color: #E2EBFA;\n",
              "      --hover-fill-color: #174EA6;\n",
              "      --disabled-fill-color: #AAA;\n",
              "      --disabled-bg-color: #DDD;\n",
              "  }\n",
              "\n",
              "  [theme=dark] .colab-df-quickchart {\n",
              "      --bg-color: #3B4455;\n",
              "      --fill-color: #D2E3FC;\n",
              "      --hover-bg-color: #434B5C;\n",
              "      --hover-fill-color: #FFFFFF;\n",
              "      --disabled-bg-color: #3B4455;\n",
              "      --disabled-fill-color: #666;\n",
              "  }\n",
              "\n",
              "  .colab-df-quickchart {\n",
              "    background-color: var(--bg-color);\n",
              "    border: none;\n",
              "    border-radius: 50%;\n",
              "    cursor: pointer;\n",
              "    display: none;\n",
              "    fill: var(--fill-color);\n",
              "    height: 32px;\n",
              "    padding: 0;\n",
              "    width: 32px;\n",
              "  }\n",
              "\n",
              "  .colab-df-quickchart:hover {\n",
              "    background-color: var(--hover-bg-color);\n",
              "    box-shadow: 0 1px 2px rgba(60, 64, 67, 0.3), 0 1px 3px 1px rgba(60, 64, 67, 0.15);\n",
              "    fill: var(--button-hover-fill-color);\n",
              "  }\n",
              "\n",
              "  .colab-df-quickchart-complete:disabled,\n",
              "  .colab-df-quickchart-complete:disabled:hover {\n",
              "    background-color: var(--disabled-bg-color);\n",
              "    fill: var(--disabled-fill-color);\n",
              "    box-shadow: none;\n",
              "  }\n",
              "\n",
              "  .colab-df-spinner {\n",
              "    border: 2px solid var(--fill-color);\n",
              "    border-color: transparent;\n",
              "    border-bottom-color: var(--fill-color);\n",
              "    animation:\n",
              "      spin 1s steps(1) infinite;\n",
              "  }\n",
              "\n",
              "  @keyframes spin {\n",
              "    0% {\n",
              "      border-color: transparent;\n",
              "      border-bottom-color: var(--fill-color);\n",
              "      border-left-color: var(--fill-color);\n",
              "    }\n",
              "    20% {\n",
              "      border-color: transparent;\n",
              "      border-left-color: var(--fill-color);\n",
              "      border-top-color: var(--fill-color);\n",
              "    }\n",
              "    30% {\n",
              "      border-color: transparent;\n",
              "      border-left-color: var(--fill-color);\n",
              "      border-top-color: var(--fill-color);\n",
              "      border-right-color: var(--fill-color);\n",
              "    }\n",
              "    40% {\n",
              "      border-color: transparent;\n",
              "      border-right-color: var(--fill-color);\n",
              "      border-top-color: var(--fill-color);\n",
              "    }\n",
              "    60% {\n",
              "      border-color: transparent;\n",
              "      border-right-color: var(--fill-color);\n",
              "    }\n",
              "    80% {\n",
              "      border-color: transparent;\n",
              "      border-right-color: var(--fill-color);\n",
              "      border-bottom-color: var(--fill-color);\n",
              "    }\n",
              "    90% {\n",
              "      border-color: transparent;\n",
              "      border-bottom-color: var(--fill-color);\n",
              "    }\n",
              "  }\n",
              "</style>\n",
              "\n",
              "  <script>\n",
              "    async function quickchart(key) {\n",
              "      const quickchartButtonEl =\n",
              "        document.querySelector('#' + key + ' button');\n",
              "      quickchartButtonEl.disabled = true;  // To prevent multiple clicks.\n",
              "      quickchartButtonEl.classList.add('colab-df-spinner');\n",
              "      try {\n",
              "        const charts = await google.colab.kernel.invokeFunction(\n",
              "            'suggestCharts', [key], {});\n",
              "      } catch (error) {\n",
              "        console.error('Error during call to suggestCharts:', error);\n",
              "      }\n",
              "      quickchartButtonEl.classList.remove('colab-df-spinner');\n",
              "      quickchartButtonEl.classList.add('colab-df-quickchart-complete');\n",
              "    }\n",
              "    (() => {\n",
              "      let quickchartButtonEl =\n",
              "        document.querySelector('#df-1ec7d7a9-5b50-409c-b3d6-522e194c1758 button');\n",
              "      quickchartButtonEl.style.display =\n",
              "        google.colab.kernel.accessAllowed ? 'block' : 'none';\n",
              "    })();\n",
              "  </script>\n",
              "</div>\n",
              "    </div>\n",
              "  </div>\n"
            ],
            "application/vnd.google.colaboratory.intrinsic+json": {
              "type": "dataframe",
              "summary": "{\n  \"name\": \"   (df['num_contacts_before_campaign'] == 0)]\",\n  \"rows\": 36699,\n  \"fields\": [\n    {\n      \"column\": \"age\",\n      \"properties\": {\n        \"dtype\": \"number\",\n        \"std\": 10,\n        \"min\": 18,\n        \"max\": 95,\n        \"num_unique_values\": 76,\n        \"samples\": [\n          35,\n          34,\n          53\n        ],\n        \"semantic_type\": \"\",\n        \"description\": \"\"\n      }\n    },\n    {\n      \"column\": \"job_type\",\n      \"properties\": {\n        \"dtype\": \"category\",\n        \"num_unique_values\": 11,\n        \"samples\": [\n          \"admin\",\n          \"management\",\n          \"housemaid\"\n        ],\n        \"semantic_type\": \"\",\n        \"description\": \"\"\n      }\n    },\n    {\n      \"column\": \"marital_status\",\n      \"properties\": {\n        \"dtype\": \"category\",\n        \"num_unique_values\": 3,\n        \"samples\": [\n          \"married\",\n          \"single\",\n          \"divorced\"\n        ],\n        \"semantic_type\": \"\",\n        \"description\": \"\"\n      }\n    },\n    {\n      \"column\": \"education\",\n      \"properties\": {\n        \"dtype\": \"category\",\n        \"num_unique_values\": 3,\n        \"samples\": [\n          \"tertiary\",\n          \"secondary\",\n          \"primary\"\n        ],\n        \"semantic_type\": \"\",\n        \"description\": \"\"\n      }\n    },\n    {\n      \"column\": \"has_default\",\n      \"properties\": {\n        \"dtype\": \"category\",\n        \"num_unique_values\": 2,\n        \"samples\": [\n          \"yes\",\n          \"no\"\n        ],\n        \"semantic_type\": \"\",\n        \"description\": \"\"\n      }\n    },\n    {\n      \"column\": \"balance\",\n      \"properties\": {\n        \"dtype\": \"number\",\n        \"std\": 3038,\n        \"min\": -8019,\n        \"max\": 102127,\n        \"num_unique_values\": 7029,\n        \"samples\": [\n          -199,\n          14533\n        ],\n        \"semantic_type\": \"\",\n        \"description\": \"\"\n      }\n    },\n    {\n      \"column\": \"has_housing_loan\",\n      \"properties\": {\n        \"dtype\": \"category\",\n        \"num_unique_values\": 2,\n        \"samples\": [\n          \"no\",\n          \"yes\"\n        ],\n        \"semantic_type\": \"\",\n        \"description\": \"\"\n      }\n    },\n    {\n      \"column\": \"has_personal_loan\",\n      \"properties\": {\n        \"dtype\": \"category\",\n        \"num_unique_values\": 2,\n        \"samples\": [\n          \"yes\",\n          \"no\"\n        ],\n        \"semantic_type\": \"\",\n        \"description\": \"\"\n      }\n    },\n    {\n      \"column\": \"contact_type\",\n      \"properties\": {\n        \"dtype\": \"category\",\n        \"num_unique_values\": 2,\n        \"samples\": [\n          \"telephone\",\n          \"cellular\"\n        ],\n        \"semantic_type\": \"\",\n        \"description\": \"\"\n      }\n    },\n    {\n      \"column\": \"last_contact_day\",\n      \"properties\": {\n        \"dtype\": \"number\",\n        \"std\": 8,\n        \"min\": 1,\n        \"max\": 31,\n        \"num_unique_values\": 31,\n        \"samples\": [\n          1,\n          27\n        ],\n        \"semantic_type\": \"\",\n        \"description\": \"\"\n      }\n    },\n    {\n      \"column\": \"last_contact_month\",\n      \"properties\": {\n        \"dtype\": \"category\",\n        \"num_unique_values\": 12,\n        \"samples\": [\n          \"apr\",\n          \"mar\"\n        ],\n        \"semantic_type\": \"\",\n        \"description\": \"\"\n      }\n    },\n    {\n      \"column\": \"last_contact_duration\",\n      \"properties\": {\n        \"dtype\": \"number\",\n        \"std\": 262,\n        \"min\": 0,\n        \"max\": 4918,\n        \"num_unique_values\": 1524,\n        \"samples\": [\n          855,\n          1389\n        ],\n        \"semantic_type\": \"\",\n        \"description\": \"\"\n      }\n    },\n    {\n      \"column\": \"num_contacts_campaign\",\n      \"properties\": {\n        \"dtype\": \"number\",\n        \"std\": 3,\n        \"min\": 1,\n        \"max\": 63,\n        \"num_unique_values\": 48,\n        \"samples\": [\n          41,\n          27\n        ],\n        \"semantic_type\": \"\",\n        \"description\": \"\"\n      }\n    },\n    {\n      \"column\": \"days_since_last_contacted\",\n      \"properties\": {\n        \"dtype\": \"number\",\n        \"std\": 0,\n        \"min\": -1,\n        \"max\": -1,\n        \"num_unique_values\": 1,\n        \"samples\": [\n          -1\n        ],\n        \"semantic_type\": \"\",\n        \"description\": \"\"\n      }\n    },\n    {\n      \"column\": \"num_contacts_before_campaign\",\n      \"properties\": {\n        \"dtype\": \"number\",\n        \"std\": 0,\n        \"min\": 0,\n        \"max\": 0,\n        \"num_unique_values\": 1,\n        \"samples\": [\n          0\n        ],\n        \"semantic_type\": \"\",\n        \"description\": \"\"\n      }\n    },\n    {\n      \"column\": \"prev_campaign_outcome\",\n      \"properties\": {\n        \"dtype\": \"category\",\n        \"num_unique_values\": 1,\n        \"samples\": [\n          \"unknown\"\n        ],\n        \"semantic_type\": \"\",\n        \"description\": \"\"\n      }\n    },\n    {\n      \"column\": \"has_subs_deposit\",\n      \"properties\": {\n        \"dtype\": \"category\",\n        \"num_unique_values\": 2,\n        \"samples\": [\n          \"yes\"\n        ],\n        \"semantic_type\": \"\",\n        \"description\": \"\"\n      }\n    }\n  ]\n}"
            }
          },
          "metadata": {},
          "execution_count": 22
        }
      ],
      "source": [
        "df[(df['prev_campaign_outcome'] == 'unknown') &\n",
        "   (df['days_since_last_contacted'] == -1) &\n",
        "   (df['num_contacts_before_campaign'] == 0)]"
      ]
    },
    {
      "cell_type": "markdown",
      "metadata": {
        "id": "H4Yv4STGmqmv"
      },
      "source": [
        "Nilai 'unknown' pada fitur `prev_campaign_outcome` ada 36959 row data. Ketika dilihat dengan fitur lain pada data, fitur `prev_campaign_outcome` memiliki hubungan terutama dengan fitur `days_since_last_contacted` dan `num_contacts_before_campaign`. Dari 36704 row data fitur `prev_campaign_outcome` yang bernilai 'unknown', 36699 row data fitur `days_since_last_contacted` nya bernilai -1 dan `num_contacts_before_campaign` nya bernilai 0. fitur `days_since_last_contacted` = -1 berarti nasabah belum pernah dikontak sebelumnya dan fitur `num_contacts_before_campaign` = 0 berarti nasabah tidak dikontak pada sebelum current campaign. Berdasarkan hal ini dapat diasumsikan bahwa sebagian besar nilai 'unknown' pada fitur `prev_campaign_outcome` selaras dengan kondisi dimana nasabah belum dikontak oleh bank. Oleh karena itu nilai 'unknown' yang memenuhi kriteria ini akan diganti dengan nilai lain yaitu 'not_contacted' yang lebih bisa diinterpretasikan maksudnya."
      ]
    },
    {
      "cell_type": "code",
      "execution_count": null,
      "metadata": {
        "id": "lL5GuIoXmqmw"
      },
      "outputs": [],
      "source": [
        "\n",
        "# Mengganti values 'prev_campaign_outcome' unknown menjadi not_contacted\n",
        "df.loc[(df['days_since_last_contacted'] == -1) & (df['num_contacts_before_campaign'] == 0), 'prev_campaign_outcome'] = 'not_contacted'"
      ]
    },
    {
      "cell_type": "code",
      "execution_count": null,
      "metadata": {
        "colab": {
          "base_uri": "https://localhost:8080/"
        },
        "id": "ynFlQev8mqmw",
        "outputId": "fa367aab-1efd-4e8b-b0d8-5efa3635ab7a"
      },
      "outputs": [
        {
          "output_type": "execute_result",
          "data": {
            "text/plain": [
              "prev_campaign_outcome\n",
              "not_contacted    81.693119\n",
              "failure          10.865258\n",
              "other             4.091445\n",
              "success           3.339047\n",
              "unknown           0.011130\n",
              "Name: count, dtype: float64"
            ]
          },
          "metadata": {},
          "execution_count": 24
        }
      ],
      "source": [
        "df['prev_campaign_outcome'].value_counts() / len(df) * 100"
      ]
    },
    {
      "cell_type": "markdown",
      "metadata": {
        "id": "73nY-41omqnS"
      },
      "source": [
        "#### Cek hasil 'unknown' values handling"
      ]
    },
    {
      "cell_type": "code",
      "execution_count": null,
      "metadata": {
        "colab": {
          "base_uri": "https://localhost:8080/"
        },
        "id": "ksVe0L-EmqnT",
        "outputId": "2d78750e-18e6-44a9-c1f2-f58ef7fd15ee"
      },
      "outputs": [
        {
          "output_type": "execute_result",
          "data": {
            "text/plain": [
              "age                             0\n",
              "job_type                        0\n",
              "marital_status                  0\n",
              "education                       0\n",
              "has_default                     0\n",
              "balance                         0\n",
              "has_housing_loan                0\n",
              "has_personal_loan               0\n",
              "contact_type                    0\n",
              "last_contact_day                0\n",
              "last_contact_month              0\n",
              "last_contact_duration           0\n",
              "num_contacts_campaign           0\n",
              "days_since_last_contacted       0\n",
              "num_contacts_before_campaign    0\n",
              "prev_campaign_outcome           5\n",
              "has_subs_deposit                0\n",
              "dtype: int64"
            ]
          },
          "metadata": {},
          "execution_count": 25
        }
      ],
      "source": [
        "(df == 'unknown').sum()"
      ]
    },
    {
      "cell_type": "markdown",
      "metadata": {
        "id": "lQYT0h309GdR"
      },
      "source": [
        "#### Mengganti nilai di kolom days_since_last_contacted dari -1 menjadi 0"
      ]
    },
    {
      "cell_type": "code",
      "execution_count": null,
      "metadata": {
        "id": "Nh9uq0jM9FNP"
      },
      "outputs": [],
      "source": [
        "df['days_since_last_contacted'] = df['days_since_last_contacted'].replace(-1, 0)"
      ]
    },
    {
      "cell_type": "markdown",
      "metadata": {
        "id": "fJuNv7QomqnU"
      },
      "source": [
        "## 1.2 Handle duplicated data"
      ]
    },
    {
      "cell_type": "code",
      "execution_count": null,
      "metadata": {
        "colab": {
          "base_uri": "https://localhost:8080/"
        },
        "id": "43WcALbFmqnU",
        "outputId": "65fd3180-415f-4fb5-a7c3-f1ea242e6ea5"
      },
      "outputs": [
        {
          "output_type": "execute_result",
          "data": {
            "text/plain": [
              "0"
            ]
          },
          "metadata": {},
          "execution_count": 27
        }
      ],
      "source": [
        "df.duplicated().sum()"
      ]
    },
    {
      "cell_type": "markdown",
      "metadata": {
        "id": "4thqZnYFmqnV"
      },
      "source": [
        "**Tidak ada data duplikat dalam data**<br/>\n",
        "Kode diatas mengidentifikasi baris yang identik (keseluruhan nilai di semua kolom) dengan baris lainnya dalam data. Karena hasilnya 0, maka keseluruhan nilai di semua kolom di setiap baris adalah unik."
      ]
    },
    {
      "cell_type": "markdown",
      "metadata": {
        "id": "z-hVL5V1mqnX"
      },
      "source": [
        "## 1.3 Handling Outliers"
      ]
    },
    {
      "cell_type": "code",
      "execution_count": null,
      "metadata": {
        "id": "rRFK_dmEmqnZ"
      },
      "outputs": [],
      "source": [
        "nums = df.select_dtypes(include=['number']).columns\n",
        "cats = df.select_dtypes(include=['object']).columns"
      ]
    },
    {
      "cell_type": "markdown",
      "metadata": {
        "id": "B09rq-O_mqna"
      },
      "source": [
        "### 1.3.2 FIltering Outlier"
      ]
    },
    {
      "cell_type": "markdown",
      "source": [
        "Tidak melakukan filtering outlier, terdapat angka minus sehingga ketika melakukan outlier dikhawatirkan akan merubah nilai pada data."
      ],
      "metadata": {
        "id": "C6mQAjhCZoI9"
      }
    },
    {
      "cell_type": "markdown",
      "metadata": {
        "id": "EpkEU8Vkmqne"
      },
      "source": [
        "# 2. Feature Engineering\n",
        "## 2.1 Feature Extraction\n",
        "### 2.1.1 Feature Extraction : `age`\n",
        "Fitur `age` akan di ekstraksi dengan rincian:\n",
        "- Usia < 12 tahun = Child (kanak-kanak)\n",
        "- Usia 12-25 tahun = Teenager (remaja)\n",
        "- Usia 26-45 tahun = Adult (dewasa)\n",
        "- Usia > 45 tahun = Elderly (lansia)"
      ]
    },
    {
      "cell_type": "code",
      "execution_count": null,
      "metadata": {
        "colab": {
          "base_uri": "https://localhost:8080/",
          "height": 118
        },
        "id": "H11efCvYmqne",
        "outputId": "e34b5fe8-0e0f-45cf-e845-039bcaddf17d"
      },
      "outputs": [
        {
          "output_type": "execute_result",
          "data": {
            "text/plain": [
              "      age     job_type marital_status  education has_default  balance  \\\n",
              "8907   47  blue-collar        married  secondary          no      273   \n",
              "\n",
              "     has_housing_loan has_personal_loan contact_type  last_contact_day  \\\n",
              "8907              yes                no     cellular                 4   \n",
              "\n",
              "     last_contact_month  last_contact_duration  num_contacts_campaign  \\\n",
              "8907                jun                    163                      1   \n",
              "\n",
              "      days_since_last_contacted  num_contacts_before_campaign  \\\n",
              "8907                          0                             0   \n",
              "\n",
              "     prev_campaign_outcome has_subs_deposit age_category  \n",
              "8907         not_contacted               no      elderly  "
            ],
            "text/html": [
              "\n",
              "  <div id=\"df-5c3f879b-ea04-4aba-be68-2d301c761ce0\" class=\"colab-df-container\">\n",
              "    <div>\n",
              "<style scoped>\n",
              "    .dataframe tbody tr th:only-of-type {\n",
              "        vertical-align: middle;\n",
              "    }\n",
              "\n",
              "    .dataframe tbody tr th {\n",
              "        vertical-align: top;\n",
              "    }\n",
              "\n",
              "    .dataframe thead th {\n",
              "        text-align: right;\n",
              "    }\n",
              "</style>\n",
              "<table border=\"1\" class=\"dataframe\">\n",
              "  <thead>\n",
              "    <tr style=\"text-align: right;\">\n",
              "      <th></th>\n",
              "      <th>age</th>\n",
              "      <th>job_type</th>\n",
              "      <th>marital_status</th>\n",
              "      <th>education</th>\n",
              "      <th>has_default</th>\n",
              "      <th>balance</th>\n",
              "      <th>has_housing_loan</th>\n",
              "      <th>has_personal_loan</th>\n",
              "      <th>contact_type</th>\n",
              "      <th>last_contact_day</th>\n",
              "      <th>last_contact_month</th>\n",
              "      <th>last_contact_duration</th>\n",
              "      <th>num_contacts_campaign</th>\n",
              "      <th>days_since_last_contacted</th>\n",
              "      <th>num_contacts_before_campaign</th>\n",
              "      <th>prev_campaign_outcome</th>\n",
              "      <th>has_subs_deposit</th>\n",
              "      <th>age_category</th>\n",
              "    </tr>\n",
              "  </thead>\n",
              "  <tbody>\n",
              "    <tr>\n",
              "      <th>8907</th>\n",
              "      <td>47</td>\n",
              "      <td>blue-collar</td>\n",
              "      <td>married</td>\n",
              "      <td>secondary</td>\n",
              "      <td>no</td>\n",
              "      <td>273</td>\n",
              "      <td>yes</td>\n",
              "      <td>no</td>\n",
              "      <td>cellular</td>\n",
              "      <td>4</td>\n",
              "      <td>jun</td>\n",
              "      <td>163</td>\n",
              "      <td>1</td>\n",
              "      <td>0</td>\n",
              "      <td>0</td>\n",
              "      <td>not_contacted</td>\n",
              "      <td>no</td>\n",
              "      <td>elderly</td>\n",
              "    </tr>\n",
              "  </tbody>\n",
              "</table>\n",
              "</div>\n",
              "    <div class=\"colab-df-buttons\">\n",
              "\n",
              "  <div class=\"colab-df-container\">\n",
              "    <button class=\"colab-df-convert\" onclick=\"convertToInteractive('df-5c3f879b-ea04-4aba-be68-2d301c761ce0')\"\n",
              "            title=\"Convert this dataframe to an interactive table.\"\n",
              "            style=\"display:none;\">\n",
              "\n",
              "  <svg xmlns=\"http://www.w3.org/2000/svg\" height=\"24px\" viewBox=\"0 -960 960 960\">\n",
              "    <path d=\"M120-120v-720h720v720H120Zm60-500h600v-160H180v160Zm220 220h160v-160H400v160Zm0 220h160v-160H400v160ZM180-400h160v-160H180v160Zm440 0h160v-160H620v160ZM180-180h160v-160H180v160Zm440 0h160v-160H620v160Z\"/>\n",
              "  </svg>\n",
              "    </button>\n",
              "\n",
              "  <style>\n",
              "    .colab-df-container {\n",
              "      display:flex;\n",
              "      gap: 12px;\n",
              "    }\n",
              "\n",
              "    .colab-df-convert {\n",
              "      background-color: #E8F0FE;\n",
              "      border: none;\n",
              "      border-radius: 50%;\n",
              "      cursor: pointer;\n",
              "      display: none;\n",
              "      fill: #1967D2;\n",
              "      height: 32px;\n",
              "      padding: 0 0 0 0;\n",
              "      width: 32px;\n",
              "    }\n",
              "\n",
              "    .colab-df-convert:hover {\n",
              "      background-color: #E2EBFA;\n",
              "      box-shadow: 0px 1px 2px rgba(60, 64, 67, 0.3), 0px 1px 3px 1px rgba(60, 64, 67, 0.15);\n",
              "      fill: #174EA6;\n",
              "    }\n",
              "\n",
              "    .colab-df-buttons div {\n",
              "      margin-bottom: 4px;\n",
              "    }\n",
              "\n",
              "    [theme=dark] .colab-df-convert {\n",
              "      background-color: #3B4455;\n",
              "      fill: #D2E3FC;\n",
              "    }\n",
              "\n",
              "    [theme=dark] .colab-df-convert:hover {\n",
              "      background-color: #434B5C;\n",
              "      box-shadow: 0px 1px 3px 1px rgba(0, 0, 0, 0.15);\n",
              "      filter: drop-shadow(0px 1px 2px rgba(0, 0, 0, 0.3));\n",
              "      fill: #FFFFFF;\n",
              "    }\n",
              "  </style>\n",
              "\n",
              "    <script>\n",
              "      const buttonEl =\n",
              "        document.querySelector('#df-5c3f879b-ea04-4aba-be68-2d301c761ce0 button.colab-df-convert');\n",
              "      buttonEl.style.display =\n",
              "        google.colab.kernel.accessAllowed ? 'block' : 'none';\n",
              "\n",
              "      async function convertToInteractive(key) {\n",
              "        const element = document.querySelector('#df-5c3f879b-ea04-4aba-be68-2d301c761ce0');\n",
              "        const dataTable =\n",
              "          await google.colab.kernel.invokeFunction('convertToInteractive',\n",
              "                                                    [key], {});\n",
              "        if (!dataTable) return;\n",
              "\n",
              "        const docLinkHtml = 'Like what you see? Visit the ' +\n",
              "          '<a target=\"_blank\" href=https://colab.research.google.com/notebooks/data_table.ipynb>data table notebook</a>'\n",
              "          + ' to learn more about interactive tables.';\n",
              "        element.innerHTML = '';\n",
              "        dataTable['output_type'] = 'display_data';\n",
              "        await google.colab.output.renderOutput(dataTable, element);\n",
              "        const docLink = document.createElement('div');\n",
              "        docLink.innerHTML = docLinkHtml;\n",
              "        element.appendChild(docLink);\n",
              "      }\n",
              "    </script>\n",
              "  </div>\n",
              "\n",
              "    </div>\n",
              "  </div>\n"
            ],
            "application/vnd.google.colaboratory.intrinsic+json": {
              "type": "dataframe",
              "summary": "{\n  \"name\": \"df\",\n  \"rows\": 1,\n  \"fields\": [\n    {\n      \"column\": \"age\",\n      \"properties\": {\n        \"dtype\": \"number\",\n        \"std\": null,\n        \"min\": 47,\n        \"max\": 47,\n        \"num_unique_values\": 1,\n        \"samples\": [\n          47\n        ],\n        \"semantic_type\": \"\",\n        \"description\": \"\"\n      }\n    },\n    {\n      \"column\": \"job_type\",\n      \"properties\": {\n        \"dtype\": \"string\",\n        \"num_unique_values\": 1,\n        \"samples\": [\n          \"blue-collar\"\n        ],\n        \"semantic_type\": \"\",\n        \"description\": \"\"\n      }\n    },\n    {\n      \"column\": \"marital_status\",\n      \"properties\": {\n        \"dtype\": \"string\",\n        \"num_unique_values\": 1,\n        \"samples\": [\n          \"married\"\n        ],\n        \"semantic_type\": \"\",\n        \"description\": \"\"\n      }\n    },\n    {\n      \"column\": \"education\",\n      \"properties\": {\n        \"dtype\": \"string\",\n        \"num_unique_values\": 1,\n        \"samples\": [\n          \"secondary\"\n        ],\n        \"semantic_type\": \"\",\n        \"description\": \"\"\n      }\n    },\n    {\n      \"column\": \"has_default\",\n      \"properties\": {\n        \"dtype\": \"string\",\n        \"num_unique_values\": 1,\n        \"samples\": [\n          \"no\"\n        ],\n        \"semantic_type\": \"\",\n        \"description\": \"\"\n      }\n    },\n    {\n      \"column\": \"balance\",\n      \"properties\": {\n        \"dtype\": \"number\",\n        \"std\": null,\n        \"min\": 273,\n        \"max\": 273,\n        \"num_unique_values\": 1,\n        \"samples\": [\n          273\n        ],\n        \"semantic_type\": \"\",\n        \"description\": \"\"\n      }\n    },\n    {\n      \"column\": \"has_housing_loan\",\n      \"properties\": {\n        \"dtype\": \"string\",\n        \"num_unique_values\": 1,\n        \"samples\": [\n          \"yes\"\n        ],\n        \"semantic_type\": \"\",\n        \"description\": \"\"\n      }\n    },\n    {\n      \"column\": \"has_personal_loan\",\n      \"properties\": {\n        \"dtype\": \"string\",\n        \"num_unique_values\": 1,\n        \"samples\": [\n          \"no\"\n        ],\n        \"semantic_type\": \"\",\n        \"description\": \"\"\n      }\n    },\n    {\n      \"column\": \"contact_type\",\n      \"properties\": {\n        \"dtype\": \"string\",\n        \"num_unique_values\": 1,\n        \"samples\": [\n          \"cellular\"\n        ],\n        \"semantic_type\": \"\",\n        \"description\": \"\"\n      }\n    },\n    {\n      \"column\": \"last_contact_day\",\n      \"properties\": {\n        \"dtype\": \"number\",\n        \"std\": null,\n        \"min\": 4,\n        \"max\": 4,\n        \"num_unique_values\": 1,\n        \"samples\": [\n          4\n        ],\n        \"semantic_type\": \"\",\n        \"description\": \"\"\n      }\n    },\n    {\n      \"column\": \"last_contact_month\",\n      \"properties\": {\n        \"dtype\": \"string\",\n        \"num_unique_values\": 1,\n        \"samples\": [\n          \"jun\"\n        ],\n        \"semantic_type\": \"\",\n        \"description\": \"\"\n      }\n    },\n    {\n      \"column\": \"last_contact_duration\",\n      \"properties\": {\n        \"dtype\": \"number\",\n        \"std\": null,\n        \"min\": 163,\n        \"max\": 163,\n        \"num_unique_values\": 1,\n        \"samples\": [\n          163\n        ],\n        \"semantic_type\": \"\",\n        \"description\": \"\"\n      }\n    },\n    {\n      \"column\": \"num_contacts_campaign\",\n      \"properties\": {\n        \"dtype\": \"number\",\n        \"std\": null,\n        \"min\": 1,\n        \"max\": 1,\n        \"num_unique_values\": 1,\n        \"samples\": [\n          1\n        ],\n        \"semantic_type\": \"\",\n        \"description\": \"\"\n      }\n    },\n    {\n      \"column\": \"days_since_last_contacted\",\n      \"properties\": {\n        \"dtype\": \"number\",\n        \"std\": null,\n        \"min\": 0,\n        \"max\": 0,\n        \"num_unique_values\": 1,\n        \"samples\": [\n          0\n        ],\n        \"semantic_type\": \"\",\n        \"description\": \"\"\n      }\n    },\n    {\n      \"column\": \"num_contacts_before_campaign\",\n      \"properties\": {\n        \"dtype\": \"number\",\n        \"std\": null,\n        \"min\": 0,\n        \"max\": 0,\n        \"num_unique_values\": 1,\n        \"samples\": [\n          0\n        ],\n        \"semantic_type\": \"\",\n        \"description\": \"\"\n      }\n    },\n    {\n      \"column\": \"prev_campaign_outcome\",\n      \"properties\": {\n        \"dtype\": \"string\",\n        \"num_unique_values\": 1,\n        \"samples\": [\n          \"not_contacted\"\n        ],\n        \"semantic_type\": \"\",\n        \"description\": \"\"\n      }\n    },\n    {\n      \"column\": \"has_subs_deposit\",\n      \"properties\": {\n        \"dtype\": \"string\",\n        \"num_unique_values\": 1,\n        \"samples\": [\n          \"no\"\n        ],\n        \"semantic_type\": \"\",\n        \"description\": \"\"\n      }\n    },\n    {\n      \"column\": \"age_category\",\n      \"properties\": {\n        \"dtype\": \"string\",\n        \"num_unique_values\": 1,\n        \"samples\": [\n          \"elderly\"\n        ],\n        \"semantic_type\": \"\",\n        \"description\": \"\"\n      }\n    }\n  ]\n}"
            }
          },
          "metadata": {},
          "execution_count": 31
        }
      ],
      "source": [
        "#Membuat fungsi untuk klsifikasi umur\n",
        "def categorize_age(umur):\n",
        "    if umur <= 11:\n",
        "        result = 'child'\n",
        "    elif umur <= 25:\n",
        "        result = 'teenager'\n",
        "    elif umur <= 45:\n",
        "        result = 'adult'\n",
        "    else:\n",
        "        result = 'elderly'\n",
        "    return result\n",
        "\n",
        "df['age_category'] = df['age'].apply(categorize_age)\n",
        "df.sample(1)"
      ]
    },
    {
      "cell_type": "markdown",
      "metadata": {
        "id": "KV4wYVPymqng"
      },
      "source": [
        "### 2.1.2 Feature Extraction : `balance`"
      ]
    },
    {
      "cell_type": "code",
      "execution_count": null,
      "metadata": {
        "colab": {
          "base_uri": "https://localhost:8080/"
        },
        "id": "zHpBWJMUmqng",
        "outputId": "ed2f43c0-751b-4ba9-e060-cb570da217e4"
      },
      "outputs": [
        {
          "output_type": "execute_result",
          "data": {
            "text/plain": [
              "min     -8019.0\n",
              "25%        72.0\n",
              "50%       447.0\n",
              "75%      1421.0\n",
              "max    102127.0\n",
              "Name: balance, dtype: float64"
            ]
          },
          "metadata": {},
          "execution_count": 32
        }
      ],
      "source": [
        "df['balance'].describe().loc[['min', '25%', '50%', '75%', 'max']]"
      ]
    },
    {
      "cell_type": "markdown",
      "metadata": {
        "id": "ejEN5U0Umqnh"
      },
      "source": [
        "Berdasarkan data diatas, fitur `balance` akan di klasifikasikan dengan rincian sebagai berikut :\n",
        "- Negative Balance: balance < 0\n",
        "- Null Balance: balance = 0\n",
        "- Low Balance: balance > 0 hingga Q2\n",
        "- Medium Balance: balance > Q2 hingga Q3\n",
        "- High Balance: balance > Q3"
      ]
    },
    {
      "cell_type": "code",
      "execution_count": null,
      "metadata": {
        "colab": {
          "base_uri": "https://localhost:8080/",
          "height": 118
        },
        "id": "VhQXhe_cmqni",
        "outputId": "debd72e4-6227-43b5-b109-78394ddd0242"
      },
      "outputs": [
        {
          "output_type": "execute_result",
          "data": {
            "text/plain": [
              "      age     job_type marital_status education has_default  balance  \\\n",
              "1270   48  blue-collar        married   primary          no        4   \n",
              "\n",
              "     has_housing_loan has_personal_loan contact_type  last_contact_day  \\\n",
              "1270              yes                no     cellular                 8   \n",
              "\n",
              "     last_contact_month  last_contact_duration  num_contacts_campaign  \\\n",
              "1270                may                    198                      1   \n",
              "\n",
              "      days_since_last_contacted  num_contacts_before_campaign  \\\n",
              "1270                          0                             0   \n",
              "\n",
              "     prev_campaign_outcome has_subs_deposit age_category balance_category  \n",
              "1270         not_contacted               no      elderly              low  "
            ],
            "text/html": [
              "\n",
              "  <div id=\"df-a3fa846a-a776-40dc-9cb7-480f97ce14b1\" class=\"colab-df-container\">\n",
              "    <div>\n",
              "<style scoped>\n",
              "    .dataframe tbody tr th:only-of-type {\n",
              "        vertical-align: middle;\n",
              "    }\n",
              "\n",
              "    .dataframe tbody tr th {\n",
              "        vertical-align: top;\n",
              "    }\n",
              "\n",
              "    .dataframe thead th {\n",
              "        text-align: right;\n",
              "    }\n",
              "</style>\n",
              "<table border=\"1\" class=\"dataframe\">\n",
              "  <thead>\n",
              "    <tr style=\"text-align: right;\">\n",
              "      <th></th>\n",
              "      <th>age</th>\n",
              "      <th>job_type</th>\n",
              "      <th>marital_status</th>\n",
              "      <th>education</th>\n",
              "      <th>has_default</th>\n",
              "      <th>balance</th>\n",
              "      <th>has_housing_loan</th>\n",
              "      <th>has_personal_loan</th>\n",
              "      <th>contact_type</th>\n",
              "      <th>last_contact_day</th>\n",
              "      <th>last_contact_month</th>\n",
              "      <th>last_contact_duration</th>\n",
              "      <th>num_contacts_campaign</th>\n",
              "      <th>days_since_last_contacted</th>\n",
              "      <th>num_contacts_before_campaign</th>\n",
              "      <th>prev_campaign_outcome</th>\n",
              "      <th>has_subs_deposit</th>\n",
              "      <th>age_category</th>\n",
              "      <th>balance_category</th>\n",
              "    </tr>\n",
              "  </thead>\n",
              "  <tbody>\n",
              "    <tr>\n",
              "      <th>1270</th>\n",
              "      <td>48</td>\n",
              "      <td>blue-collar</td>\n",
              "      <td>married</td>\n",
              "      <td>primary</td>\n",
              "      <td>no</td>\n",
              "      <td>4</td>\n",
              "      <td>yes</td>\n",
              "      <td>no</td>\n",
              "      <td>cellular</td>\n",
              "      <td>8</td>\n",
              "      <td>may</td>\n",
              "      <td>198</td>\n",
              "      <td>1</td>\n",
              "      <td>0</td>\n",
              "      <td>0</td>\n",
              "      <td>not_contacted</td>\n",
              "      <td>no</td>\n",
              "      <td>elderly</td>\n",
              "      <td>low</td>\n",
              "    </tr>\n",
              "  </tbody>\n",
              "</table>\n",
              "</div>\n",
              "    <div class=\"colab-df-buttons\">\n",
              "\n",
              "  <div class=\"colab-df-container\">\n",
              "    <button class=\"colab-df-convert\" onclick=\"convertToInteractive('df-a3fa846a-a776-40dc-9cb7-480f97ce14b1')\"\n",
              "            title=\"Convert this dataframe to an interactive table.\"\n",
              "            style=\"display:none;\">\n",
              "\n",
              "  <svg xmlns=\"http://www.w3.org/2000/svg\" height=\"24px\" viewBox=\"0 -960 960 960\">\n",
              "    <path d=\"M120-120v-720h720v720H120Zm60-500h600v-160H180v160Zm220 220h160v-160H400v160Zm0 220h160v-160H400v160ZM180-400h160v-160H180v160Zm440 0h160v-160H620v160ZM180-180h160v-160H180v160Zm440 0h160v-160H620v160Z\"/>\n",
              "  </svg>\n",
              "    </button>\n",
              "\n",
              "  <style>\n",
              "    .colab-df-container {\n",
              "      display:flex;\n",
              "      gap: 12px;\n",
              "    }\n",
              "\n",
              "    .colab-df-convert {\n",
              "      background-color: #E8F0FE;\n",
              "      border: none;\n",
              "      border-radius: 50%;\n",
              "      cursor: pointer;\n",
              "      display: none;\n",
              "      fill: #1967D2;\n",
              "      height: 32px;\n",
              "      padding: 0 0 0 0;\n",
              "      width: 32px;\n",
              "    }\n",
              "\n",
              "    .colab-df-convert:hover {\n",
              "      background-color: #E2EBFA;\n",
              "      box-shadow: 0px 1px 2px rgba(60, 64, 67, 0.3), 0px 1px 3px 1px rgba(60, 64, 67, 0.15);\n",
              "      fill: #174EA6;\n",
              "    }\n",
              "\n",
              "    .colab-df-buttons div {\n",
              "      margin-bottom: 4px;\n",
              "    }\n",
              "\n",
              "    [theme=dark] .colab-df-convert {\n",
              "      background-color: #3B4455;\n",
              "      fill: #D2E3FC;\n",
              "    }\n",
              "\n",
              "    [theme=dark] .colab-df-convert:hover {\n",
              "      background-color: #434B5C;\n",
              "      box-shadow: 0px 1px 3px 1px rgba(0, 0, 0, 0.15);\n",
              "      filter: drop-shadow(0px 1px 2px rgba(0, 0, 0, 0.3));\n",
              "      fill: #FFFFFF;\n",
              "    }\n",
              "  </style>\n",
              "\n",
              "    <script>\n",
              "      const buttonEl =\n",
              "        document.querySelector('#df-a3fa846a-a776-40dc-9cb7-480f97ce14b1 button.colab-df-convert');\n",
              "      buttonEl.style.display =\n",
              "        google.colab.kernel.accessAllowed ? 'block' : 'none';\n",
              "\n",
              "      async function convertToInteractive(key) {\n",
              "        const element = document.querySelector('#df-a3fa846a-a776-40dc-9cb7-480f97ce14b1');\n",
              "        const dataTable =\n",
              "          await google.colab.kernel.invokeFunction('convertToInteractive',\n",
              "                                                    [key], {});\n",
              "        if (!dataTable) return;\n",
              "\n",
              "        const docLinkHtml = 'Like what you see? Visit the ' +\n",
              "          '<a target=\"_blank\" href=https://colab.research.google.com/notebooks/data_table.ipynb>data table notebook</a>'\n",
              "          + ' to learn more about interactive tables.';\n",
              "        element.innerHTML = '';\n",
              "        dataTable['output_type'] = 'display_data';\n",
              "        await google.colab.output.renderOutput(dataTable, element);\n",
              "        const docLink = document.createElement('div');\n",
              "        docLink.innerHTML = docLinkHtml;\n",
              "        element.appendChild(docLink);\n",
              "      }\n",
              "    </script>\n",
              "  </div>\n",
              "\n",
              "    </div>\n",
              "  </div>\n"
            ],
            "application/vnd.google.colaboratory.intrinsic+json": {
              "type": "dataframe",
              "summary": "{\n  \"name\": \"df\",\n  \"rows\": 1,\n  \"fields\": [\n    {\n      \"column\": \"age\",\n      \"properties\": {\n        \"dtype\": \"number\",\n        \"std\": null,\n        \"min\": 48,\n        \"max\": 48,\n        \"num_unique_values\": 1,\n        \"samples\": [\n          48\n        ],\n        \"semantic_type\": \"\",\n        \"description\": \"\"\n      }\n    },\n    {\n      \"column\": \"job_type\",\n      \"properties\": {\n        \"dtype\": \"string\",\n        \"num_unique_values\": 1,\n        \"samples\": [\n          \"blue-collar\"\n        ],\n        \"semantic_type\": \"\",\n        \"description\": \"\"\n      }\n    },\n    {\n      \"column\": \"marital_status\",\n      \"properties\": {\n        \"dtype\": \"string\",\n        \"num_unique_values\": 1,\n        \"samples\": [\n          \"married\"\n        ],\n        \"semantic_type\": \"\",\n        \"description\": \"\"\n      }\n    },\n    {\n      \"column\": \"education\",\n      \"properties\": {\n        \"dtype\": \"string\",\n        \"num_unique_values\": 1,\n        \"samples\": [\n          \"primary\"\n        ],\n        \"semantic_type\": \"\",\n        \"description\": \"\"\n      }\n    },\n    {\n      \"column\": \"has_default\",\n      \"properties\": {\n        \"dtype\": \"string\",\n        \"num_unique_values\": 1,\n        \"samples\": [\n          \"no\"\n        ],\n        \"semantic_type\": \"\",\n        \"description\": \"\"\n      }\n    },\n    {\n      \"column\": \"balance\",\n      \"properties\": {\n        \"dtype\": \"number\",\n        \"std\": null,\n        \"min\": 4,\n        \"max\": 4,\n        \"num_unique_values\": 1,\n        \"samples\": [\n          4\n        ],\n        \"semantic_type\": \"\",\n        \"description\": \"\"\n      }\n    },\n    {\n      \"column\": \"has_housing_loan\",\n      \"properties\": {\n        \"dtype\": \"string\",\n        \"num_unique_values\": 1,\n        \"samples\": [\n          \"yes\"\n        ],\n        \"semantic_type\": \"\",\n        \"description\": \"\"\n      }\n    },\n    {\n      \"column\": \"has_personal_loan\",\n      \"properties\": {\n        \"dtype\": \"string\",\n        \"num_unique_values\": 1,\n        \"samples\": [\n          \"no\"\n        ],\n        \"semantic_type\": \"\",\n        \"description\": \"\"\n      }\n    },\n    {\n      \"column\": \"contact_type\",\n      \"properties\": {\n        \"dtype\": \"string\",\n        \"num_unique_values\": 1,\n        \"samples\": [\n          \"cellular\"\n        ],\n        \"semantic_type\": \"\",\n        \"description\": \"\"\n      }\n    },\n    {\n      \"column\": \"last_contact_day\",\n      \"properties\": {\n        \"dtype\": \"number\",\n        \"std\": null,\n        \"min\": 8,\n        \"max\": 8,\n        \"num_unique_values\": 1,\n        \"samples\": [\n          8\n        ],\n        \"semantic_type\": \"\",\n        \"description\": \"\"\n      }\n    },\n    {\n      \"column\": \"last_contact_month\",\n      \"properties\": {\n        \"dtype\": \"string\",\n        \"num_unique_values\": 1,\n        \"samples\": [\n          \"may\"\n        ],\n        \"semantic_type\": \"\",\n        \"description\": \"\"\n      }\n    },\n    {\n      \"column\": \"last_contact_duration\",\n      \"properties\": {\n        \"dtype\": \"number\",\n        \"std\": null,\n        \"min\": 198,\n        \"max\": 198,\n        \"num_unique_values\": 1,\n        \"samples\": [\n          198\n        ],\n        \"semantic_type\": \"\",\n        \"description\": \"\"\n      }\n    },\n    {\n      \"column\": \"num_contacts_campaign\",\n      \"properties\": {\n        \"dtype\": \"number\",\n        \"std\": null,\n        \"min\": 1,\n        \"max\": 1,\n        \"num_unique_values\": 1,\n        \"samples\": [\n          1\n        ],\n        \"semantic_type\": \"\",\n        \"description\": \"\"\n      }\n    },\n    {\n      \"column\": \"days_since_last_contacted\",\n      \"properties\": {\n        \"dtype\": \"number\",\n        \"std\": null,\n        \"min\": 0,\n        \"max\": 0,\n        \"num_unique_values\": 1,\n        \"samples\": [\n          0\n        ],\n        \"semantic_type\": \"\",\n        \"description\": \"\"\n      }\n    },\n    {\n      \"column\": \"num_contacts_before_campaign\",\n      \"properties\": {\n        \"dtype\": \"number\",\n        \"std\": null,\n        \"min\": 0,\n        \"max\": 0,\n        \"num_unique_values\": 1,\n        \"samples\": [\n          0\n        ],\n        \"semantic_type\": \"\",\n        \"description\": \"\"\n      }\n    },\n    {\n      \"column\": \"prev_campaign_outcome\",\n      \"properties\": {\n        \"dtype\": \"string\",\n        \"num_unique_values\": 1,\n        \"samples\": [\n          \"not_contacted\"\n        ],\n        \"semantic_type\": \"\",\n        \"description\": \"\"\n      }\n    },\n    {\n      \"column\": \"has_subs_deposit\",\n      \"properties\": {\n        \"dtype\": \"string\",\n        \"num_unique_values\": 1,\n        \"samples\": [\n          \"no\"\n        ],\n        \"semantic_type\": \"\",\n        \"description\": \"\"\n      }\n    },\n    {\n      \"column\": \"age_category\",\n      \"properties\": {\n        \"dtype\": \"string\",\n        \"num_unique_values\": 1,\n        \"samples\": [\n          \"elderly\"\n        ],\n        \"semantic_type\": \"\",\n        \"description\": \"\"\n      }\n    },\n    {\n      \"column\": \"balance_category\",\n      \"properties\": {\n        \"dtype\": \"string\",\n        \"num_unique_values\": 1,\n        \"samples\": [\n          \"low\"\n        ],\n        \"semantic_type\": \"\",\n        \"description\": \"\"\n      }\n    }\n  ]\n}"
            }
          },
          "metadata": {},
          "execution_count": 33
        }
      ],
      "source": [
        "#Membuat fungsi untuk klsifikasi balance\n",
        "Q2 = df['balance'].quantile(0.5)\n",
        "Q3 = df['balance'].quantile(0.75)\n",
        "def categorize_balance(value):\n",
        "    if value < 0:\n",
        "        return 'negative'\n",
        "    elif value == 0:\n",
        "        return 'zero'\n",
        "    elif value <= Q2:\n",
        "        return 'low'\n",
        "    elif value <= Q3:\n",
        "        return 'medium'\n",
        "    else:\n",
        "        return 'high'\n",
        "\n",
        "df['balance_category'] = df['balance'].apply(categorize_balance)\n",
        "df.sample(1)"
      ]
    },
    {
      "cell_type": "markdown",
      "metadata": {
        "id": "mA-UoPWDmqnj"
      },
      "source": [
        "### 2.1.3 Feature Extraction : `last_contact_day`\n",
        "fitur `last_contact_day` akan di ekstrak dengan rincian sebagai berikut :\n",
        "- Day 1-7 : week_1\n",
        "- Day 8-14 : week_2\n",
        "- Day 15-21 : week_3\n",
        "- Day 22-31 : week_4"
      ]
    },
    {
      "cell_type": "code",
      "execution_count": null,
      "metadata": {
        "colab": {
          "base_uri": "https://localhost:8080/",
          "height": 101
        },
        "id": "HTFkq_-Rmqnj",
        "outputId": "cd2d9456-af93-4028-88fe-5811e05cfa9b"
      },
      "outputs": [
        {
          "output_type": "execute_result",
          "data": {
            "text/plain": [
              "       age    job_type marital_status  education has_default  balance  \\\n",
              "14794   47  technician         single  secondary          no     1710   \n",
              "\n",
              "      has_housing_loan has_personal_loan contact_type  last_contact_day  \\\n",
              "14794               no               yes     cellular                16   \n",
              "\n",
              "      last_contact_month  last_contact_duration  num_contacts_campaign  \\\n",
              "14794                jul                    525                      2   \n",
              "\n",
              "       days_since_last_contacted  num_contacts_before_campaign  \\\n",
              "14794                          0                             0   \n",
              "\n",
              "      prev_campaign_outcome has_subs_deposit age_category balance_category  \\\n",
              "14794         not_contacted               no      elderly             high   \n",
              "\n",
              "      day_category  \n",
              "14794       week_3  "
            ],
            "text/html": [
              "\n",
              "  <div id=\"df-f2dc171c-00f0-4cd6-97a1-9bdaab537f1c\" class=\"colab-df-container\">\n",
              "    <div>\n",
              "<style scoped>\n",
              "    .dataframe tbody tr th:only-of-type {\n",
              "        vertical-align: middle;\n",
              "    }\n",
              "\n",
              "    .dataframe tbody tr th {\n",
              "        vertical-align: top;\n",
              "    }\n",
              "\n",
              "    .dataframe thead th {\n",
              "        text-align: right;\n",
              "    }\n",
              "</style>\n",
              "<table border=\"1\" class=\"dataframe\">\n",
              "  <thead>\n",
              "    <tr style=\"text-align: right;\">\n",
              "      <th></th>\n",
              "      <th>age</th>\n",
              "      <th>job_type</th>\n",
              "      <th>marital_status</th>\n",
              "      <th>education</th>\n",
              "      <th>has_default</th>\n",
              "      <th>balance</th>\n",
              "      <th>has_housing_loan</th>\n",
              "      <th>has_personal_loan</th>\n",
              "      <th>contact_type</th>\n",
              "      <th>last_contact_day</th>\n",
              "      <th>last_contact_month</th>\n",
              "      <th>last_contact_duration</th>\n",
              "      <th>num_contacts_campaign</th>\n",
              "      <th>days_since_last_contacted</th>\n",
              "      <th>num_contacts_before_campaign</th>\n",
              "      <th>prev_campaign_outcome</th>\n",
              "      <th>has_subs_deposit</th>\n",
              "      <th>age_category</th>\n",
              "      <th>balance_category</th>\n",
              "      <th>day_category</th>\n",
              "    </tr>\n",
              "  </thead>\n",
              "  <tbody>\n",
              "    <tr>\n",
              "      <th>14794</th>\n",
              "      <td>47</td>\n",
              "      <td>technician</td>\n",
              "      <td>single</td>\n",
              "      <td>secondary</td>\n",
              "      <td>no</td>\n",
              "      <td>1710</td>\n",
              "      <td>no</td>\n",
              "      <td>yes</td>\n",
              "      <td>cellular</td>\n",
              "      <td>16</td>\n",
              "      <td>jul</td>\n",
              "      <td>525</td>\n",
              "      <td>2</td>\n",
              "      <td>0</td>\n",
              "      <td>0</td>\n",
              "      <td>not_contacted</td>\n",
              "      <td>no</td>\n",
              "      <td>elderly</td>\n",
              "      <td>high</td>\n",
              "      <td>week_3</td>\n",
              "    </tr>\n",
              "  </tbody>\n",
              "</table>\n",
              "</div>\n",
              "    <div class=\"colab-df-buttons\">\n",
              "\n",
              "  <div class=\"colab-df-container\">\n",
              "    <button class=\"colab-df-convert\" onclick=\"convertToInteractive('df-f2dc171c-00f0-4cd6-97a1-9bdaab537f1c')\"\n",
              "            title=\"Convert this dataframe to an interactive table.\"\n",
              "            style=\"display:none;\">\n",
              "\n",
              "  <svg xmlns=\"http://www.w3.org/2000/svg\" height=\"24px\" viewBox=\"0 -960 960 960\">\n",
              "    <path d=\"M120-120v-720h720v720H120Zm60-500h600v-160H180v160Zm220 220h160v-160H400v160Zm0 220h160v-160H400v160ZM180-400h160v-160H180v160Zm440 0h160v-160H620v160ZM180-180h160v-160H180v160Zm440 0h160v-160H620v160Z\"/>\n",
              "  </svg>\n",
              "    </button>\n",
              "\n",
              "  <style>\n",
              "    .colab-df-container {\n",
              "      display:flex;\n",
              "      gap: 12px;\n",
              "    }\n",
              "\n",
              "    .colab-df-convert {\n",
              "      background-color: #E8F0FE;\n",
              "      border: none;\n",
              "      border-radius: 50%;\n",
              "      cursor: pointer;\n",
              "      display: none;\n",
              "      fill: #1967D2;\n",
              "      height: 32px;\n",
              "      padding: 0 0 0 0;\n",
              "      width: 32px;\n",
              "    }\n",
              "\n",
              "    .colab-df-convert:hover {\n",
              "      background-color: #E2EBFA;\n",
              "      box-shadow: 0px 1px 2px rgba(60, 64, 67, 0.3), 0px 1px 3px 1px rgba(60, 64, 67, 0.15);\n",
              "      fill: #174EA6;\n",
              "    }\n",
              "\n",
              "    .colab-df-buttons div {\n",
              "      margin-bottom: 4px;\n",
              "    }\n",
              "\n",
              "    [theme=dark] .colab-df-convert {\n",
              "      background-color: #3B4455;\n",
              "      fill: #D2E3FC;\n",
              "    }\n",
              "\n",
              "    [theme=dark] .colab-df-convert:hover {\n",
              "      background-color: #434B5C;\n",
              "      box-shadow: 0px 1px 3px 1px rgba(0, 0, 0, 0.15);\n",
              "      filter: drop-shadow(0px 1px 2px rgba(0, 0, 0, 0.3));\n",
              "      fill: #FFFFFF;\n",
              "    }\n",
              "  </style>\n",
              "\n",
              "    <script>\n",
              "      const buttonEl =\n",
              "        document.querySelector('#df-f2dc171c-00f0-4cd6-97a1-9bdaab537f1c button.colab-df-convert');\n",
              "      buttonEl.style.display =\n",
              "        google.colab.kernel.accessAllowed ? 'block' : 'none';\n",
              "\n",
              "      async function convertToInteractive(key) {\n",
              "        const element = document.querySelector('#df-f2dc171c-00f0-4cd6-97a1-9bdaab537f1c');\n",
              "        const dataTable =\n",
              "          await google.colab.kernel.invokeFunction('convertToInteractive',\n",
              "                                                    [key], {});\n",
              "        if (!dataTable) return;\n",
              "\n",
              "        const docLinkHtml = 'Like what you see? Visit the ' +\n",
              "          '<a target=\"_blank\" href=https://colab.research.google.com/notebooks/data_table.ipynb>data table notebook</a>'\n",
              "          + ' to learn more about interactive tables.';\n",
              "        element.innerHTML = '';\n",
              "        dataTable['output_type'] = 'display_data';\n",
              "        await google.colab.output.renderOutput(dataTable, element);\n",
              "        const docLink = document.createElement('div');\n",
              "        docLink.innerHTML = docLinkHtml;\n",
              "        element.appendChild(docLink);\n",
              "      }\n",
              "    </script>\n",
              "  </div>\n",
              "\n",
              "    </div>\n",
              "  </div>\n"
            ],
            "application/vnd.google.colaboratory.intrinsic+json": {
              "type": "dataframe",
              "summary": "{\n  \"name\": \"df\",\n  \"rows\": 1,\n  \"fields\": [\n    {\n      \"column\": \"age\",\n      \"properties\": {\n        \"dtype\": \"number\",\n        \"std\": null,\n        \"min\": 47,\n        \"max\": 47,\n        \"num_unique_values\": 1,\n        \"samples\": [\n          47\n        ],\n        \"semantic_type\": \"\",\n        \"description\": \"\"\n      }\n    },\n    {\n      \"column\": \"job_type\",\n      \"properties\": {\n        \"dtype\": \"string\",\n        \"num_unique_values\": 1,\n        \"samples\": [\n          \"technician\"\n        ],\n        \"semantic_type\": \"\",\n        \"description\": \"\"\n      }\n    },\n    {\n      \"column\": \"marital_status\",\n      \"properties\": {\n        \"dtype\": \"string\",\n        \"num_unique_values\": 1,\n        \"samples\": [\n          \"single\"\n        ],\n        \"semantic_type\": \"\",\n        \"description\": \"\"\n      }\n    },\n    {\n      \"column\": \"education\",\n      \"properties\": {\n        \"dtype\": \"string\",\n        \"num_unique_values\": 1,\n        \"samples\": [\n          \"secondary\"\n        ],\n        \"semantic_type\": \"\",\n        \"description\": \"\"\n      }\n    },\n    {\n      \"column\": \"has_default\",\n      \"properties\": {\n        \"dtype\": \"string\",\n        \"num_unique_values\": 1,\n        \"samples\": [\n          \"no\"\n        ],\n        \"semantic_type\": \"\",\n        \"description\": \"\"\n      }\n    },\n    {\n      \"column\": \"balance\",\n      \"properties\": {\n        \"dtype\": \"number\",\n        \"std\": null,\n        \"min\": 1710,\n        \"max\": 1710,\n        \"num_unique_values\": 1,\n        \"samples\": [\n          1710\n        ],\n        \"semantic_type\": \"\",\n        \"description\": \"\"\n      }\n    },\n    {\n      \"column\": \"has_housing_loan\",\n      \"properties\": {\n        \"dtype\": \"string\",\n        \"num_unique_values\": 1,\n        \"samples\": [\n          \"no\"\n        ],\n        \"semantic_type\": \"\",\n        \"description\": \"\"\n      }\n    },\n    {\n      \"column\": \"has_personal_loan\",\n      \"properties\": {\n        \"dtype\": \"string\",\n        \"num_unique_values\": 1,\n        \"samples\": [\n          \"yes\"\n        ],\n        \"semantic_type\": \"\",\n        \"description\": \"\"\n      }\n    },\n    {\n      \"column\": \"contact_type\",\n      \"properties\": {\n        \"dtype\": \"string\",\n        \"num_unique_values\": 1,\n        \"samples\": [\n          \"cellular\"\n        ],\n        \"semantic_type\": \"\",\n        \"description\": \"\"\n      }\n    },\n    {\n      \"column\": \"last_contact_day\",\n      \"properties\": {\n        \"dtype\": \"number\",\n        \"std\": null,\n        \"min\": 16,\n        \"max\": 16,\n        \"num_unique_values\": 1,\n        \"samples\": [\n          16\n        ],\n        \"semantic_type\": \"\",\n        \"description\": \"\"\n      }\n    },\n    {\n      \"column\": \"last_contact_month\",\n      \"properties\": {\n        \"dtype\": \"string\",\n        \"num_unique_values\": 1,\n        \"samples\": [\n          \"jul\"\n        ],\n        \"semantic_type\": \"\",\n        \"description\": \"\"\n      }\n    },\n    {\n      \"column\": \"last_contact_duration\",\n      \"properties\": {\n        \"dtype\": \"number\",\n        \"std\": null,\n        \"min\": 525,\n        \"max\": 525,\n        \"num_unique_values\": 1,\n        \"samples\": [\n          525\n        ],\n        \"semantic_type\": \"\",\n        \"description\": \"\"\n      }\n    },\n    {\n      \"column\": \"num_contacts_campaign\",\n      \"properties\": {\n        \"dtype\": \"number\",\n        \"std\": null,\n        \"min\": 2,\n        \"max\": 2,\n        \"num_unique_values\": 1,\n        \"samples\": [\n          2\n        ],\n        \"semantic_type\": \"\",\n        \"description\": \"\"\n      }\n    },\n    {\n      \"column\": \"days_since_last_contacted\",\n      \"properties\": {\n        \"dtype\": \"number\",\n        \"std\": null,\n        \"min\": 0,\n        \"max\": 0,\n        \"num_unique_values\": 1,\n        \"samples\": [\n          0\n        ],\n        \"semantic_type\": \"\",\n        \"description\": \"\"\n      }\n    },\n    {\n      \"column\": \"num_contacts_before_campaign\",\n      \"properties\": {\n        \"dtype\": \"number\",\n        \"std\": null,\n        \"min\": 0,\n        \"max\": 0,\n        \"num_unique_values\": 1,\n        \"samples\": [\n          0\n        ],\n        \"semantic_type\": \"\",\n        \"description\": \"\"\n      }\n    },\n    {\n      \"column\": \"prev_campaign_outcome\",\n      \"properties\": {\n        \"dtype\": \"string\",\n        \"num_unique_values\": 1,\n        \"samples\": [\n          \"not_contacted\"\n        ],\n        \"semantic_type\": \"\",\n        \"description\": \"\"\n      }\n    },\n    {\n      \"column\": \"has_subs_deposit\",\n      \"properties\": {\n        \"dtype\": \"string\",\n        \"num_unique_values\": 1,\n        \"samples\": [\n          \"no\"\n        ],\n        \"semantic_type\": \"\",\n        \"description\": \"\"\n      }\n    },\n    {\n      \"column\": \"age_category\",\n      \"properties\": {\n        \"dtype\": \"string\",\n        \"num_unique_values\": 1,\n        \"samples\": [\n          \"elderly\"\n        ],\n        \"semantic_type\": \"\",\n        \"description\": \"\"\n      }\n    },\n    {\n      \"column\": \"balance_category\",\n      \"properties\": {\n        \"dtype\": \"string\",\n        \"num_unique_values\": 1,\n        \"samples\": [\n          \"high\"\n        ],\n        \"semantic_type\": \"\",\n        \"description\": \"\"\n      }\n    },\n    {\n      \"column\": \"day_category\",\n      \"properties\": {\n        \"dtype\": \"string\",\n        \"num_unique_values\": 1,\n        \"samples\": [\n          \"week_3\"\n        ],\n        \"semantic_type\": \"\",\n        \"description\": \"\"\n      }\n    }\n  ]\n}"
            }
          },
          "metadata": {},
          "execution_count": 34
        }
      ],
      "source": [
        "# fungsi untuk klasifikasi 'last_contact_day'\n",
        "def categorize_day(x):\n",
        "    day = x\n",
        "    if day <= 7:\n",
        "        result = 'week_1'\n",
        "    elif day <= 14:\n",
        "        result = 'week_2'\n",
        "    elif day <= 21:\n",
        "        result = 'week_3'\n",
        "    else:\n",
        "        result = 'week_4'\n",
        "    return result\n",
        "\n",
        "df['day_category'] = df['last_contact_day'].apply (lambda x: categorize_day(x))\n",
        "df.sample(1)"
      ]
    },
    {
      "cell_type": "markdown",
      "metadata": {
        "id": "uvh1ynSKmqnk"
      },
      "source": [
        "### 2.1.4 Feature Extraction : `last_contact_month`\n",
        "fitur `last_contact_month` akan di ekstrak berdasarkan kuartal dalam satu tahun dengan rincian :\n",
        "- Month jan-mar : Q1\n",
        "- Month apr-jun : Q2\n",
        "- Month jul-sep : Q3\n",
        "- Month oct-dec : Q4"
      ]
    },
    {
      "cell_type": "code",
      "execution_count": null,
      "metadata": {
        "colab": {
          "base_uri": "https://localhost:8080/",
          "height": 130
        },
        "id": "pK0cAefAmqnl",
        "outputId": "5f415dbc-4721-4b62-d963-9fb3151152a8"
      },
      "outputs": [
        {
          "output_type": "execute_result",
          "data": {
            "text/plain": [
              "      age    job_type marital_status  education has_default  balance  \\\n",
              "5489   30  technician        married  secondary          no      590   \n",
              "\n",
              "     has_housing_loan has_personal_loan contact_type  last_contact_day  ...  \\\n",
              "5489              yes                no     cellular                23  ...   \n",
              "\n",
              "     last_contact_duration  num_contacts_campaign  days_since_last_contacted  \\\n",
              "5489                   242                      3                          0   \n",
              "\n",
              "      num_contacts_before_campaign  prev_campaign_outcome has_subs_deposit  \\\n",
              "5489                             0          not_contacted               no   \n",
              "\n",
              "     age_category balance_category day_category quarter  \n",
              "5489        adult           medium       week_4      Q2  \n",
              "\n",
              "[1 rows x 21 columns]"
            ],
            "text/html": [
              "\n",
              "  <div id=\"df-847aeee9-6b3a-4a9d-bc6d-378891f6620b\" class=\"colab-df-container\">\n",
              "    <div>\n",
              "<style scoped>\n",
              "    .dataframe tbody tr th:only-of-type {\n",
              "        vertical-align: middle;\n",
              "    }\n",
              "\n",
              "    .dataframe tbody tr th {\n",
              "        vertical-align: top;\n",
              "    }\n",
              "\n",
              "    .dataframe thead th {\n",
              "        text-align: right;\n",
              "    }\n",
              "</style>\n",
              "<table border=\"1\" class=\"dataframe\">\n",
              "  <thead>\n",
              "    <tr style=\"text-align: right;\">\n",
              "      <th></th>\n",
              "      <th>age</th>\n",
              "      <th>job_type</th>\n",
              "      <th>marital_status</th>\n",
              "      <th>education</th>\n",
              "      <th>has_default</th>\n",
              "      <th>balance</th>\n",
              "      <th>has_housing_loan</th>\n",
              "      <th>has_personal_loan</th>\n",
              "      <th>contact_type</th>\n",
              "      <th>last_contact_day</th>\n",
              "      <th>...</th>\n",
              "      <th>last_contact_duration</th>\n",
              "      <th>num_contacts_campaign</th>\n",
              "      <th>days_since_last_contacted</th>\n",
              "      <th>num_contacts_before_campaign</th>\n",
              "      <th>prev_campaign_outcome</th>\n",
              "      <th>has_subs_deposit</th>\n",
              "      <th>age_category</th>\n",
              "      <th>balance_category</th>\n",
              "      <th>day_category</th>\n",
              "      <th>quarter</th>\n",
              "    </tr>\n",
              "  </thead>\n",
              "  <tbody>\n",
              "    <tr>\n",
              "      <th>5489</th>\n",
              "      <td>30</td>\n",
              "      <td>technician</td>\n",
              "      <td>married</td>\n",
              "      <td>secondary</td>\n",
              "      <td>no</td>\n",
              "      <td>590</td>\n",
              "      <td>yes</td>\n",
              "      <td>no</td>\n",
              "      <td>cellular</td>\n",
              "      <td>23</td>\n",
              "      <td>...</td>\n",
              "      <td>242</td>\n",
              "      <td>3</td>\n",
              "      <td>0</td>\n",
              "      <td>0</td>\n",
              "      <td>not_contacted</td>\n",
              "      <td>no</td>\n",
              "      <td>adult</td>\n",
              "      <td>medium</td>\n",
              "      <td>week_4</td>\n",
              "      <td>Q2</td>\n",
              "    </tr>\n",
              "  </tbody>\n",
              "</table>\n",
              "<p>1 rows × 21 columns</p>\n",
              "</div>\n",
              "    <div class=\"colab-df-buttons\">\n",
              "\n",
              "  <div class=\"colab-df-container\">\n",
              "    <button class=\"colab-df-convert\" onclick=\"convertToInteractive('df-847aeee9-6b3a-4a9d-bc6d-378891f6620b')\"\n",
              "            title=\"Convert this dataframe to an interactive table.\"\n",
              "            style=\"display:none;\">\n",
              "\n",
              "  <svg xmlns=\"http://www.w3.org/2000/svg\" height=\"24px\" viewBox=\"0 -960 960 960\">\n",
              "    <path d=\"M120-120v-720h720v720H120Zm60-500h600v-160H180v160Zm220 220h160v-160H400v160Zm0 220h160v-160H400v160ZM180-400h160v-160H180v160Zm440 0h160v-160H620v160ZM180-180h160v-160H180v160Zm440 0h160v-160H620v160Z\"/>\n",
              "  </svg>\n",
              "    </button>\n",
              "\n",
              "  <style>\n",
              "    .colab-df-container {\n",
              "      display:flex;\n",
              "      gap: 12px;\n",
              "    }\n",
              "\n",
              "    .colab-df-convert {\n",
              "      background-color: #E8F0FE;\n",
              "      border: none;\n",
              "      border-radius: 50%;\n",
              "      cursor: pointer;\n",
              "      display: none;\n",
              "      fill: #1967D2;\n",
              "      height: 32px;\n",
              "      padding: 0 0 0 0;\n",
              "      width: 32px;\n",
              "    }\n",
              "\n",
              "    .colab-df-convert:hover {\n",
              "      background-color: #E2EBFA;\n",
              "      box-shadow: 0px 1px 2px rgba(60, 64, 67, 0.3), 0px 1px 3px 1px rgba(60, 64, 67, 0.15);\n",
              "      fill: #174EA6;\n",
              "    }\n",
              "\n",
              "    .colab-df-buttons div {\n",
              "      margin-bottom: 4px;\n",
              "    }\n",
              "\n",
              "    [theme=dark] .colab-df-convert {\n",
              "      background-color: #3B4455;\n",
              "      fill: #D2E3FC;\n",
              "    }\n",
              "\n",
              "    [theme=dark] .colab-df-convert:hover {\n",
              "      background-color: #434B5C;\n",
              "      box-shadow: 0px 1px 3px 1px rgba(0, 0, 0, 0.15);\n",
              "      filter: drop-shadow(0px 1px 2px rgba(0, 0, 0, 0.3));\n",
              "      fill: #FFFFFF;\n",
              "    }\n",
              "  </style>\n",
              "\n",
              "    <script>\n",
              "      const buttonEl =\n",
              "        document.querySelector('#df-847aeee9-6b3a-4a9d-bc6d-378891f6620b button.colab-df-convert');\n",
              "      buttonEl.style.display =\n",
              "        google.colab.kernel.accessAllowed ? 'block' : 'none';\n",
              "\n",
              "      async function convertToInteractive(key) {\n",
              "        const element = document.querySelector('#df-847aeee9-6b3a-4a9d-bc6d-378891f6620b');\n",
              "        const dataTable =\n",
              "          await google.colab.kernel.invokeFunction('convertToInteractive',\n",
              "                                                    [key], {});\n",
              "        if (!dataTable) return;\n",
              "\n",
              "        const docLinkHtml = 'Like what you see? Visit the ' +\n",
              "          '<a target=\"_blank\" href=https://colab.research.google.com/notebooks/data_table.ipynb>data table notebook</a>'\n",
              "          + ' to learn more about interactive tables.';\n",
              "        element.innerHTML = '';\n",
              "        dataTable['output_type'] = 'display_data';\n",
              "        await google.colab.output.renderOutput(dataTable, element);\n",
              "        const docLink = document.createElement('div');\n",
              "        docLink.innerHTML = docLinkHtml;\n",
              "        element.appendChild(docLink);\n",
              "      }\n",
              "    </script>\n",
              "  </div>\n",
              "\n",
              "    </div>\n",
              "  </div>\n"
            ],
            "application/vnd.google.colaboratory.intrinsic+json": {
              "type": "dataframe"
            }
          },
          "metadata": {},
          "execution_count": 35
        }
      ],
      "source": [
        "# fungsi untuk klsifikasi 'last_contact_month'\n",
        "def categorize_month(x):\n",
        "    month = x\n",
        "    q1 = ['jan', 'feb', 'mar']\n",
        "    q2 = ['apr', 'may', 'jun']\n",
        "    q3 = ['jul', 'aug', 'sep']\n",
        "    q4 = ['oct', 'nov', 'dec']\n",
        "\n",
        "    if month in q1:\n",
        "        result = 'Q1'\n",
        "    elif month in q2:\n",
        "        result = 'Q2'\n",
        "    elif month in q3:\n",
        "        result = 'Q3'\n",
        "    else:\n",
        "        result = 'Q4'\n",
        "    return result\n",
        "\n",
        "df['quarter'] = df['last_contact_month'].apply(lambda x: categorize_month(x))\n",
        "df.sample(1)"
      ]
    },
    {
      "cell_type": "markdown",
      "metadata": {
        "id": "hpijEDdqmqnl"
      },
      "source": [
        "### 2.1.5 Feature Extraction : `last_contact_duration`"
      ]
    },
    {
      "cell_type": "code",
      "execution_count": null,
      "metadata": {
        "colab": {
          "base_uri": "https://localhost:8080/"
        },
        "id": "CcdEt4aJmqnm",
        "outputId": "82c72025-d998-4410-c851-09d835d66541"
      },
      "outputs": [
        {
          "output_type": "execute_result",
          "data": {
            "text/plain": [
              "min       0.0\n",
              "25%     103.0\n",
              "50%     180.0\n",
              "75%     319.0\n",
              "max    4918.0\n",
              "Name: last_contact_duration, dtype: float64"
            ]
          },
          "metadata": {},
          "execution_count": 36
        }
      ],
      "source": [
        "df['last_contact_duration'].describe().loc[['min', '25%', '50%', '75%', 'max']]"
      ]
    },
    {
      "cell_type": "markdown",
      "metadata": {
        "id": "gmtyvahCmqnn"
      },
      "source": [
        "Berdasarkan data diatas, fitur `last_contact_duration` akan di ekstrak dengan rincian sebagai berikut :\n",
        "- no contact (none) : duration = 0\n",
        "- short : duration > 0 hingga Q2\n",
        "- medium : duration > Q2 hingga Q3\n",
        "- long : duration > Q3"
      ]
    },
    {
      "cell_type": "code",
      "execution_count": null,
      "metadata": {
        "colab": {
          "base_uri": "https://localhost:8080/",
          "height": 130
        },
        "id": "BQ3mFrVlmqno",
        "outputId": "5917d51c-0b00-4495-f5a3-058699f4c037"
      },
      "outputs": [
        {
          "output_type": "execute_result",
          "data": {
            "text/plain": [
              "       age    job_type marital_status education has_default  balance  \\\n",
              "26207   30  management        married  tertiary          no      196   \n",
              "\n",
              "      has_housing_loan has_personal_loan contact_type  last_contact_day  ...  \\\n",
              "26207               no                no     cellular                20  ...   \n",
              "\n",
              "      num_contacts_campaign  days_since_last_contacted  \\\n",
              "26207                     1                        101   \n",
              "\n",
              "       num_contacts_before_campaign  prev_campaign_outcome  has_subs_deposit  \\\n",
              "26207                             4                  other                no   \n",
              "\n",
              "      age_category balance_category day_category quarter  \\\n",
              "26207        adult              low       week_3      Q4   \n",
              "\n",
              "      last_contact_duration_category  \n",
              "26207                          short  \n",
              "\n",
              "[1 rows x 22 columns]"
            ],
            "text/html": [
              "\n",
              "  <div id=\"df-86dc703c-ed02-48ff-9852-acaa06fe2840\" class=\"colab-df-container\">\n",
              "    <div>\n",
              "<style scoped>\n",
              "    .dataframe tbody tr th:only-of-type {\n",
              "        vertical-align: middle;\n",
              "    }\n",
              "\n",
              "    .dataframe tbody tr th {\n",
              "        vertical-align: top;\n",
              "    }\n",
              "\n",
              "    .dataframe thead th {\n",
              "        text-align: right;\n",
              "    }\n",
              "</style>\n",
              "<table border=\"1\" class=\"dataframe\">\n",
              "  <thead>\n",
              "    <tr style=\"text-align: right;\">\n",
              "      <th></th>\n",
              "      <th>age</th>\n",
              "      <th>job_type</th>\n",
              "      <th>marital_status</th>\n",
              "      <th>education</th>\n",
              "      <th>has_default</th>\n",
              "      <th>balance</th>\n",
              "      <th>has_housing_loan</th>\n",
              "      <th>has_personal_loan</th>\n",
              "      <th>contact_type</th>\n",
              "      <th>last_contact_day</th>\n",
              "      <th>...</th>\n",
              "      <th>num_contacts_campaign</th>\n",
              "      <th>days_since_last_contacted</th>\n",
              "      <th>num_contacts_before_campaign</th>\n",
              "      <th>prev_campaign_outcome</th>\n",
              "      <th>has_subs_deposit</th>\n",
              "      <th>age_category</th>\n",
              "      <th>balance_category</th>\n",
              "      <th>day_category</th>\n",
              "      <th>quarter</th>\n",
              "      <th>last_contact_duration_category</th>\n",
              "    </tr>\n",
              "  </thead>\n",
              "  <tbody>\n",
              "    <tr>\n",
              "      <th>26207</th>\n",
              "      <td>30</td>\n",
              "      <td>management</td>\n",
              "      <td>married</td>\n",
              "      <td>tertiary</td>\n",
              "      <td>no</td>\n",
              "      <td>196</td>\n",
              "      <td>no</td>\n",
              "      <td>no</td>\n",
              "      <td>cellular</td>\n",
              "      <td>20</td>\n",
              "      <td>...</td>\n",
              "      <td>1</td>\n",
              "      <td>101</td>\n",
              "      <td>4</td>\n",
              "      <td>other</td>\n",
              "      <td>no</td>\n",
              "      <td>adult</td>\n",
              "      <td>low</td>\n",
              "      <td>week_3</td>\n",
              "      <td>Q4</td>\n",
              "      <td>short</td>\n",
              "    </tr>\n",
              "  </tbody>\n",
              "</table>\n",
              "<p>1 rows × 22 columns</p>\n",
              "</div>\n",
              "    <div class=\"colab-df-buttons\">\n",
              "\n",
              "  <div class=\"colab-df-container\">\n",
              "    <button class=\"colab-df-convert\" onclick=\"convertToInteractive('df-86dc703c-ed02-48ff-9852-acaa06fe2840')\"\n",
              "            title=\"Convert this dataframe to an interactive table.\"\n",
              "            style=\"display:none;\">\n",
              "\n",
              "  <svg xmlns=\"http://www.w3.org/2000/svg\" height=\"24px\" viewBox=\"0 -960 960 960\">\n",
              "    <path d=\"M120-120v-720h720v720H120Zm60-500h600v-160H180v160Zm220 220h160v-160H400v160Zm0 220h160v-160H400v160ZM180-400h160v-160H180v160Zm440 0h160v-160H620v160ZM180-180h160v-160H180v160Zm440 0h160v-160H620v160Z\"/>\n",
              "  </svg>\n",
              "    </button>\n",
              "\n",
              "  <style>\n",
              "    .colab-df-container {\n",
              "      display:flex;\n",
              "      gap: 12px;\n",
              "    }\n",
              "\n",
              "    .colab-df-convert {\n",
              "      background-color: #E8F0FE;\n",
              "      border: none;\n",
              "      border-radius: 50%;\n",
              "      cursor: pointer;\n",
              "      display: none;\n",
              "      fill: #1967D2;\n",
              "      height: 32px;\n",
              "      padding: 0 0 0 0;\n",
              "      width: 32px;\n",
              "    }\n",
              "\n",
              "    .colab-df-convert:hover {\n",
              "      background-color: #E2EBFA;\n",
              "      box-shadow: 0px 1px 2px rgba(60, 64, 67, 0.3), 0px 1px 3px 1px rgba(60, 64, 67, 0.15);\n",
              "      fill: #174EA6;\n",
              "    }\n",
              "\n",
              "    .colab-df-buttons div {\n",
              "      margin-bottom: 4px;\n",
              "    }\n",
              "\n",
              "    [theme=dark] .colab-df-convert {\n",
              "      background-color: #3B4455;\n",
              "      fill: #D2E3FC;\n",
              "    }\n",
              "\n",
              "    [theme=dark] .colab-df-convert:hover {\n",
              "      background-color: #434B5C;\n",
              "      box-shadow: 0px 1px 3px 1px rgba(0, 0, 0, 0.15);\n",
              "      filter: drop-shadow(0px 1px 2px rgba(0, 0, 0, 0.3));\n",
              "      fill: #FFFFFF;\n",
              "    }\n",
              "  </style>\n",
              "\n",
              "    <script>\n",
              "      const buttonEl =\n",
              "        document.querySelector('#df-86dc703c-ed02-48ff-9852-acaa06fe2840 button.colab-df-convert');\n",
              "      buttonEl.style.display =\n",
              "        google.colab.kernel.accessAllowed ? 'block' : 'none';\n",
              "\n",
              "      async function convertToInteractive(key) {\n",
              "        const element = document.querySelector('#df-86dc703c-ed02-48ff-9852-acaa06fe2840');\n",
              "        const dataTable =\n",
              "          await google.colab.kernel.invokeFunction('convertToInteractive',\n",
              "                                                    [key], {});\n",
              "        if (!dataTable) return;\n",
              "\n",
              "        const docLinkHtml = 'Like what you see? Visit the ' +\n",
              "          '<a target=\"_blank\" href=https://colab.research.google.com/notebooks/data_table.ipynb>data table notebook</a>'\n",
              "          + ' to learn more about interactive tables.';\n",
              "        element.innerHTML = '';\n",
              "        dataTable['output_type'] = 'display_data';\n",
              "        await google.colab.output.renderOutput(dataTable, element);\n",
              "        const docLink = document.createElement('div');\n",
              "        docLink.innerHTML = docLinkHtml;\n",
              "        element.appendChild(docLink);\n",
              "      }\n",
              "    </script>\n",
              "  </div>\n",
              "\n",
              "    </div>\n",
              "  </div>\n"
            ],
            "application/vnd.google.colaboratory.intrinsic+json": {
              "type": "dataframe"
            }
          },
          "metadata": {},
          "execution_count": 37
        }
      ],
      "source": [
        "# fungsi untuk klsifikasi 'last_contact_duration'\n",
        "Q2 = df['last_contact_duration'].quantile(0.5)\n",
        "Q3 = df['last_contact_duration'].quantile(0.75)\n",
        "def categorize_duration(x):\n",
        "    durasi = x\n",
        "    if durasi <= 0:\n",
        "        result = 'fail'\n",
        "    elif durasi <= Q2:\n",
        "        result = 'short'\n",
        "    elif durasi <= Q3:\n",
        "        result = 'medium'\n",
        "    else:\n",
        "        result = 'long'\n",
        "    return result\n",
        "\n",
        "df['last_contact_duration_category'] = df['last_contact_duration'].apply (lambda x: categorize_duration(x))\n",
        "df.sample(1)"
      ]
    },
    {
      "cell_type": "markdown",
      "metadata": {
        "id": "Qgfmwap2mqnp"
      },
      "source": [
        "### 2.1.6 Feature Extraction : `num_contacts_campaign`"
      ]
    },
    {
      "cell_type": "code",
      "execution_count": null,
      "metadata": {
        "colab": {
          "base_uri": "https://localhost:8080/"
        },
        "id": "iFDvIQ9Amqnq",
        "outputId": "fca63612-1174-47f2-a5dc-4b632854fa0b"
      },
      "outputs": [
        {
          "output_type": "stream",
          "name": "stdout",
          "text": [
            "min     1.0\n",
            "25%     1.0\n",
            "50%     2.0\n",
            "75%     3.0\n",
            "max    63.0\n",
            "Name: num_contacts_campaign, dtype: float64\n",
            "90%     5.0\n"
          ]
        }
      ],
      "source": [
        "print(df['num_contacts_campaign'].describe().loc[['min', '25%', '50%', '75%', 'max']])\n",
        "print('90%    ',df['num_contacts_campaign'].quantile(0.90))"
      ]
    },
    {
      "cell_type": "markdown",
      "metadata": {
        "id": "1PB3p8jNmqnu"
      },
      "source": [
        "Berdasarkan data diatas, fitur `num_contacts_campaign` akan di ekstrak dengan rincian sebagai berikut :\n",
        "- few : num_contacts_campaign min hingga Q2\n",
        "- moderate : num_contacts_campaign > Q2 hingga percentile 90\n",
        "- frequent : num_contacts_campaign > percentile 90"
      ]
    },
    {
      "cell_type": "code",
      "execution_count": null,
      "metadata": {
        "colab": {
          "base_uri": "https://localhost:8080/",
          "height": 130
        },
        "id": "1HkpfaBMmqnv",
        "outputId": "dce94b71-2339-42c0-ecca-074edd53a5af"
      },
      "outputs": [
        {
          "output_type": "execute_result",
          "data": {
            "text/plain": [
              "       age job_type marital_status  education has_default  balance  \\\n",
              "24854   46    admin       divorced  secondary          no     7378   \n",
              "\n",
              "      has_housing_loan has_personal_loan contact_type  last_contact_day  ...  \\\n",
              "24854               no                no     cellular                18  ...   \n",
              "\n",
              "      days_since_last_contacted  num_contacts_before_campaign  \\\n",
              "24854                         0                             0   \n",
              "\n",
              "       prev_campaign_outcome  has_subs_deposit  age_category balance_category  \\\n",
              "24854          not_contacted                no       elderly             high   \n",
              "\n",
              "      day_category quarter last_contact_duration_category  \\\n",
              "24854       week_3      Q4                           long   \n",
              "\n",
              "      num_contacts_campaign_category  \n",
              "24854                            few  \n",
              "\n",
              "[1 rows x 23 columns]"
            ],
            "text/html": [
              "\n",
              "  <div id=\"df-20877be3-6292-4115-85f0-2246cbeee6ee\" class=\"colab-df-container\">\n",
              "    <div>\n",
              "<style scoped>\n",
              "    .dataframe tbody tr th:only-of-type {\n",
              "        vertical-align: middle;\n",
              "    }\n",
              "\n",
              "    .dataframe tbody tr th {\n",
              "        vertical-align: top;\n",
              "    }\n",
              "\n",
              "    .dataframe thead th {\n",
              "        text-align: right;\n",
              "    }\n",
              "</style>\n",
              "<table border=\"1\" class=\"dataframe\">\n",
              "  <thead>\n",
              "    <tr style=\"text-align: right;\">\n",
              "      <th></th>\n",
              "      <th>age</th>\n",
              "      <th>job_type</th>\n",
              "      <th>marital_status</th>\n",
              "      <th>education</th>\n",
              "      <th>has_default</th>\n",
              "      <th>balance</th>\n",
              "      <th>has_housing_loan</th>\n",
              "      <th>has_personal_loan</th>\n",
              "      <th>contact_type</th>\n",
              "      <th>last_contact_day</th>\n",
              "      <th>...</th>\n",
              "      <th>days_since_last_contacted</th>\n",
              "      <th>num_contacts_before_campaign</th>\n",
              "      <th>prev_campaign_outcome</th>\n",
              "      <th>has_subs_deposit</th>\n",
              "      <th>age_category</th>\n",
              "      <th>balance_category</th>\n",
              "      <th>day_category</th>\n",
              "      <th>quarter</th>\n",
              "      <th>last_contact_duration_category</th>\n",
              "      <th>num_contacts_campaign_category</th>\n",
              "    </tr>\n",
              "  </thead>\n",
              "  <tbody>\n",
              "    <tr>\n",
              "      <th>24854</th>\n",
              "      <td>46</td>\n",
              "      <td>admin</td>\n",
              "      <td>divorced</td>\n",
              "      <td>secondary</td>\n",
              "      <td>no</td>\n",
              "      <td>7378</td>\n",
              "      <td>no</td>\n",
              "      <td>no</td>\n",
              "      <td>cellular</td>\n",
              "      <td>18</td>\n",
              "      <td>...</td>\n",
              "      <td>0</td>\n",
              "      <td>0</td>\n",
              "      <td>not_contacted</td>\n",
              "      <td>no</td>\n",
              "      <td>elderly</td>\n",
              "      <td>high</td>\n",
              "      <td>week_3</td>\n",
              "      <td>Q4</td>\n",
              "      <td>long</td>\n",
              "      <td>few</td>\n",
              "    </tr>\n",
              "  </tbody>\n",
              "</table>\n",
              "<p>1 rows × 23 columns</p>\n",
              "</div>\n",
              "    <div class=\"colab-df-buttons\">\n",
              "\n",
              "  <div class=\"colab-df-container\">\n",
              "    <button class=\"colab-df-convert\" onclick=\"convertToInteractive('df-20877be3-6292-4115-85f0-2246cbeee6ee')\"\n",
              "            title=\"Convert this dataframe to an interactive table.\"\n",
              "            style=\"display:none;\">\n",
              "\n",
              "  <svg xmlns=\"http://www.w3.org/2000/svg\" height=\"24px\" viewBox=\"0 -960 960 960\">\n",
              "    <path d=\"M120-120v-720h720v720H120Zm60-500h600v-160H180v160Zm220 220h160v-160H400v160Zm0 220h160v-160H400v160ZM180-400h160v-160H180v160Zm440 0h160v-160H620v160ZM180-180h160v-160H180v160Zm440 0h160v-160H620v160Z\"/>\n",
              "  </svg>\n",
              "    </button>\n",
              "\n",
              "  <style>\n",
              "    .colab-df-container {\n",
              "      display:flex;\n",
              "      gap: 12px;\n",
              "    }\n",
              "\n",
              "    .colab-df-convert {\n",
              "      background-color: #E8F0FE;\n",
              "      border: none;\n",
              "      border-radius: 50%;\n",
              "      cursor: pointer;\n",
              "      display: none;\n",
              "      fill: #1967D2;\n",
              "      height: 32px;\n",
              "      padding: 0 0 0 0;\n",
              "      width: 32px;\n",
              "    }\n",
              "\n",
              "    .colab-df-convert:hover {\n",
              "      background-color: #E2EBFA;\n",
              "      box-shadow: 0px 1px 2px rgba(60, 64, 67, 0.3), 0px 1px 3px 1px rgba(60, 64, 67, 0.15);\n",
              "      fill: #174EA6;\n",
              "    }\n",
              "\n",
              "    .colab-df-buttons div {\n",
              "      margin-bottom: 4px;\n",
              "    }\n",
              "\n",
              "    [theme=dark] .colab-df-convert {\n",
              "      background-color: #3B4455;\n",
              "      fill: #D2E3FC;\n",
              "    }\n",
              "\n",
              "    [theme=dark] .colab-df-convert:hover {\n",
              "      background-color: #434B5C;\n",
              "      box-shadow: 0px 1px 3px 1px rgba(0, 0, 0, 0.15);\n",
              "      filter: drop-shadow(0px 1px 2px rgba(0, 0, 0, 0.3));\n",
              "      fill: #FFFFFF;\n",
              "    }\n",
              "  </style>\n",
              "\n",
              "    <script>\n",
              "      const buttonEl =\n",
              "        document.querySelector('#df-20877be3-6292-4115-85f0-2246cbeee6ee button.colab-df-convert');\n",
              "      buttonEl.style.display =\n",
              "        google.colab.kernel.accessAllowed ? 'block' : 'none';\n",
              "\n",
              "      async function convertToInteractive(key) {\n",
              "        const element = document.querySelector('#df-20877be3-6292-4115-85f0-2246cbeee6ee');\n",
              "        const dataTable =\n",
              "          await google.colab.kernel.invokeFunction('convertToInteractive',\n",
              "                                                    [key], {});\n",
              "        if (!dataTable) return;\n",
              "\n",
              "        const docLinkHtml = 'Like what you see? Visit the ' +\n",
              "          '<a target=\"_blank\" href=https://colab.research.google.com/notebooks/data_table.ipynb>data table notebook</a>'\n",
              "          + ' to learn more about interactive tables.';\n",
              "        element.innerHTML = '';\n",
              "        dataTable['output_type'] = 'display_data';\n",
              "        await google.colab.output.renderOutput(dataTable, element);\n",
              "        const docLink = document.createElement('div');\n",
              "        docLink.innerHTML = docLinkHtml;\n",
              "        element.appendChild(docLink);\n",
              "      }\n",
              "    </script>\n",
              "  </div>\n",
              "\n",
              "    </div>\n",
              "  </div>\n"
            ],
            "application/vnd.google.colaboratory.intrinsic+json": {
              "type": "dataframe"
            }
          },
          "metadata": {},
          "execution_count": 39
        }
      ],
      "source": [
        "#Fungsi klasifikasi 'num_contacts_campaign'\n",
        "Q2 = df['num_contacts_campaign'].quantile(0.5)\n",
        "P90 = df['num_contacts_campaign'].quantile(0.90)\n",
        "def categorize_num_cont_camp(x):\n",
        "    camp = x\n",
        "    if camp <= Q2:\n",
        "        result = 'few'\n",
        "    elif camp <= P90:\n",
        "        result = 'moderate'\n",
        "    else:\n",
        "        result = 'frequent'\n",
        "    return result\n",
        "\n",
        "df['num_contacts_campaign_category'] = df['num_contacts_campaign'].apply(lambda x: categorize_num_cont_camp(x))\n",
        "df.sample(1)"
      ]
    },
    {
      "cell_type": "markdown",
      "metadata": {
        "id": "us-vy1fjmqnw"
      },
      "source": [
        "### 2.1.7 Feature Extraction : `days_since_last_contacted`\n",
        "fitur `days_since_last_contacted` akan di ekstrak dengan rincian sebagai berikut :\n",
        "- no_contact : days_since_last_contacted = -1\n",
        "- in_week : days_since_last_contacted <=7\n",
        "- weeks : days_since_last_contacted <=21\n",
        "- in_month : days_since_last_contacted <=31\n",
        "- months : days_since_last_contacted > 31 hingga 365\n",
        "- in_year : days_since_last_contacted > 365 hingga 730\n",
        "- years : days_since_last_contacted > 730"
      ]
    },
    {
      "cell_type": "code",
      "execution_count": null,
      "metadata": {
        "colab": {
          "base_uri": "https://localhost:8080/",
          "height": 130
        },
        "id": "oJ58t6MGmqnw",
        "outputId": "fb8c718e-f871-4208-ba9b-8493664a9411"
      },
      "outputs": [
        {
          "output_type": "execute_result",
          "data": {
            "text/plain": [
              "       age    job_type marital_status  education has_default  balance  \\\n",
              "41860   40  technician        married  secondary          no     2266   \n",
              "\n",
              "      has_housing_loan has_personal_loan contact_type  last_contact_day  ...  \\\n",
              "41860               no                no     cellular                16  ...   \n",
              "\n",
              "      num_contacts_before_campaign  prev_campaign_outcome  has_subs_deposit  \\\n",
              "41860                            5                failure               yes   \n",
              "\n",
              "       age_category  balance_category day_category quarter  \\\n",
              "41860         adult              high       week_3      Q4   \n",
              "\n",
              "      last_contact_duration_category num_contacts_campaign_category  \\\n",
              "41860                           long                            few   \n",
              "\n",
              "      days_since_last_contacted_category  \n",
              "41860                             months  \n",
              "\n",
              "[1 rows x 24 columns]"
            ],
            "text/html": [
              "\n",
              "  <div id=\"df-3697de07-b166-4747-943f-daebcd54f49c\" class=\"colab-df-container\">\n",
              "    <div>\n",
              "<style scoped>\n",
              "    .dataframe tbody tr th:only-of-type {\n",
              "        vertical-align: middle;\n",
              "    }\n",
              "\n",
              "    .dataframe tbody tr th {\n",
              "        vertical-align: top;\n",
              "    }\n",
              "\n",
              "    .dataframe thead th {\n",
              "        text-align: right;\n",
              "    }\n",
              "</style>\n",
              "<table border=\"1\" class=\"dataframe\">\n",
              "  <thead>\n",
              "    <tr style=\"text-align: right;\">\n",
              "      <th></th>\n",
              "      <th>age</th>\n",
              "      <th>job_type</th>\n",
              "      <th>marital_status</th>\n",
              "      <th>education</th>\n",
              "      <th>has_default</th>\n",
              "      <th>balance</th>\n",
              "      <th>has_housing_loan</th>\n",
              "      <th>has_personal_loan</th>\n",
              "      <th>contact_type</th>\n",
              "      <th>last_contact_day</th>\n",
              "      <th>...</th>\n",
              "      <th>num_contacts_before_campaign</th>\n",
              "      <th>prev_campaign_outcome</th>\n",
              "      <th>has_subs_deposit</th>\n",
              "      <th>age_category</th>\n",
              "      <th>balance_category</th>\n",
              "      <th>day_category</th>\n",
              "      <th>quarter</th>\n",
              "      <th>last_contact_duration_category</th>\n",
              "      <th>num_contacts_campaign_category</th>\n",
              "      <th>days_since_last_contacted_category</th>\n",
              "    </tr>\n",
              "  </thead>\n",
              "  <tbody>\n",
              "    <tr>\n",
              "      <th>41860</th>\n",
              "      <td>40</td>\n",
              "      <td>technician</td>\n",
              "      <td>married</td>\n",
              "      <td>secondary</td>\n",
              "      <td>no</td>\n",
              "      <td>2266</td>\n",
              "      <td>no</td>\n",
              "      <td>no</td>\n",
              "      <td>cellular</td>\n",
              "      <td>16</td>\n",
              "      <td>...</td>\n",
              "      <td>5</td>\n",
              "      <td>failure</td>\n",
              "      <td>yes</td>\n",
              "      <td>adult</td>\n",
              "      <td>high</td>\n",
              "      <td>week_3</td>\n",
              "      <td>Q4</td>\n",
              "      <td>long</td>\n",
              "      <td>few</td>\n",
              "      <td>months</td>\n",
              "    </tr>\n",
              "  </tbody>\n",
              "</table>\n",
              "<p>1 rows × 24 columns</p>\n",
              "</div>\n",
              "    <div class=\"colab-df-buttons\">\n",
              "\n",
              "  <div class=\"colab-df-container\">\n",
              "    <button class=\"colab-df-convert\" onclick=\"convertToInteractive('df-3697de07-b166-4747-943f-daebcd54f49c')\"\n",
              "            title=\"Convert this dataframe to an interactive table.\"\n",
              "            style=\"display:none;\">\n",
              "\n",
              "  <svg xmlns=\"http://www.w3.org/2000/svg\" height=\"24px\" viewBox=\"0 -960 960 960\">\n",
              "    <path d=\"M120-120v-720h720v720H120Zm60-500h600v-160H180v160Zm220 220h160v-160H400v160Zm0 220h160v-160H400v160ZM180-400h160v-160H180v160Zm440 0h160v-160H620v160ZM180-180h160v-160H180v160Zm440 0h160v-160H620v160Z\"/>\n",
              "  </svg>\n",
              "    </button>\n",
              "\n",
              "  <style>\n",
              "    .colab-df-container {\n",
              "      display:flex;\n",
              "      gap: 12px;\n",
              "    }\n",
              "\n",
              "    .colab-df-convert {\n",
              "      background-color: #E8F0FE;\n",
              "      border: none;\n",
              "      border-radius: 50%;\n",
              "      cursor: pointer;\n",
              "      display: none;\n",
              "      fill: #1967D2;\n",
              "      height: 32px;\n",
              "      padding: 0 0 0 0;\n",
              "      width: 32px;\n",
              "    }\n",
              "\n",
              "    .colab-df-convert:hover {\n",
              "      background-color: #E2EBFA;\n",
              "      box-shadow: 0px 1px 2px rgba(60, 64, 67, 0.3), 0px 1px 3px 1px rgba(60, 64, 67, 0.15);\n",
              "      fill: #174EA6;\n",
              "    }\n",
              "\n",
              "    .colab-df-buttons div {\n",
              "      margin-bottom: 4px;\n",
              "    }\n",
              "\n",
              "    [theme=dark] .colab-df-convert {\n",
              "      background-color: #3B4455;\n",
              "      fill: #D2E3FC;\n",
              "    }\n",
              "\n",
              "    [theme=dark] .colab-df-convert:hover {\n",
              "      background-color: #434B5C;\n",
              "      box-shadow: 0px 1px 3px 1px rgba(0, 0, 0, 0.15);\n",
              "      filter: drop-shadow(0px 1px 2px rgba(0, 0, 0, 0.3));\n",
              "      fill: #FFFFFF;\n",
              "    }\n",
              "  </style>\n",
              "\n",
              "    <script>\n",
              "      const buttonEl =\n",
              "        document.querySelector('#df-3697de07-b166-4747-943f-daebcd54f49c button.colab-df-convert');\n",
              "      buttonEl.style.display =\n",
              "        google.colab.kernel.accessAllowed ? 'block' : 'none';\n",
              "\n",
              "      async function convertToInteractive(key) {\n",
              "        const element = document.querySelector('#df-3697de07-b166-4747-943f-daebcd54f49c');\n",
              "        const dataTable =\n",
              "          await google.colab.kernel.invokeFunction('convertToInteractive',\n",
              "                                                    [key], {});\n",
              "        if (!dataTable) return;\n",
              "\n",
              "        const docLinkHtml = 'Like what you see? Visit the ' +\n",
              "          '<a target=\"_blank\" href=https://colab.research.google.com/notebooks/data_table.ipynb>data table notebook</a>'\n",
              "          + ' to learn more about interactive tables.';\n",
              "        element.innerHTML = '';\n",
              "        dataTable['output_type'] = 'display_data';\n",
              "        await google.colab.output.renderOutput(dataTable, element);\n",
              "        const docLink = document.createElement('div');\n",
              "        docLink.innerHTML = docLinkHtml;\n",
              "        element.appendChild(docLink);\n",
              "      }\n",
              "    </script>\n",
              "  </div>\n",
              "\n",
              "    </div>\n",
              "  </div>\n"
            ],
            "application/vnd.google.colaboratory.intrinsic+json": {
              "type": "dataframe"
            }
          },
          "metadata": {},
          "execution_count": 40
        }
      ],
      "source": [
        "# fungsi untuk mencari klasifikasi 'days_since_last_contacted'\n",
        "def categorize_days_since_last_contacted(pdays):\n",
        "    if pdays == -1:\n",
        "        return 'no_contact'\n",
        "    elif pdays <= 7:\n",
        "        return 'in_week'\n",
        "    elif pdays <= 21:\n",
        "        return 'weeks'\n",
        "    elif pdays <= 31:\n",
        "        return 'in_month'\n",
        "    elif 31 < pdays <= 365:\n",
        "        return 'months'\n",
        "    elif 365 < pdays <= 730:\n",
        "        return 'in_year'\n",
        "    else:\n",
        "        return 'years'\n",
        "\n",
        "df['days_since_last_contacted_category'] = df['days_since_last_contacted'].apply(lambda x: categorize_days_since_last_contacted(x))\n",
        "df.sample(1)"
      ]
    },
    {
      "cell_type": "markdown",
      "metadata": {
        "id": "TEb19LJWmqnx"
      },
      "source": [
        "### 2.1.8 Feature Extraction `num_contacts_before_campaign`"
      ]
    },
    {
      "cell_type": "code",
      "execution_count": null,
      "metadata": {
        "colab": {
          "base_uri": "https://localhost:8080/"
        },
        "id": "AGHYn7KPmqny",
        "outputId": "80f3ce4a-97f9-4bce-ef4d-b7bf42e8f847"
      },
      "outputs": [
        {
          "output_type": "stream",
          "name": "stdout",
          "text": [
            "min      0.0\n",
            "25%      0.0\n",
            "50%      0.0\n",
            "75%      0.0\n",
            "max    275.0\n",
            "Name: num_contacts_before_campaign, dtype: float64\n",
            "90%     2.0\n",
            "99%     9.0\n"
          ]
        }
      ],
      "source": [
        "print(df['num_contacts_before_campaign'].describe().loc[['min', '25%', '50%', '75%', 'max']])\n",
        "print('90%    ',df['num_contacts_before_campaign'].quantile(0.90))\n",
        "print('99%    ',df['num_contacts_before_campaign'].quantile(0.99))"
      ]
    },
    {
      "cell_type": "markdown",
      "metadata": {
        "id": "zcFTeHAOmqnz"
      },
      "source": [
        "Pada tahap ini data unique dari fitur 'previous' akan di ekstrak untuk mendapatkan/mengembangkan lebih banyak insight dengan pertimbangan sebagai bahwa fitur previous berisi data yang sama dengan fitur campaign, maka klasifikasinya dibuat berdasarkan fitur campaign:\n",
        "- Previous 0 = no_contact\n",
        "- Previous 1-2 = few (> min hingga percentile 90)\n",
        "- Previous 3-9 = medium (> percentile 90 hingga percentile 99)   \n",
        "- Previous > 9 = frequent (> percentile 95)"
      ]
    },
    {
      "cell_type": "code",
      "execution_count": null,
      "metadata": {
        "colab": {
          "base_uri": "https://localhost:8080/",
          "height": 130
        },
        "id": "_F7KvHrXmqnz",
        "outputId": "ef3fb37c-b0ab-42f9-d92c-e3e9b4d60fcc"
      },
      "outputs": [
        {
          "output_type": "execute_result",
          "data": {
            "text/plain": [
              "      age job_type marital_status education has_default  balance  \\\n",
              "7808   51  retired        married   primary          no      752   \n",
              "\n",
              "     has_housing_loan has_personal_loan contact_type  last_contact_day  ...  \\\n",
              "7808              yes                no     cellular                30  ...   \n",
              "\n",
              "     prev_campaign_outcome  has_subs_deposit  age_category  balance_category  \\\n",
              "7808         not_contacted                no       elderly            medium   \n",
              "\n",
              "      day_category quarter last_contact_duration_category  \\\n",
              "7808        week_4      Q2                         medium   \n",
              "\n",
              "     num_contacts_campaign_category days_since_last_contacted_category  \\\n",
              "7808                            few                            in_week   \n",
              "\n",
              "     num_contacts_before_campaign_category  \n",
              "7808                            no_contact  \n",
              "\n",
              "[1 rows x 25 columns]"
            ],
            "text/html": [
              "\n",
              "  <div id=\"df-3ea9a115-0318-48bb-907c-813a0482ab26\" class=\"colab-df-container\">\n",
              "    <div>\n",
              "<style scoped>\n",
              "    .dataframe tbody tr th:only-of-type {\n",
              "        vertical-align: middle;\n",
              "    }\n",
              "\n",
              "    .dataframe tbody tr th {\n",
              "        vertical-align: top;\n",
              "    }\n",
              "\n",
              "    .dataframe thead th {\n",
              "        text-align: right;\n",
              "    }\n",
              "</style>\n",
              "<table border=\"1\" class=\"dataframe\">\n",
              "  <thead>\n",
              "    <tr style=\"text-align: right;\">\n",
              "      <th></th>\n",
              "      <th>age</th>\n",
              "      <th>job_type</th>\n",
              "      <th>marital_status</th>\n",
              "      <th>education</th>\n",
              "      <th>has_default</th>\n",
              "      <th>balance</th>\n",
              "      <th>has_housing_loan</th>\n",
              "      <th>has_personal_loan</th>\n",
              "      <th>contact_type</th>\n",
              "      <th>last_contact_day</th>\n",
              "      <th>...</th>\n",
              "      <th>prev_campaign_outcome</th>\n",
              "      <th>has_subs_deposit</th>\n",
              "      <th>age_category</th>\n",
              "      <th>balance_category</th>\n",
              "      <th>day_category</th>\n",
              "      <th>quarter</th>\n",
              "      <th>last_contact_duration_category</th>\n",
              "      <th>num_contacts_campaign_category</th>\n",
              "      <th>days_since_last_contacted_category</th>\n",
              "      <th>num_contacts_before_campaign_category</th>\n",
              "    </tr>\n",
              "  </thead>\n",
              "  <tbody>\n",
              "    <tr>\n",
              "      <th>7808</th>\n",
              "      <td>51</td>\n",
              "      <td>retired</td>\n",
              "      <td>married</td>\n",
              "      <td>primary</td>\n",
              "      <td>no</td>\n",
              "      <td>752</td>\n",
              "      <td>yes</td>\n",
              "      <td>no</td>\n",
              "      <td>cellular</td>\n",
              "      <td>30</td>\n",
              "      <td>...</td>\n",
              "      <td>not_contacted</td>\n",
              "      <td>no</td>\n",
              "      <td>elderly</td>\n",
              "      <td>medium</td>\n",
              "      <td>week_4</td>\n",
              "      <td>Q2</td>\n",
              "      <td>medium</td>\n",
              "      <td>few</td>\n",
              "      <td>in_week</td>\n",
              "      <td>no_contact</td>\n",
              "    </tr>\n",
              "  </tbody>\n",
              "</table>\n",
              "<p>1 rows × 25 columns</p>\n",
              "</div>\n",
              "    <div class=\"colab-df-buttons\">\n",
              "\n",
              "  <div class=\"colab-df-container\">\n",
              "    <button class=\"colab-df-convert\" onclick=\"convertToInteractive('df-3ea9a115-0318-48bb-907c-813a0482ab26')\"\n",
              "            title=\"Convert this dataframe to an interactive table.\"\n",
              "            style=\"display:none;\">\n",
              "\n",
              "  <svg xmlns=\"http://www.w3.org/2000/svg\" height=\"24px\" viewBox=\"0 -960 960 960\">\n",
              "    <path d=\"M120-120v-720h720v720H120Zm60-500h600v-160H180v160Zm220 220h160v-160H400v160Zm0 220h160v-160H400v160ZM180-400h160v-160H180v160Zm440 0h160v-160H620v160ZM180-180h160v-160H180v160Zm440 0h160v-160H620v160Z\"/>\n",
              "  </svg>\n",
              "    </button>\n",
              "\n",
              "  <style>\n",
              "    .colab-df-container {\n",
              "      display:flex;\n",
              "      gap: 12px;\n",
              "    }\n",
              "\n",
              "    .colab-df-convert {\n",
              "      background-color: #E8F0FE;\n",
              "      border: none;\n",
              "      border-radius: 50%;\n",
              "      cursor: pointer;\n",
              "      display: none;\n",
              "      fill: #1967D2;\n",
              "      height: 32px;\n",
              "      padding: 0 0 0 0;\n",
              "      width: 32px;\n",
              "    }\n",
              "\n",
              "    .colab-df-convert:hover {\n",
              "      background-color: #E2EBFA;\n",
              "      box-shadow: 0px 1px 2px rgba(60, 64, 67, 0.3), 0px 1px 3px 1px rgba(60, 64, 67, 0.15);\n",
              "      fill: #174EA6;\n",
              "    }\n",
              "\n",
              "    .colab-df-buttons div {\n",
              "      margin-bottom: 4px;\n",
              "    }\n",
              "\n",
              "    [theme=dark] .colab-df-convert {\n",
              "      background-color: #3B4455;\n",
              "      fill: #D2E3FC;\n",
              "    }\n",
              "\n",
              "    [theme=dark] .colab-df-convert:hover {\n",
              "      background-color: #434B5C;\n",
              "      box-shadow: 0px 1px 3px 1px rgba(0, 0, 0, 0.15);\n",
              "      filter: drop-shadow(0px 1px 2px rgba(0, 0, 0, 0.3));\n",
              "      fill: #FFFFFF;\n",
              "    }\n",
              "  </style>\n",
              "\n",
              "    <script>\n",
              "      const buttonEl =\n",
              "        document.querySelector('#df-3ea9a115-0318-48bb-907c-813a0482ab26 button.colab-df-convert');\n",
              "      buttonEl.style.display =\n",
              "        google.colab.kernel.accessAllowed ? 'block' : 'none';\n",
              "\n",
              "      async function convertToInteractive(key) {\n",
              "        const element = document.querySelector('#df-3ea9a115-0318-48bb-907c-813a0482ab26');\n",
              "        const dataTable =\n",
              "          await google.colab.kernel.invokeFunction('convertToInteractive',\n",
              "                                                    [key], {});\n",
              "        if (!dataTable) return;\n",
              "\n",
              "        const docLinkHtml = 'Like what you see? Visit the ' +\n",
              "          '<a target=\"_blank\" href=https://colab.research.google.com/notebooks/data_table.ipynb>data table notebook</a>'\n",
              "          + ' to learn more about interactive tables.';\n",
              "        element.innerHTML = '';\n",
              "        dataTable['output_type'] = 'display_data';\n",
              "        await google.colab.output.renderOutput(dataTable, element);\n",
              "        const docLink = document.createElement('div');\n",
              "        docLink.innerHTML = docLinkHtml;\n",
              "        element.appendChild(docLink);\n",
              "      }\n",
              "    </script>\n",
              "  </div>\n",
              "\n",
              "    </div>\n",
              "  </div>\n"
            ],
            "application/vnd.google.colaboratory.intrinsic+json": {
              "type": "dataframe"
            }
          },
          "metadata": {},
          "execution_count": 42
        }
      ],
      "source": [
        "#Membuat fungsi untuk mencari klsifikasi num_contacts_before_campaign\n",
        "P90 = df['num_contacts_before_campaign'].quantile(0.90)\n",
        "P99 = df['num_contacts_before_campaign'].quantile(0.99)\n",
        "def prev_num(x):\n",
        "    prev = x\n",
        "    if prev == 0:\n",
        "        result = 'no_contact'\n",
        "    elif prev <= P90:\n",
        "        result = 'few'\n",
        "    elif prev <= P99:\n",
        "        result = 'medium'\n",
        "    else:\n",
        "        result = 'frequent'\n",
        "    return result\n",
        "\n",
        "df['num_contacts_before_campaign_category'] = df['num_contacts_before_campaign'].apply (lambda x: prev_num(x))\n",
        "df.sample(1)"
      ]
    },
    {
      "cell_type": "code",
      "execution_count": null,
      "metadata": {
        "colab": {
          "base_uri": "https://localhost:8080/"
        },
        "id": "q-1a4ollmqn0",
        "outputId": "abe8a3ce-4815-4f39-e10c-bdb85c2ac152"
      },
      "outputs": [
        {
          "output_type": "execute_result",
          "data": {
            "text/plain": [
              "prev_campaign_outcome\n",
              "not_contacted    36699\n",
              "failure           4881\n",
              "other             1838\n",
              "success           1500\n",
              "unknown              5\n",
              "Name: count, dtype: int64"
            ]
          },
          "metadata": {},
          "execution_count": 43
        }
      ],
      "source": [
        "df['prev_campaign_outcome'].value_counts()"
      ]
    },
    {
      "cell_type": "code",
      "execution_count": null,
      "metadata": {
        "colab": {
          "base_uri": "https://localhost:8080/",
          "height": 179
        },
        "id": "VJNTeOo0mqn1",
        "outputId": "01702fd1-6aa6-4000-fcc1-11b5301523ad"
      },
      "outputs": [
        {
          "output_type": "execute_result",
          "data": {
            "text/plain": [
              "       age age_category       job_type marital_status  education has_default  \\\n",
              "6703    46      elderly          admin        married  secondary          no   \n",
              "26490   45        adult  self-employed        married  secondary          no   \n",
              "\n",
              "       balance balance_category has_housing_loan has_personal_loan  ...  \\\n",
              "6703      -363         negative              yes               yes  ...   \n",
              "26490        7              low               no                no  ...   \n",
              "\n",
              "      last_contact_duration  last_contact_duration_category  \\\n",
              "6703                    236                          medium   \n",
              "26490                   691                            long   \n",
              "\n",
              "      num_contacts_campaign num_contacts_campaign_category  \\\n",
              "6703                      1                            few   \n",
              "26490                     1                            few   \n",
              "\n",
              "      days_since_last_contacted  days_since_last_contacted_category  \\\n",
              "6703                          0                             in_week   \n",
              "26490                         0                             in_week   \n",
              "\n",
              "      num_contacts_before_campaign  num_contacts_before_campaign_category  \\\n",
              "6703                             0                             no_contact   \n",
              "26490                            0                             no_contact   \n",
              "\n",
              "      prev_campaign_outcome  has_subs_deposit  \n",
              "6703          not_contacted                no  \n",
              "26490         not_contacted               yes  \n",
              "\n",
              "[2 rows x 25 columns]"
            ],
            "text/html": [
              "\n",
              "  <div id=\"df-9c8b776c-5400-43ac-b4be-30bb8b0f7d63\" class=\"colab-df-container\">\n",
              "    <div>\n",
              "<style scoped>\n",
              "    .dataframe tbody tr th:only-of-type {\n",
              "        vertical-align: middle;\n",
              "    }\n",
              "\n",
              "    .dataframe tbody tr th {\n",
              "        vertical-align: top;\n",
              "    }\n",
              "\n",
              "    .dataframe thead th {\n",
              "        text-align: right;\n",
              "    }\n",
              "</style>\n",
              "<table border=\"1\" class=\"dataframe\">\n",
              "  <thead>\n",
              "    <tr style=\"text-align: right;\">\n",
              "      <th></th>\n",
              "      <th>age</th>\n",
              "      <th>age_category</th>\n",
              "      <th>job_type</th>\n",
              "      <th>marital_status</th>\n",
              "      <th>education</th>\n",
              "      <th>has_default</th>\n",
              "      <th>balance</th>\n",
              "      <th>balance_category</th>\n",
              "      <th>has_housing_loan</th>\n",
              "      <th>has_personal_loan</th>\n",
              "      <th>...</th>\n",
              "      <th>last_contact_duration</th>\n",
              "      <th>last_contact_duration_category</th>\n",
              "      <th>num_contacts_campaign</th>\n",
              "      <th>num_contacts_campaign_category</th>\n",
              "      <th>days_since_last_contacted</th>\n",
              "      <th>days_since_last_contacted_category</th>\n",
              "      <th>num_contacts_before_campaign</th>\n",
              "      <th>num_contacts_before_campaign_category</th>\n",
              "      <th>prev_campaign_outcome</th>\n",
              "      <th>has_subs_deposit</th>\n",
              "    </tr>\n",
              "  </thead>\n",
              "  <tbody>\n",
              "    <tr>\n",
              "      <th>6703</th>\n",
              "      <td>46</td>\n",
              "      <td>elderly</td>\n",
              "      <td>admin</td>\n",
              "      <td>married</td>\n",
              "      <td>secondary</td>\n",
              "      <td>no</td>\n",
              "      <td>-363</td>\n",
              "      <td>negative</td>\n",
              "      <td>yes</td>\n",
              "      <td>yes</td>\n",
              "      <td>...</td>\n",
              "      <td>236</td>\n",
              "      <td>medium</td>\n",
              "      <td>1</td>\n",
              "      <td>few</td>\n",
              "      <td>0</td>\n",
              "      <td>in_week</td>\n",
              "      <td>0</td>\n",
              "      <td>no_contact</td>\n",
              "      <td>not_contacted</td>\n",
              "      <td>no</td>\n",
              "    </tr>\n",
              "    <tr>\n",
              "      <th>26490</th>\n",
              "      <td>45</td>\n",
              "      <td>adult</td>\n",
              "      <td>self-employed</td>\n",
              "      <td>married</td>\n",
              "      <td>secondary</td>\n",
              "      <td>no</td>\n",
              "      <td>7</td>\n",
              "      <td>low</td>\n",
              "      <td>no</td>\n",
              "      <td>no</td>\n",
              "      <td>...</td>\n",
              "      <td>691</td>\n",
              "      <td>long</td>\n",
              "      <td>1</td>\n",
              "      <td>few</td>\n",
              "      <td>0</td>\n",
              "      <td>in_week</td>\n",
              "      <td>0</td>\n",
              "      <td>no_contact</td>\n",
              "      <td>not_contacted</td>\n",
              "      <td>yes</td>\n",
              "    </tr>\n",
              "  </tbody>\n",
              "</table>\n",
              "<p>2 rows × 25 columns</p>\n",
              "</div>\n",
              "    <div class=\"colab-df-buttons\">\n",
              "\n",
              "  <div class=\"colab-df-container\">\n",
              "    <button class=\"colab-df-convert\" onclick=\"convertToInteractive('df-9c8b776c-5400-43ac-b4be-30bb8b0f7d63')\"\n",
              "            title=\"Convert this dataframe to an interactive table.\"\n",
              "            style=\"display:none;\">\n",
              "\n",
              "  <svg xmlns=\"http://www.w3.org/2000/svg\" height=\"24px\" viewBox=\"0 -960 960 960\">\n",
              "    <path d=\"M120-120v-720h720v720H120Zm60-500h600v-160H180v160Zm220 220h160v-160H400v160Zm0 220h160v-160H400v160ZM180-400h160v-160H180v160Zm440 0h160v-160H620v160ZM180-180h160v-160H180v160Zm440 0h160v-160H620v160Z\"/>\n",
              "  </svg>\n",
              "    </button>\n",
              "\n",
              "  <style>\n",
              "    .colab-df-container {\n",
              "      display:flex;\n",
              "      gap: 12px;\n",
              "    }\n",
              "\n",
              "    .colab-df-convert {\n",
              "      background-color: #E8F0FE;\n",
              "      border: none;\n",
              "      border-radius: 50%;\n",
              "      cursor: pointer;\n",
              "      display: none;\n",
              "      fill: #1967D2;\n",
              "      height: 32px;\n",
              "      padding: 0 0 0 0;\n",
              "      width: 32px;\n",
              "    }\n",
              "\n",
              "    .colab-df-convert:hover {\n",
              "      background-color: #E2EBFA;\n",
              "      box-shadow: 0px 1px 2px rgba(60, 64, 67, 0.3), 0px 1px 3px 1px rgba(60, 64, 67, 0.15);\n",
              "      fill: #174EA6;\n",
              "    }\n",
              "\n",
              "    .colab-df-buttons div {\n",
              "      margin-bottom: 4px;\n",
              "    }\n",
              "\n",
              "    [theme=dark] .colab-df-convert {\n",
              "      background-color: #3B4455;\n",
              "      fill: #D2E3FC;\n",
              "    }\n",
              "\n",
              "    [theme=dark] .colab-df-convert:hover {\n",
              "      background-color: #434B5C;\n",
              "      box-shadow: 0px 1px 3px 1px rgba(0, 0, 0, 0.15);\n",
              "      filter: drop-shadow(0px 1px 2px rgba(0, 0, 0, 0.3));\n",
              "      fill: #FFFFFF;\n",
              "    }\n",
              "  </style>\n",
              "\n",
              "    <script>\n",
              "      const buttonEl =\n",
              "        document.querySelector('#df-9c8b776c-5400-43ac-b4be-30bb8b0f7d63 button.colab-df-convert');\n",
              "      buttonEl.style.display =\n",
              "        google.colab.kernel.accessAllowed ? 'block' : 'none';\n",
              "\n",
              "      async function convertToInteractive(key) {\n",
              "        const element = document.querySelector('#df-9c8b776c-5400-43ac-b4be-30bb8b0f7d63');\n",
              "        const dataTable =\n",
              "          await google.colab.kernel.invokeFunction('convertToInteractive',\n",
              "                                                    [key], {});\n",
              "        if (!dataTable) return;\n",
              "\n",
              "        const docLinkHtml = 'Like what you see? Visit the ' +\n",
              "          '<a target=\"_blank\" href=https://colab.research.google.com/notebooks/data_table.ipynb>data table notebook</a>'\n",
              "          + ' to learn more about interactive tables.';\n",
              "        element.innerHTML = '';\n",
              "        dataTable['output_type'] = 'display_data';\n",
              "        await google.colab.output.renderOutput(dataTable, element);\n",
              "        const docLink = document.createElement('div');\n",
              "        docLink.innerHTML = docLinkHtml;\n",
              "        element.appendChild(docLink);\n",
              "      }\n",
              "    </script>\n",
              "  </div>\n",
              "\n",
              "\n",
              "<div id=\"df-3538d73b-1f13-4998-af23-6b265d6a92d4\">\n",
              "  <button class=\"colab-df-quickchart\" onclick=\"quickchart('df-3538d73b-1f13-4998-af23-6b265d6a92d4')\"\n",
              "            title=\"Suggest charts\"\n",
              "            style=\"display:none;\">\n",
              "\n",
              "<svg xmlns=\"http://www.w3.org/2000/svg\" height=\"24px\"viewBox=\"0 0 24 24\"\n",
              "     width=\"24px\">\n",
              "    <g>\n",
              "        <path d=\"M19 3H5c-1.1 0-2 .9-2 2v14c0 1.1.9 2 2 2h14c1.1 0 2-.9 2-2V5c0-1.1-.9-2-2-2zM9 17H7v-7h2v7zm4 0h-2V7h2v10zm4 0h-2v-4h2v4z\"/>\n",
              "    </g>\n",
              "</svg>\n",
              "  </button>\n",
              "\n",
              "<style>\n",
              "  .colab-df-quickchart {\n",
              "      --bg-color: #E8F0FE;\n",
              "      --fill-color: #1967D2;\n",
              "      --hover-bg-color: #E2EBFA;\n",
              "      --hover-fill-color: #174EA6;\n",
              "      --disabled-fill-color: #AAA;\n",
              "      --disabled-bg-color: #DDD;\n",
              "  }\n",
              "\n",
              "  [theme=dark] .colab-df-quickchart {\n",
              "      --bg-color: #3B4455;\n",
              "      --fill-color: #D2E3FC;\n",
              "      --hover-bg-color: #434B5C;\n",
              "      --hover-fill-color: #FFFFFF;\n",
              "      --disabled-bg-color: #3B4455;\n",
              "      --disabled-fill-color: #666;\n",
              "  }\n",
              "\n",
              "  .colab-df-quickchart {\n",
              "    background-color: var(--bg-color);\n",
              "    border: none;\n",
              "    border-radius: 50%;\n",
              "    cursor: pointer;\n",
              "    display: none;\n",
              "    fill: var(--fill-color);\n",
              "    height: 32px;\n",
              "    padding: 0;\n",
              "    width: 32px;\n",
              "  }\n",
              "\n",
              "  .colab-df-quickchart:hover {\n",
              "    background-color: var(--hover-bg-color);\n",
              "    box-shadow: 0 1px 2px rgba(60, 64, 67, 0.3), 0 1px 3px 1px rgba(60, 64, 67, 0.15);\n",
              "    fill: var(--button-hover-fill-color);\n",
              "  }\n",
              "\n",
              "  .colab-df-quickchart-complete:disabled,\n",
              "  .colab-df-quickchart-complete:disabled:hover {\n",
              "    background-color: var(--disabled-bg-color);\n",
              "    fill: var(--disabled-fill-color);\n",
              "    box-shadow: none;\n",
              "  }\n",
              "\n",
              "  .colab-df-spinner {\n",
              "    border: 2px solid var(--fill-color);\n",
              "    border-color: transparent;\n",
              "    border-bottom-color: var(--fill-color);\n",
              "    animation:\n",
              "      spin 1s steps(1) infinite;\n",
              "  }\n",
              "\n",
              "  @keyframes spin {\n",
              "    0% {\n",
              "      border-color: transparent;\n",
              "      border-bottom-color: var(--fill-color);\n",
              "      border-left-color: var(--fill-color);\n",
              "    }\n",
              "    20% {\n",
              "      border-color: transparent;\n",
              "      border-left-color: var(--fill-color);\n",
              "      border-top-color: var(--fill-color);\n",
              "    }\n",
              "    30% {\n",
              "      border-color: transparent;\n",
              "      border-left-color: var(--fill-color);\n",
              "      border-top-color: var(--fill-color);\n",
              "      border-right-color: var(--fill-color);\n",
              "    }\n",
              "    40% {\n",
              "      border-color: transparent;\n",
              "      border-right-color: var(--fill-color);\n",
              "      border-top-color: var(--fill-color);\n",
              "    }\n",
              "    60% {\n",
              "      border-color: transparent;\n",
              "      border-right-color: var(--fill-color);\n",
              "    }\n",
              "    80% {\n",
              "      border-color: transparent;\n",
              "      border-right-color: var(--fill-color);\n",
              "      border-bottom-color: var(--fill-color);\n",
              "    }\n",
              "    90% {\n",
              "      border-color: transparent;\n",
              "      border-bottom-color: var(--fill-color);\n",
              "    }\n",
              "  }\n",
              "</style>\n",
              "\n",
              "  <script>\n",
              "    async function quickchart(key) {\n",
              "      const quickchartButtonEl =\n",
              "        document.querySelector('#' + key + ' button');\n",
              "      quickchartButtonEl.disabled = true;  // To prevent multiple clicks.\n",
              "      quickchartButtonEl.classList.add('colab-df-spinner');\n",
              "      try {\n",
              "        const charts = await google.colab.kernel.invokeFunction(\n",
              "            'suggestCharts', [key], {});\n",
              "      } catch (error) {\n",
              "        console.error('Error during call to suggestCharts:', error);\n",
              "      }\n",
              "      quickchartButtonEl.classList.remove('colab-df-spinner');\n",
              "      quickchartButtonEl.classList.add('colab-df-quickchart-complete');\n",
              "    }\n",
              "    (() => {\n",
              "      let quickchartButtonEl =\n",
              "        document.querySelector('#df-3538d73b-1f13-4998-af23-6b265d6a92d4 button');\n",
              "      quickchartButtonEl.style.display =\n",
              "        google.colab.kernel.accessAllowed ? 'block' : 'none';\n",
              "    })();\n",
              "  </script>\n",
              "</div>\n",
              "    </div>\n",
              "  </div>\n"
            ],
            "application/vnd.google.colaboratory.intrinsic+json": {
              "type": "dataframe"
            }
          },
          "metadata": {},
          "execution_count": 44
        }
      ],
      "source": [
        "#Kolom Reorder\n",
        "df = df[df.columns[[0,17,1,2,3,4,5,18,6,7,8,9,19,10,20,11,21,12,22,13,23,14,24,15,16,]]]\n",
        "df.sample(2)"
      ]
    },
    {
      "cell_type": "markdown",
      "metadata": {
        "id": "7P3TwSO9mqn2"
      },
      "source": [
        "## 2.2 Feature Encoding & Selection"
      ]
    },
    {
      "cell_type": "markdown",
      "metadata": {
        "id": "DbXR7BeJmqn3"
      },
      "source": [
        "### 2.2.1 Feature Encoding\n",
        "Feature encoding dilakukan untuk kepentingan analisa feature selection untuk melihat korelasi fitur terhadap target, dan nantinya akan digunakan untuk pemodelan machine learning."
      ]
    },
    {
      "cell_type": "markdown",
      "metadata": {
        "id": "vhrMz1H9mqn3"
      },
      "source": [
        "#### 2.2.1.1 One Hot Encoding"
      ]
    },
    {
      "cell_type": "code",
      "execution_count": null,
      "metadata": {
        "colab": {
          "base_uri": "https://localhost:8080/",
          "height": 179
        },
        "id": "gavH_nDgmqn4",
        "outputId": "d2d57873-0acf-4642-9a05-ce88f5a8e353",
        "scrolled": true
      },
      "outputs": [
        {
          "output_type": "execute_result",
          "data": {
            "text/plain": [
              "       job_type_admin  job_type_blue-collar  job_type_entrepreneur  \\\n",
              "42485               0                     0                      0   \n",
              "29170               0                     0                      0   \n",
              "\n",
              "       job_type_housemaid  job_type_management  job_type_retired  \\\n",
              "42485                   0                    0                 0   \n",
              "29170                   0                    0                 0   \n",
              "\n",
              "       job_type_self-employed  job_type_services  job_type_student  \\\n",
              "42485                       0                  0                 0   \n",
              "29170                       0                  1                 0   \n",
              "\n",
              "       job_type_technician  ...  marital_status_divorced  \\\n",
              "42485                    1  ...                        0   \n",
              "29170                    0  ...                        0   \n",
              "\n",
              "       marital_status_married  marital_status_single  contact_type_cellular  \\\n",
              "42485                       1                      0                      1   \n",
              "29170                       0                      1                      1   \n",
              "\n",
              "       contact_type_telephone  prev_campaign_outcome_failure  \\\n",
              "42485                       0                              1   \n",
              "29170                       0                              0   \n",
              "\n",
              "       prev_campaign_outcome_not_contacted  prev_campaign_outcome_other  \\\n",
              "42485                                    0                            0   \n",
              "29170                                    1                            0   \n",
              "\n",
              "       prev_campaign_outcome_success  prev_campaign_outcome_unknown  \n",
              "42485                              0                              0  \n",
              "29170                              0                              0  \n",
              "\n",
              "[2 rows x 21 columns]"
            ],
            "text/html": [
              "\n",
              "  <div id=\"df-ba6d94c7-51c1-4baa-b66d-925fe48a395a\" class=\"colab-df-container\">\n",
              "    <div>\n",
              "<style scoped>\n",
              "    .dataframe tbody tr th:only-of-type {\n",
              "        vertical-align: middle;\n",
              "    }\n",
              "\n",
              "    .dataframe tbody tr th {\n",
              "        vertical-align: top;\n",
              "    }\n",
              "\n",
              "    .dataframe thead th {\n",
              "        text-align: right;\n",
              "    }\n",
              "</style>\n",
              "<table border=\"1\" class=\"dataframe\">\n",
              "  <thead>\n",
              "    <tr style=\"text-align: right;\">\n",
              "      <th></th>\n",
              "      <th>job_type_admin</th>\n",
              "      <th>job_type_blue-collar</th>\n",
              "      <th>job_type_entrepreneur</th>\n",
              "      <th>job_type_housemaid</th>\n",
              "      <th>job_type_management</th>\n",
              "      <th>job_type_retired</th>\n",
              "      <th>job_type_self-employed</th>\n",
              "      <th>job_type_services</th>\n",
              "      <th>job_type_student</th>\n",
              "      <th>job_type_technician</th>\n",
              "      <th>...</th>\n",
              "      <th>marital_status_divorced</th>\n",
              "      <th>marital_status_married</th>\n",
              "      <th>marital_status_single</th>\n",
              "      <th>contact_type_cellular</th>\n",
              "      <th>contact_type_telephone</th>\n",
              "      <th>prev_campaign_outcome_failure</th>\n",
              "      <th>prev_campaign_outcome_not_contacted</th>\n",
              "      <th>prev_campaign_outcome_other</th>\n",
              "      <th>prev_campaign_outcome_success</th>\n",
              "      <th>prev_campaign_outcome_unknown</th>\n",
              "    </tr>\n",
              "  </thead>\n",
              "  <tbody>\n",
              "    <tr>\n",
              "      <th>42485</th>\n",
              "      <td>0</td>\n",
              "      <td>0</td>\n",
              "      <td>0</td>\n",
              "      <td>0</td>\n",
              "      <td>0</td>\n",
              "      <td>0</td>\n",
              "      <td>0</td>\n",
              "      <td>0</td>\n",
              "      <td>0</td>\n",
              "      <td>1</td>\n",
              "      <td>...</td>\n",
              "      <td>0</td>\n",
              "      <td>1</td>\n",
              "      <td>0</td>\n",
              "      <td>1</td>\n",
              "      <td>0</td>\n",
              "      <td>1</td>\n",
              "      <td>0</td>\n",
              "      <td>0</td>\n",
              "      <td>0</td>\n",
              "      <td>0</td>\n",
              "    </tr>\n",
              "    <tr>\n",
              "      <th>29170</th>\n",
              "      <td>0</td>\n",
              "      <td>0</td>\n",
              "      <td>0</td>\n",
              "      <td>0</td>\n",
              "      <td>0</td>\n",
              "      <td>0</td>\n",
              "      <td>0</td>\n",
              "      <td>1</td>\n",
              "      <td>0</td>\n",
              "      <td>0</td>\n",
              "      <td>...</td>\n",
              "      <td>0</td>\n",
              "      <td>0</td>\n",
              "      <td>1</td>\n",
              "      <td>1</td>\n",
              "      <td>0</td>\n",
              "      <td>0</td>\n",
              "      <td>1</td>\n",
              "      <td>0</td>\n",
              "      <td>0</td>\n",
              "      <td>0</td>\n",
              "    </tr>\n",
              "  </tbody>\n",
              "</table>\n",
              "<p>2 rows × 21 columns</p>\n",
              "</div>\n",
              "    <div class=\"colab-df-buttons\">\n",
              "\n",
              "  <div class=\"colab-df-container\">\n",
              "    <button class=\"colab-df-convert\" onclick=\"convertToInteractive('df-ba6d94c7-51c1-4baa-b66d-925fe48a395a')\"\n",
              "            title=\"Convert this dataframe to an interactive table.\"\n",
              "            style=\"display:none;\">\n",
              "\n",
              "  <svg xmlns=\"http://www.w3.org/2000/svg\" height=\"24px\" viewBox=\"0 -960 960 960\">\n",
              "    <path d=\"M120-120v-720h720v720H120Zm60-500h600v-160H180v160Zm220 220h160v-160H400v160Zm0 220h160v-160H400v160ZM180-400h160v-160H180v160Zm440 0h160v-160H620v160ZM180-180h160v-160H180v160Zm440 0h160v-160H620v160Z\"/>\n",
              "  </svg>\n",
              "    </button>\n",
              "\n",
              "  <style>\n",
              "    .colab-df-container {\n",
              "      display:flex;\n",
              "      gap: 12px;\n",
              "    }\n",
              "\n",
              "    .colab-df-convert {\n",
              "      background-color: #E8F0FE;\n",
              "      border: none;\n",
              "      border-radius: 50%;\n",
              "      cursor: pointer;\n",
              "      display: none;\n",
              "      fill: #1967D2;\n",
              "      height: 32px;\n",
              "      padding: 0 0 0 0;\n",
              "      width: 32px;\n",
              "    }\n",
              "\n",
              "    .colab-df-convert:hover {\n",
              "      background-color: #E2EBFA;\n",
              "      box-shadow: 0px 1px 2px rgba(60, 64, 67, 0.3), 0px 1px 3px 1px rgba(60, 64, 67, 0.15);\n",
              "      fill: #174EA6;\n",
              "    }\n",
              "\n",
              "    .colab-df-buttons div {\n",
              "      margin-bottom: 4px;\n",
              "    }\n",
              "\n",
              "    [theme=dark] .colab-df-convert {\n",
              "      background-color: #3B4455;\n",
              "      fill: #D2E3FC;\n",
              "    }\n",
              "\n",
              "    [theme=dark] .colab-df-convert:hover {\n",
              "      background-color: #434B5C;\n",
              "      box-shadow: 0px 1px 3px 1px rgba(0, 0, 0, 0.15);\n",
              "      filter: drop-shadow(0px 1px 2px rgba(0, 0, 0, 0.3));\n",
              "      fill: #FFFFFF;\n",
              "    }\n",
              "  </style>\n",
              "\n",
              "    <script>\n",
              "      const buttonEl =\n",
              "        document.querySelector('#df-ba6d94c7-51c1-4baa-b66d-925fe48a395a button.colab-df-convert');\n",
              "      buttonEl.style.display =\n",
              "        google.colab.kernel.accessAllowed ? 'block' : 'none';\n",
              "\n",
              "      async function convertToInteractive(key) {\n",
              "        const element = document.querySelector('#df-ba6d94c7-51c1-4baa-b66d-925fe48a395a');\n",
              "        const dataTable =\n",
              "          await google.colab.kernel.invokeFunction('convertToInteractive',\n",
              "                                                    [key], {});\n",
              "        if (!dataTable) return;\n",
              "\n",
              "        const docLinkHtml = 'Like what you see? Visit the ' +\n",
              "          '<a target=\"_blank\" href=https://colab.research.google.com/notebooks/data_table.ipynb>data table notebook</a>'\n",
              "          + ' to learn more about interactive tables.';\n",
              "        element.innerHTML = '';\n",
              "        dataTable['output_type'] = 'display_data';\n",
              "        await google.colab.output.renderOutput(dataTable, element);\n",
              "        const docLink = document.createElement('div');\n",
              "        docLink.innerHTML = docLinkHtml;\n",
              "        element.appendChild(docLink);\n",
              "      }\n",
              "    </script>\n",
              "  </div>\n",
              "\n",
              "\n",
              "<div id=\"df-d809ba36-6512-4852-b15c-122fa3a9b935\">\n",
              "  <button class=\"colab-df-quickchart\" onclick=\"quickchart('df-d809ba36-6512-4852-b15c-122fa3a9b935')\"\n",
              "            title=\"Suggest charts\"\n",
              "            style=\"display:none;\">\n",
              "\n",
              "<svg xmlns=\"http://www.w3.org/2000/svg\" height=\"24px\"viewBox=\"0 0 24 24\"\n",
              "     width=\"24px\">\n",
              "    <g>\n",
              "        <path d=\"M19 3H5c-1.1 0-2 .9-2 2v14c0 1.1.9 2 2 2h14c1.1 0 2-.9 2-2V5c0-1.1-.9-2-2-2zM9 17H7v-7h2v7zm4 0h-2V7h2v10zm4 0h-2v-4h2v4z\"/>\n",
              "    </g>\n",
              "</svg>\n",
              "  </button>\n",
              "\n",
              "<style>\n",
              "  .colab-df-quickchart {\n",
              "      --bg-color: #E8F0FE;\n",
              "      --fill-color: #1967D2;\n",
              "      --hover-bg-color: #E2EBFA;\n",
              "      --hover-fill-color: #174EA6;\n",
              "      --disabled-fill-color: #AAA;\n",
              "      --disabled-bg-color: #DDD;\n",
              "  }\n",
              "\n",
              "  [theme=dark] .colab-df-quickchart {\n",
              "      --bg-color: #3B4455;\n",
              "      --fill-color: #D2E3FC;\n",
              "      --hover-bg-color: #434B5C;\n",
              "      --hover-fill-color: #FFFFFF;\n",
              "      --disabled-bg-color: #3B4455;\n",
              "      --disabled-fill-color: #666;\n",
              "  }\n",
              "\n",
              "  .colab-df-quickchart {\n",
              "    background-color: var(--bg-color);\n",
              "    border: none;\n",
              "    border-radius: 50%;\n",
              "    cursor: pointer;\n",
              "    display: none;\n",
              "    fill: var(--fill-color);\n",
              "    height: 32px;\n",
              "    padding: 0;\n",
              "    width: 32px;\n",
              "  }\n",
              "\n",
              "  .colab-df-quickchart:hover {\n",
              "    background-color: var(--hover-bg-color);\n",
              "    box-shadow: 0 1px 2px rgba(60, 64, 67, 0.3), 0 1px 3px 1px rgba(60, 64, 67, 0.15);\n",
              "    fill: var(--button-hover-fill-color);\n",
              "  }\n",
              "\n",
              "  .colab-df-quickchart-complete:disabled,\n",
              "  .colab-df-quickchart-complete:disabled:hover {\n",
              "    background-color: var(--disabled-bg-color);\n",
              "    fill: var(--disabled-fill-color);\n",
              "    box-shadow: none;\n",
              "  }\n",
              "\n",
              "  .colab-df-spinner {\n",
              "    border: 2px solid var(--fill-color);\n",
              "    border-color: transparent;\n",
              "    border-bottom-color: var(--fill-color);\n",
              "    animation:\n",
              "      spin 1s steps(1) infinite;\n",
              "  }\n",
              "\n",
              "  @keyframes spin {\n",
              "    0% {\n",
              "      border-color: transparent;\n",
              "      border-bottom-color: var(--fill-color);\n",
              "      border-left-color: var(--fill-color);\n",
              "    }\n",
              "    20% {\n",
              "      border-color: transparent;\n",
              "      border-left-color: var(--fill-color);\n",
              "      border-top-color: var(--fill-color);\n",
              "    }\n",
              "    30% {\n",
              "      border-color: transparent;\n",
              "      border-left-color: var(--fill-color);\n",
              "      border-top-color: var(--fill-color);\n",
              "      border-right-color: var(--fill-color);\n",
              "    }\n",
              "    40% {\n",
              "      border-color: transparent;\n",
              "      border-right-color: var(--fill-color);\n",
              "      border-top-color: var(--fill-color);\n",
              "    }\n",
              "    60% {\n",
              "      border-color: transparent;\n",
              "      border-right-color: var(--fill-color);\n",
              "    }\n",
              "    80% {\n",
              "      border-color: transparent;\n",
              "      border-right-color: var(--fill-color);\n",
              "      border-bottom-color: var(--fill-color);\n",
              "    }\n",
              "    90% {\n",
              "      border-color: transparent;\n",
              "      border-bottom-color: var(--fill-color);\n",
              "    }\n",
              "  }\n",
              "</style>\n",
              "\n",
              "  <script>\n",
              "    async function quickchart(key) {\n",
              "      const quickchartButtonEl =\n",
              "        document.querySelector('#' + key + ' button');\n",
              "      quickchartButtonEl.disabled = true;  // To prevent multiple clicks.\n",
              "      quickchartButtonEl.classList.add('colab-df-spinner');\n",
              "      try {\n",
              "        const charts = await google.colab.kernel.invokeFunction(\n",
              "            'suggestCharts', [key], {});\n",
              "      } catch (error) {\n",
              "        console.error('Error during call to suggestCharts:', error);\n",
              "      }\n",
              "      quickchartButtonEl.classList.remove('colab-df-spinner');\n",
              "      quickchartButtonEl.classList.add('colab-df-quickchart-complete');\n",
              "    }\n",
              "    (() => {\n",
              "      let quickchartButtonEl =\n",
              "        document.querySelector('#df-d809ba36-6512-4852-b15c-122fa3a9b935 button');\n",
              "      quickchartButtonEl.style.display =\n",
              "        google.colab.kernel.accessAllowed ? 'block' : 'none';\n",
              "    })();\n",
              "  </script>\n",
              "</div>\n",
              "    </div>\n",
              "  </div>\n"
            ],
            "application/vnd.google.colaboratory.intrinsic+json": {
              "type": "dataframe"
            }
          },
          "metadata": {},
          "execution_count": 45
        }
      ],
      "source": [
        "df_encoded = pd.get_dummies(df[['job_type', 'marital_status', 'contact_type', 'prev_campaign_outcome']])\n",
        "df_encoded = df_encoded.astype(int)\n",
        "df_encoded.sample(2)"
      ]
    },
    {
      "cell_type": "markdown",
      "metadata": {
        "id": "jLdvPBpXmqn5"
      },
      "source": [
        "#### 2.2.1.2 Label Encoding"
      ]
    },
    {
      "cell_type": "code",
      "execution_count": null,
      "metadata": {
        "id": "TyADD-43mqn6"
      },
      "outputs": [],
      "source": [
        "#Label Encoding\n",
        "has_cols = ['has_subs_deposit', 'has_default', 'has_housing_loan', 'has_personal_loan']\n",
        "for col in has_cols:\n",
        "    df[col] = df[col].map({'yes': 1, 'no': 0})"
      ]
    },
    {
      "cell_type": "code",
      "execution_count": null,
      "metadata": {
        "id": "N9tLL0ROmqn7"
      },
      "outputs": [],
      "source": [
        "#Label Encoding\n",
        "df['job_type'] = df['job_type'].map({'admin': 0, 'blue-collar': 1, 'entrepreneur': 2, 'housemaid': 3, 'management': 4, 'retired': 5, 'self-employed': 6, 'services': 7, 'student': 8, 'technician': 9, 'unemployed': 10})\n",
        "df['marital_status'] = df['marital_status'].map({'single': 0, 'married': 1, 'divorced': 2})\n",
        "df['contact_type'] = df['contact_type'].map({'cellular': 0, 'telephone': 1})\n",
        "df['age_category'] = df['age_category'].map({'teenager': 0, 'adult': 1, 'elderly': 2})\n",
        "df['education'] = df['education'].map({'primary': 0, 'secondary': 1, 'tertiary': 2})\n",
        "df['balance_category'] = df['balance_category'].map({'negative': 0, 'zero': 1, 'low': 2, 'medium': 3, 'high': 4})\n",
        "df['day_category'] = df['day_category'].map({'week_1': 0, 'week_2': 1, 'week_3': 2, 'week_4': 3})\n",
        "df['last_contact_month'] = df['last_contact_month'].map({'jan': 0, 'feb': 1, 'mar': 2, 'apr': 3, 'may': 4, 'jun': 5, 'jul': 6, 'aug': 7, 'sep': 8, 'oct': 9, 'nov':10, 'dec':11 })\n",
        "df['quarter'] = df['quarter'].map({'Q1': 0, 'Q2': 1, 'Q3': 2, 'Q4':3})\n",
        "df['last_contact_duration_category'] = df['last_contact_duration_category'].map({'fail': 0, 'short': 1, 'medium': 2, 'long': 3})\n",
        "df['num_contacts_campaign_category'] = df['num_contacts_campaign_category'].map({'few': 0, 'moderate': 1, 'frequent': 2})\n",
        "df['days_since_last_contacted_category'] = df['days_since_last_contacted_category'].map({'no_contact': 0, 'in_week': 1, 'weeks': 2, 'in_month': 3, 'months': 4, 'in_year': 5, 'years':6})\n",
        "df['num_contacts_before_campaign_category'] = df['num_contacts_before_campaign_category'].map({'no_contact': 0, 'few': 1, 'medium': 2, 'frequent': 3})\n",
        "df['prev_campaign_outcome'] = df['prev_campaign_outcome'].map({'not_contacted':0, 'failure': 1, 'success': 2, 'other':3, 'unknown':4})"
      ]
    },
    {
      "cell_type": "code",
      "execution_count": null,
      "metadata": {
        "id": "REpKHf_Gmqn7"
      },
      "outputs": [],
      "source": [
        "df_combined = pd.concat([df, df_encoded], axis=1)"
      ]
    },
    {
      "cell_type": "code",
      "execution_count": null,
      "metadata": {
        "id": "Vas3Go1kmqn8"
      },
      "outputs": [],
      "source": [
        "df = df_combined"
      ]
    },
    {
      "cell_type": "code",
      "execution_count": null,
      "metadata": {
        "colab": {
          "base_uri": "https://localhost:8080/",
          "height": 179
        },
        "id": "FALq5cVemqn9",
        "outputId": "1148c82e-ee79-4b79-bdf7-31becce50ca2"
      },
      "outputs": [
        {
          "output_type": "execute_result",
          "data": {
            "text/plain": [
              "       age  age_category  job_type  job_type_admin  job_type_blue-collar  \\\n",
              "31359   30             1         4               0                     0   \n",
              "1475    42             1         1               0                     1   \n",
              "\n",
              "       job_type_entrepreneur  job_type_housemaid  job_type_management  \\\n",
              "31359                      0                   0                    1   \n",
              "1475                       0                   0                    0   \n",
              "\n",
              "       job_type_retired  job_type_self-employed  ...  \\\n",
              "31359                 0                       0  ...   \n",
              "1475                  0                       0  ...   \n",
              "\n",
              "       days_since_last_contacted_category  num_contacts_before_campaign  \\\n",
              "31359                                   1                             0   \n",
              "1475                                    1                             0   \n",
              "\n",
              "       num_contacts_before_campaign_category  prev_campaign_outcome  \\\n",
              "31359                                      0                      0   \n",
              "1475                                       0                      0   \n",
              "\n",
              "       prev_campaign_outcome_failure  prev_campaign_outcome_not_contacted  \\\n",
              "31359                              0                                    1   \n",
              "1475                               0                                    1   \n",
              "\n",
              "       prev_campaign_outcome_other  prev_campaign_outcome_success  \\\n",
              "31359                            0                              0   \n",
              "1475                             0                              0   \n",
              "\n",
              "       prev_campaign_outcome_unknown  has_subs_deposit  \n",
              "31359                              0                 1  \n",
              "1475                               0                 0  \n",
              "\n",
              "[2 rows x 46 columns]"
            ],
            "text/html": [
              "\n",
              "  <div id=\"df-49985e9b-0eac-4b44-88f6-c2304932a733\" class=\"colab-df-container\">\n",
              "    <div>\n",
              "<style scoped>\n",
              "    .dataframe tbody tr th:only-of-type {\n",
              "        vertical-align: middle;\n",
              "    }\n",
              "\n",
              "    .dataframe tbody tr th {\n",
              "        vertical-align: top;\n",
              "    }\n",
              "\n",
              "    .dataframe thead th {\n",
              "        text-align: right;\n",
              "    }\n",
              "</style>\n",
              "<table border=\"1\" class=\"dataframe\">\n",
              "  <thead>\n",
              "    <tr style=\"text-align: right;\">\n",
              "      <th></th>\n",
              "      <th>age</th>\n",
              "      <th>age_category</th>\n",
              "      <th>job_type</th>\n",
              "      <th>job_type_admin</th>\n",
              "      <th>job_type_blue-collar</th>\n",
              "      <th>job_type_entrepreneur</th>\n",
              "      <th>job_type_housemaid</th>\n",
              "      <th>job_type_management</th>\n",
              "      <th>job_type_retired</th>\n",
              "      <th>job_type_self-employed</th>\n",
              "      <th>...</th>\n",
              "      <th>days_since_last_contacted_category</th>\n",
              "      <th>num_contacts_before_campaign</th>\n",
              "      <th>num_contacts_before_campaign_category</th>\n",
              "      <th>prev_campaign_outcome</th>\n",
              "      <th>prev_campaign_outcome_failure</th>\n",
              "      <th>prev_campaign_outcome_not_contacted</th>\n",
              "      <th>prev_campaign_outcome_other</th>\n",
              "      <th>prev_campaign_outcome_success</th>\n",
              "      <th>prev_campaign_outcome_unknown</th>\n",
              "      <th>has_subs_deposit</th>\n",
              "    </tr>\n",
              "  </thead>\n",
              "  <tbody>\n",
              "    <tr>\n",
              "      <th>31359</th>\n",
              "      <td>30</td>\n",
              "      <td>1</td>\n",
              "      <td>4</td>\n",
              "      <td>0</td>\n",
              "      <td>0</td>\n",
              "      <td>0</td>\n",
              "      <td>0</td>\n",
              "      <td>1</td>\n",
              "      <td>0</td>\n",
              "      <td>0</td>\n",
              "      <td>...</td>\n",
              "      <td>1</td>\n",
              "      <td>0</td>\n",
              "      <td>0</td>\n",
              "      <td>0</td>\n",
              "      <td>0</td>\n",
              "      <td>1</td>\n",
              "      <td>0</td>\n",
              "      <td>0</td>\n",
              "      <td>0</td>\n",
              "      <td>1</td>\n",
              "    </tr>\n",
              "    <tr>\n",
              "      <th>1475</th>\n",
              "      <td>42</td>\n",
              "      <td>1</td>\n",
              "      <td>1</td>\n",
              "      <td>0</td>\n",
              "      <td>1</td>\n",
              "      <td>0</td>\n",
              "      <td>0</td>\n",
              "      <td>0</td>\n",
              "      <td>0</td>\n",
              "      <td>0</td>\n",
              "      <td>...</td>\n",
              "      <td>1</td>\n",
              "      <td>0</td>\n",
              "      <td>0</td>\n",
              "      <td>0</td>\n",
              "      <td>0</td>\n",
              "      <td>1</td>\n",
              "      <td>0</td>\n",
              "      <td>0</td>\n",
              "      <td>0</td>\n",
              "      <td>0</td>\n",
              "    </tr>\n",
              "  </tbody>\n",
              "</table>\n",
              "<p>2 rows × 46 columns</p>\n",
              "</div>\n",
              "    <div class=\"colab-df-buttons\">\n",
              "\n",
              "  <div class=\"colab-df-container\">\n",
              "    <button class=\"colab-df-convert\" onclick=\"convertToInteractive('df-49985e9b-0eac-4b44-88f6-c2304932a733')\"\n",
              "            title=\"Convert this dataframe to an interactive table.\"\n",
              "            style=\"display:none;\">\n",
              "\n",
              "  <svg xmlns=\"http://www.w3.org/2000/svg\" height=\"24px\" viewBox=\"0 -960 960 960\">\n",
              "    <path d=\"M120-120v-720h720v720H120Zm60-500h600v-160H180v160Zm220 220h160v-160H400v160Zm0 220h160v-160H400v160ZM180-400h160v-160H180v160Zm440 0h160v-160H620v160ZM180-180h160v-160H180v160Zm440 0h160v-160H620v160Z\"/>\n",
              "  </svg>\n",
              "    </button>\n",
              "\n",
              "  <style>\n",
              "    .colab-df-container {\n",
              "      display:flex;\n",
              "      gap: 12px;\n",
              "    }\n",
              "\n",
              "    .colab-df-convert {\n",
              "      background-color: #E8F0FE;\n",
              "      border: none;\n",
              "      border-radius: 50%;\n",
              "      cursor: pointer;\n",
              "      display: none;\n",
              "      fill: #1967D2;\n",
              "      height: 32px;\n",
              "      padding: 0 0 0 0;\n",
              "      width: 32px;\n",
              "    }\n",
              "\n",
              "    .colab-df-convert:hover {\n",
              "      background-color: #E2EBFA;\n",
              "      box-shadow: 0px 1px 2px rgba(60, 64, 67, 0.3), 0px 1px 3px 1px rgba(60, 64, 67, 0.15);\n",
              "      fill: #174EA6;\n",
              "    }\n",
              "\n",
              "    .colab-df-buttons div {\n",
              "      margin-bottom: 4px;\n",
              "    }\n",
              "\n",
              "    [theme=dark] .colab-df-convert {\n",
              "      background-color: #3B4455;\n",
              "      fill: #D2E3FC;\n",
              "    }\n",
              "\n",
              "    [theme=dark] .colab-df-convert:hover {\n",
              "      background-color: #434B5C;\n",
              "      box-shadow: 0px 1px 3px 1px rgba(0, 0, 0, 0.15);\n",
              "      filter: drop-shadow(0px 1px 2px rgba(0, 0, 0, 0.3));\n",
              "      fill: #FFFFFF;\n",
              "    }\n",
              "  </style>\n",
              "\n",
              "    <script>\n",
              "      const buttonEl =\n",
              "        document.querySelector('#df-49985e9b-0eac-4b44-88f6-c2304932a733 button.colab-df-convert');\n",
              "      buttonEl.style.display =\n",
              "        google.colab.kernel.accessAllowed ? 'block' : 'none';\n",
              "\n",
              "      async function convertToInteractive(key) {\n",
              "        const element = document.querySelector('#df-49985e9b-0eac-4b44-88f6-c2304932a733');\n",
              "        const dataTable =\n",
              "          await google.colab.kernel.invokeFunction('convertToInteractive',\n",
              "                                                    [key], {});\n",
              "        if (!dataTable) return;\n",
              "\n",
              "        const docLinkHtml = 'Like what you see? Visit the ' +\n",
              "          '<a target=\"_blank\" href=https://colab.research.google.com/notebooks/data_table.ipynb>data table notebook</a>'\n",
              "          + ' to learn more about interactive tables.';\n",
              "        element.innerHTML = '';\n",
              "        dataTable['output_type'] = 'display_data';\n",
              "        await google.colab.output.renderOutput(dataTable, element);\n",
              "        const docLink = document.createElement('div');\n",
              "        docLink.innerHTML = docLinkHtml;\n",
              "        element.appendChild(docLink);\n",
              "      }\n",
              "    </script>\n",
              "  </div>\n",
              "\n",
              "\n",
              "<div id=\"df-42d950c3-dc08-4359-b15b-28c1885a0378\">\n",
              "  <button class=\"colab-df-quickchart\" onclick=\"quickchart('df-42d950c3-dc08-4359-b15b-28c1885a0378')\"\n",
              "            title=\"Suggest charts\"\n",
              "            style=\"display:none;\">\n",
              "\n",
              "<svg xmlns=\"http://www.w3.org/2000/svg\" height=\"24px\"viewBox=\"0 0 24 24\"\n",
              "     width=\"24px\">\n",
              "    <g>\n",
              "        <path d=\"M19 3H5c-1.1 0-2 .9-2 2v14c0 1.1.9 2 2 2h14c1.1 0 2-.9 2-2V5c0-1.1-.9-2-2-2zM9 17H7v-7h2v7zm4 0h-2V7h2v10zm4 0h-2v-4h2v4z\"/>\n",
              "    </g>\n",
              "</svg>\n",
              "  </button>\n",
              "\n",
              "<style>\n",
              "  .colab-df-quickchart {\n",
              "      --bg-color: #E8F0FE;\n",
              "      --fill-color: #1967D2;\n",
              "      --hover-bg-color: #E2EBFA;\n",
              "      --hover-fill-color: #174EA6;\n",
              "      --disabled-fill-color: #AAA;\n",
              "      --disabled-bg-color: #DDD;\n",
              "  }\n",
              "\n",
              "  [theme=dark] .colab-df-quickchart {\n",
              "      --bg-color: #3B4455;\n",
              "      --fill-color: #D2E3FC;\n",
              "      --hover-bg-color: #434B5C;\n",
              "      --hover-fill-color: #FFFFFF;\n",
              "      --disabled-bg-color: #3B4455;\n",
              "      --disabled-fill-color: #666;\n",
              "  }\n",
              "\n",
              "  .colab-df-quickchart {\n",
              "    background-color: var(--bg-color);\n",
              "    border: none;\n",
              "    border-radius: 50%;\n",
              "    cursor: pointer;\n",
              "    display: none;\n",
              "    fill: var(--fill-color);\n",
              "    height: 32px;\n",
              "    padding: 0;\n",
              "    width: 32px;\n",
              "  }\n",
              "\n",
              "  .colab-df-quickchart:hover {\n",
              "    background-color: var(--hover-bg-color);\n",
              "    box-shadow: 0 1px 2px rgba(60, 64, 67, 0.3), 0 1px 3px 1px rgba(60, 64, 67, 0.15);\n",
              "    fill: var(--button-hover-fill-color);\n",
              "  }\n",
              "\n",
              "  .colab-df-quickchart-complete:disabled,\n",
              "  .colab-df-quickchart-complete:disabled:hover {\n",
              "    background-color: var(--disabled-bg-color);\n",
              "    fill: var(--disabled-fill-color);\n",
              "    box-shadow: none;\n",
              "  }\n",
              "\n",
              "  .colab-df-spinner {\n",
              "    border: 2px solid var(--fill-color);\n",
              "    border-color: transparent;\n",
              "    border-bottom-color: var(--fill-color);\n",
              "    animation:\n",
              "      spin 1s steps(1) infinite;\n",
              "  }\n",
              "\n",
              "  @keyframes spin {\n",
              "    0% {\n",
              "      border-color: transparent;\n",
              "      border-bottom-color: var(--fill-color);\n",
              "      border-left-color: var(--fill-color);\n",
              "    }\n",
              "    20% {\n",
              "      border-color: transparent;\n",
              "      border-left-color: var(--fill-color);\n",
              "      border-top-color: var(--fill-color);\n",
              "    }\n",
              "    30% {\n",
              "      border-color: transparent;\n",
              "      border-left-color: var(--fill-color);\n",
              "      border-top-color: var(--fill-color);\n",
              "      border-right-color: var(--fill-color);\n",
              "    }\n",
              "    40% {\n",
              "      border-color: transparent;\n",
              "      border-right-color: var(--fill-color);\n",
              "      border-top-color: var(--fill-color);\n",
              "    }\n",
              "    60% {\n",
              "      border-color: transparent;\n",
              "      border-right-color: var(--fill-color);\n",
              "    }\n",
              "    80% {\n",
              "      border-color: transparent;\n",
              "      border-right-color: var(--fill-color);\n",
              "      border-bottom-color: var(--fill-color);\n",
              "    }\n",
              "    90% {\n",
              "      border-color: transparent;\n",
              "      border-bottom-color: var(--fill-color);\n",
              "    }\n",
              "  }\n",
              "</style>\n",
              "\n",
              "  <script>\n",
              "    async function quickchart(key) {\n",
              "      const quickchartButtonEl =\n",
              "        document.querySelector('#' + key + ' button');\n",
              "      quickchartButtonEl.disabled = true;  // To prevent multiple clicks.\n",
              "      quickchartButtonEl.classList.add('colab-df-spinner');\n",
              "      try {\n",
              "        const charts = await google.colab.kernel.invokeFunction(\n",
              "            'suggestCharts', [key], {});\n",
              "      } catch (error) {\n",
              "        console.error('Error during call to suggestCharts:', error);\n",
              "      }\n",
              "      quickchartButtonEl.classList.remove('colab-df-spinner');\n",
              "      quickchartButtonEl.classList.add('colab-df-quickchart-complete');\n",
              "    }\n",
              "    (() => {\n",
              "      let quickchartButtonEl =\n",
              "        document.querySelector('#df-42d950c3-dc08-4359-b15b-28c1885a0378 button');\n",
              "      quickchartButtonEl.style.display =\n",
              "        google.colab.kernel.accessAllowed ? 'block' : 'none';\n",
              "    })();\n",
              "  </script>\n",
              "</div>\n",
              "    </div>\n",
              "  </div>\n"
            ],
            "application/vnd.google.colaboratory.intrinsic+json": {
              "type": "dataframe"
            }
          },
          "metadata": {},
          "execution_count": 50
        }
      ],
      "source": [
        "df = df[df.columns[[0,1,2,25,26,27,28,29,30,31,32,33,34,35,3,36,37,38,4,5,6,7,8,9,10,39,40,11,12,13,14,15,16,17,18,19,20,21,22,23,41,42,43,44,45,24]]]\n",
        "df.sample(2)"
      ]
    },
    {
      "cell_type": "code",
      "execution_count": null,
      "metadata": {
        "id": "K7f32iUymqn_"
      },
      "outputs": [],
      "source": [
        "dfcopy=df.copy()"
      ]
    },
    {
      "cell_type": "markdown",
      "metadata": {
        "id": "JVo0p9yxmqoA"
      },
      "source": [
        "### 2.2.2 Feature Selection"
      ]
    },
    {
      "cell_type": "code",
      "execution_count": null,
      "metadata": {
        "colab": {
          "base_uri": "https://localhost:8080/",
          "height": 792
        },
        "id": "CLHa97BzmqoH",
        "outputId": "5e851b07-b949-45da-8acd-9d98194a45ea"
      },
      "outputs": [
        {
          "output_type": "display_data",
          "data": {
            "text/plain": [
              "<Figure size 2000x1200 with 1 Axes>"
            ],
            "image/png": "[encoded data removed]"
          },
          "metadata": {}
        }
      ],
      "source": [
        "#Kendall tau correlation (numerik to categoric)\n",
        "corr = df[nums].corr('kendall')\n",
        "plt.figure(figsize=(20, 12))\n",
        "sns.heatmap(corr, annot=True, cmap='Reds', fmt='.2f',annot_kws={\"size\": 7, 'weight': 'bold'}, cbar=False, vmin=0.3)\n",
        "plt.show()"
      ]
    },
    {
      "cell_type": "code",
      "execution_count": null,
      "metadata": {
        "colab": {
          "base_uri": "https://localhost:8080/"
        },
        "id": "w3CASdDWmqoI",
        "outputId": "e051fbce-d5df-4331-f440-0281ec16d072"
      },
      "outputs": [
        {
          "output_type": "stream",
          "name": "stdout",
          "text": [
            "Index(['age_category', 'job_type', 'marital_status', 'education',\n",
            "       'has_default', 'balance_category', 'has_housing_loan',\n",
            "       'has_personal_loan', 'contact_type', 'day_category',\n",
            "       'last_contact_month', 'quarter', 'last_contact_duration_category',\n",
            "       'num_contacts_campaign_category', 'days_since_last_contacted_category',\n",
            "       'num_contacts_before_campaign_category', 'prev_campaign_outcome'],\n",
            "      dtype='object')\n"
          ]
        },
        {
          "output_type": "execute_result",
          "data": {
            "text/plain": [
              "(array([4.86569855e-01, 1.85057513e+02, 4.09971473e+01, 8.34604356e+01,\n",
              "        2.21233171e+01, 2.42840624e+02, 3.88432135e+02, 1.78066378e+02,\n",
              "        8.61314652e+00, 1.20354703e+01, 1.87181779e+01, 4.78966324e+00,\n",
              "        1.88883869e+03, 2.40563424e+02, 1.15721280e+03, 1.65881311e+03,\n",
              "        2.62371816e+03]),\n",
              " array([4.85461416e-001, 3.81278662e-042, 1.52451578e-010, 6.50040155e-020,\n",
              "        2.55685175e-006, 9.44794882e-055, 1.81637347e-086, 1.28121167e-040,\n",
              "        3.33745244e-003, 5.21976633e-004, 1.51531040e-005, 2.86310237e-002,\n",
              "        0.00000000e+000, 2.96383799e-054, 1.21420702e-253, 0.00000000e+000,\n",
              "        0.00000000e+000]))"
            ]
          },
          "metadata": {},
          "execution_count": 53
        }
      ],
      "source": [
        "#Analisa korelasi chi2 (categoric to categoric)\n",
        "X = df[['age_category', 'job_type', 'marital_status', 'education', 'has_default', 'balance_category', 'has_housing_loan', 'has_personal_loan',\n",
        "        'contact_type', 'day_category', 'last_contact_month', 'quarter', 'last_contact_duration_category', 'num_contacts_campaign_category',\n",
        "        'days_since_last_contacted_category', 'num_contacts_before_campaign_category', 'prev_campaign_outcome']]\n",
        "y = df['has_subs_deposit']\n",
        "\n",
        "chi_scores = chi2(X,y)\n",
        "\n",
        "print(X.columns)\n",
        "chi_scores"
      ]
    },
    {
      "cell_type": "code",
      "execution_count": null,
      "metadata": {
        "colab": {
          "base_uri": "https://localhost:8080/"
        },
        "id": "-2aFHQlgmqoM",
        "outputId": "f3e58a19-8894-4f0b-b4de-904e6b19b8d6"
      },
      "outputs": [
        {
          "output_type": "execute_result",
          "data": {
            "text/plain": [
              "last_contact_duration                    0.093601\n",
              "prev_campaign_outcome                    0.031804\n",
              "last_contact_month                       0.021649\n",
              "num_contacts_before_campaign_category    0.012876\n",
              "last_contact_day                         0.011893\n",
              "job_type_blue-collar                     0.007677\n",
              "quarter                                  0.005614\n",
              "job_type_retired                         0.002734\n",
              "job_type_unemployed                      0.001765\n",
              "job_type_technician                      0.001082\n",
              "prev_campaign_outcome_other              0.000513\n",
              "contact_type_telephone                   0.000124\n",
              "job_type_management                      0.000084\n",
              "job_type_housemaid                       0.000000\n",
              "marital_status_single                    0.000000\n",
              "Name: MI Scores, dtype: float64"
            ]
          },
          "metadata": {},
          "execution_count": 54
        }
      ],
      "source": [
        "X = df.copy()\n",
        "y = X.pop('has_subs_deposit')\n",
        "\n",
        "# Feature yang akan di diskret\n",
        "discrete_features = X.dtypes == int\n",
        "\n",
        "def make_mi_scores(X, y, discrete_features):\n",
        "    mi_scores = mutual_info_regression(X, y, discrete_features=discrete_features)\n",
        "    mi_scores = pd.Series(mi_scores, name=\"MI Scores\", index=X.columns)\n",
        "    mi_scores = mi_scores.sort_values(ascending=False)\n",
        "    return mi_scores\n",
        "\n",
        "mi_scores = make_mi_scores(X, y, discrete_features)\n",
        "mi_scores[::3]  #Menampilkan score MI"
      ]
    },
    {
      "cell_type": "code",
      "execution_count": null,
      "metadata": {
        "colab": {
          "base_uri": "https://localhost:8080/",
          "height": 464
        },
        "id": "8a6O_SqZmqoN",
        "outputId": "9b9a5e58-52f6-408b-f80e-b2946425d692"
      },
      "outputs": [
        {
          "output_type": "display_data",
          "data": {
            "text/plain": [
              "<Figure size 800x500 with 1 Axes>"
            ],
            "image/png": "[encoded data removed]"
          },
          "metadata": {}
        }
      ],
      "source": [
        "def plot_mi_scores(scores):\n",
        "    scores = scores.sort_values(ascending=True)\n",
        "    width = np.arange(len(scores))\n",
        "    ticks = list(scores.index)\n",
        "    plt.barh(width, scores)\n",
        "    plt.yticks(width, ticks)\n",
        "    plt.title(\"Mutual Information Scores\")\n",
        "\n",
        "\n",
        "plt.figure(dpi=100, figsize=(8, 5))\n",
        "plot_mi_scores(mi_scores)"
      ]
    },
    {
      "cell_type": "code",
      "execution_count": null,
      "metadata": {
        "colab": {
          "base_uri": "https://localhost:8080/"
        },
        "id": "SBSZREpBIK30",
        "outputId": "0412e771-79a5-48e3-fd4c-e02d7b0f1319"
      },
      "outputs": [
        {
          "output_type": "stream",
          "name": "stdout",
          "text": [
            "Fitur dengan korelasi tinggi: ['balance_category', 'contact_type_telephone', 'day_category', 'quarter', 'last_contact_duration_category', 'num_contacts_campaign_category', 'days_since_last_contacted_category', 'num_contacts_before_campaign', 'num_contacts_before_campaign_category', 'prev_campaign_outcome', 'prev_campaign_outcome_failure']\n"
          ]
        }
      ],
      "source": [
        "# membuang feature redundant\n",
        "\n",
        "import numpy as np\n",
        "correlation_matrix = df.corr('kendall')\n",
        "# Menggunakan 'bool' sebagai pengganti 'np.bool'\n",
        "upper_triangle = correlation_matrix.where(np.triu(np.ones(correlation_matrix.shape), k=1).astype(bool))\n",
        "high_correlation_features = [column for column in upper_triangle.columns if any(upper_triangle[column] > 0.7)]\n",
        "\n",
        "# Menampilkan fitur yang memiliki korelasi tinggi\n",
        "print(\"Fitur dengan korelasi tinggi:\", high_correlation_features)\n"
      ]
    },
    {
      "cell_type": "code",
      "execution_count": null,
      "metadata": {
        "id": "EYUsOyCSiLsO"
      },
      "outputs": [],
      "source": [
        "df = df.drop(['balance_category','day_category','quarter','contact_type' ,'last_contact_duration_category','marital_status','contact_type',\n",
        "              'num_contacts_campaign_category', 'days_since_last_contacted_category','num_contacts_before_campaign_category',\n",
        "              'prev_campaign_outcome','last_contact_month','last_contact_day'], axis = 1)"
      ]
    },
    {
      "cell_type": "markdown",
      "metadata": {
        "id": "28BG41sMmqoP"
      },
      "source": [
        "## 2.3 Feature transformation (Normalisasi/Standarisasi)"
      ]
    },
    {
      "cell_type": "code",
      "execution_count": null,
      "metadata": {
        "id": "BsUHNLt9mqoQ"
      },
      "outputs": [],
      "source": [
        "# #Split data train test\n",
        "X = df.drop(['has_subs_deposit'], axis=1)\n",
        "y = df['has_subs_deposit']\n",
        "\n",
        "X_train, X_test, y_train, y_test = train_test_split(X, y, test_size=1/3, random_state=42)\n"
      ]
    },
    {
      "cell_type": "code",
      "execution_count": null,
      "metadata": {
        "colab": {
          "base_uri": "https://localhost:8080/"
        },
        "id": "g09BdbGxXtty",
        "outputId": "62492ae7-1f08-4bd9-8361-827042f99224"
      },
      "outputs": [
        {
          "output_type": "stream",
          "name": "stdout",
          "text": [
            "(29948, 33)\n",
            "(14975, 33)\n"
          ]
        }
      ],
      "source": [
        "from sklearn.preprocessing import RobustScaler\n",
        "\n",
        "# Inisialisasi RobustScaler\n",
        "scaler = RobustScaler()\n",
        "\n",
        "# Terapkan skala pada data pelatihan\n",
        "X_train= scaler.fit_transform(X_train)\n",
        "\n",
        "# Terapkan skala yang sama pada data pengujian\n",
        "X_test = scaler.transform(X_test)\n",
        "\n",
        "print(X_train.shape)\n",
        "print(X_test.shape)"
      ]
    },
    {
      "cell_type": "markdown",
      "metadata": {
        "id": "vcQn9EZ1mqoS"
      },
      "source": [
        "## 2.4 Handle class imbalance\n",
        "Letaknya dimana (step ini setelah step apa) masih not sure"
      ]
    },
    {
      "cell_type": "code",
      "execution_count": null,
      "metadata": {
        "colab": {
          "base_uri": "https://localhost:8080/"
        },
        "id": "qZvIYCHLmqoT",
        "outputId": "bb39070a-648f-4ead-c8dd-041f273a95d8"
      },
      "outputs": [
        {
          "output_type": "execute_result",
          "data": {
            "text/plain": [
              "has_subs_deposit\n",
              "0    88.302206\n",
              "1    11.697794\n",
              "Name: count, dtype: float64"
            ]
          },
          "metadata": {},
          "execution_count": 60
        }
      ],
      "source": [
        "df['has_subs_deposit'].value_counts() / len(df) * 100"
      ]
    },
    {
      "cell_type": "markdown",
      "metadata": {
        "id": "f9eXviOOmqoU"
      },
      "source": [
        "Derajat ketimpangan fitur target termasuk dalam kategori moderate dengan nilai yes atau 1 yaitu 11% sementara nilai no atau 0 yaitu 88%. Class imbalance ini nantinya akan mempengaruhi hasil model Machine Learning. Oleh karena itu, untuk mengatasi permasalahan ini, akan dilakukan oversampling menggunakan SMOTE (Synthetic Minority Over-sampling Technique)"
      ]
    },
    {
      "cell_type": "code",
      "execution_count": null,
      "metadata": {
        "colab": {
          "base_uri": "https://localhost:8080/"
        },
        "id": "x1d5SuqXZdau",
        "outputId": "752b7e00-2043-4750-c915-75da367ee54a"
      },
      "outputs": [
        {
          "output_type": "stream",
          "name": "stdout",
          "text": [
            "Distribusi kelas sebelum SMOTE Borderline (train): Counter({0: 26446, 1: 3502})\n"
          ]
        }
      ],
      "source": [
        "\n",
        "from collections import Counter\n",
        "print(\"Distribusi kelas sebelum SMOTE Borderline (train):\", Counter(y_train))"
      ]
    },
    {
      "cell_type": "code",
      "execution_count": null,
      "metadata": {
        "colab": {
          "base_uri": "https://localhost:8080/"
        },
        "id": "lTfBbSuJHu5s",
        "outputId": "c3eee9b5-306d-4a83-e517-04d5b183b2da"
      },
      "outputs": [
        {
          "output_type": "stream",
          "name": "stdout",
          "text": [
            "Distribusi kelas setelah SMOTE Borderline (train): Counter({0: 26446, 1: 26446})\n"
          ]
        }
      ],
      "source": [
        "from imblearn.over_sampling import BorderlineSMOTE\n",
        "smote_borderline = BorderlineSMOTE(random_state=42)\n",
        "X_resampled, y_resampled = smote_borderline.fit_resample(X_train, y_train)\n",
        "print(\"Distribusi kelas setelah SMOTE Borderline (train):\", Counter(y_resampled))"
      ]
    },
    {
      "cell_type": "markdown",
      "metadata": {
        "id": "ULe4hOGsmqoY"
      },
      "source": [
        "## Stage 3"
      ]
    },
    {
      "cell_type": "markdown",
      "metadata": {
        "id": "BNPybfqvmqoY"
      },
      "source": [
        "Melakukan modeling :<br>\n",
        "\n",
        "\n",
        "*   Desicion Tree\n",
        "*   Random Forest\n",
        "*   Logistic Regression\n",
        "*   AdaboostClassifie\n",
        "*   XGBClassifier\n",
        "\n",
        "\n",
        "\n",
        "\n"
      ]
    },
    {
      "cell_type": "code",
      "execution_count": null,
      "metadata": {
        "id": "D9o-XOusmqoc"
      },
      "outputs": [],
      "source": [
        "from sklearn.tree import DecisionTreeClassifier\n",
        "from sklearn.ensemble import  AdaBoostClassifier,RandomForestClassifier\n",
        "from xgboost import XGBClassifier\n",
        "from sklearn.linear_model import LogisticRegression\n",
        "\n",
        "\n",
        "\n",
        "\n",
        "from sklearn.model_selection import cross_validate\n",
        "from sklearn.metrics import accuracy_score, precision_score, recall_score, f1_score, roc_auc_score\n",
        "from sklearn.metrics import make_scorer\n",
        "from sklearn.model_selection import cross_val_score\n",
        "from scipy.stats import uniform\n",
        "from sklearn.model_selection import RandomizedSearchCV, GridSearchCV"
      ]
    },
    {
      "cell_type": "code",
      "execution_count": null,
      "metadata": {
        "id": "wNWHBsKKmqoc"
      },
      "outputs": [],
      "source": [
        "from matplotlib import rcParams\n",
        "\n",
        "rcParams['figure.figsize'] = 5, 3\n",
        "rcParams['lines.linewidth'] = 1.5\n",
        "rcParams['xtick.labelsize'] = 'x-small'\n",
        "rcParams['ytick.labelsize'] = 'x-small'\n",
        "rcParams['axes.labelsize'] = 'x-small'"
      ]
    },
    {
      "cell_type": "code",
      "execution_count": null,
      "metadata": {
        "id": "B1uyswqamqod"
      },
      "outputs": [],
      "source": [
        "def eval_classification(model):\n",
        "    y_pred = model.predict(X_test)\n",
        "    y_pred_train = model.predict(X_resampled)\n",
        "    y_pred_proba = model.predict_proba(X_test)\n",
        "    y_pred_proba_train = model.predict_proba(X_resampled)\n",
        "\n",
        "    print(\"Accuracy (Train Set): %.2f\" % accuracy_score(y_resampled, y_pred_train))\n",
        "    print(\"Accuracy (Test Set): %.2f\" % accuracy_score(y_test, y_pred))\n",
        "    print(\"Precision (Train Set): %.2f\" % precision_score(y_resampled, y_pred_train))\n",
        "    print(\"Precision (Test Set): %.2f\" % precision_score(y_test, y_pred))\n",
        "    print(\"Recall (Train Set): %.2f\" % recall_score(y_resampled, y_pred_train))\n",
        "    print(\"Recall (Test Set): %.2f\" % recall_score(y_test, y_pred))\n",
        "    print(\"F1-Score (Train Set): %.2f\" % f1_score(y_resampled, y_pred_train))\n",
        "    print(\"F1-Score (Test Set): %.2f\" % f1_score(y_test, y_pred))\n",
        "\n",
        "    print(\"roc_auc (test-proba): %.2f\" % roc_auc_score(y_test, y_pred_proba[:, 1]))\n",
        "    print(\"roc_auc (train-proba): %.2f\" % roc_auc_score(y_resampled, y_pred_proba_train[:, 1]))\n",
        "\n",
        "    #cross valudation\n",
        "    scoring = make_scorer(roc_auc_score)\n",
        "    score = cross_validate(model, X, y, cv=5, scoring= scoring, return_train_score=True)\n",
        "    print('roc_auc (crossval train): '+ str(score['train_score'].mean()))\n",
        "    print('roc_auc (crossval test): '+ str(score['test_score'].mean()))"
      ]
    },
    {
      "cell_type": "code",
      "execution_count": null,
      "metadata": {
        "id": "Ted3CXGn_wZ5"
      },
      "outputs": [],
      "source": [
        "def c_matrix_plot(y_test, y_pred):\n",
        "\n",
        "    c_matrix = confusion_matrix(y_test, y_pred)\n",
        "    names = ['True Negative', 'False Positive', 'False Negative', 'True Positive']\n",
        "    counts = ['{0:0.0f}'.format(value) for value in c_matrix.flatten()]\n",
        "    percentages = ['{0:.2%}'.format(value) for value in c_matrix.flatten() / np.sum(c_matrix)]\n",
        "    labels = [f'{v1}\\n{v2}\\n{v3}' for v1, v2, v3 in zip(names, counts, percentages)]\n",
        "    labels = np.asarray(labels).reshape(2, 2)\n",
        "\n",
        "    ax = sns.heatmap(c_matrix, annot = labels, fmt = '', cmap = 'mako')\n",
        "    ax.set_xlabel('\\nPredicted Values')\n",
        "    ax.set_ylabel('Actual Values ');\n",
        "    ax.xaxis.set_ticklabels(['Not Subs', 'Subs'])\n",
        "    ax.yaxis.set_ticklabels(['Not Subs', 'Subs'])\n",
        "    plt.show()"
      ]
    },
    {
      "cell_type": "code",
      "execution_count": null,
      "metadata": {
        "colab": {
          "base_uri": "https://localhost:8080/"
        },
        "id": "2aN9u73qmqoe",
        "outputId": "37e6627f-9420-49db-bdbf-6ee9352897de"
      },
      "outputs": [
        {
          "output_type": "stream",
          "name": "stdout",
          "text": [
            "Using matplotlib backend: <object object at 0x7cb8710e36c0>\n",
            "Evaluate model: DT\n",
            "Accuracy (Train Set): 1.00\n",
            "Accuracy (Test Set): 0.85\n",
            "Precision (Train Set): 1.00\n",
            "Precision (Test Set): 0.37\n",
            "Recall (Train Set): 1.00\n",
            "Recall (Test Set): 0.44\n",
            "F1-Score (Train Set): 1.00\n",
            "F1-Score (Test Set): 0.40\n",
            "roc_auc (test-proba): 0.67\n",
            "roc_auc (train-proba): 1.00\n",
            "roc_auc (crossval train): 1.0\n",
            "roc_auc (crossval test): 0.6301367899845507\n",
            "None \n",
            "\n",
            "Evaluate model: RF\n",
            "Accuracy (Train Set): 1.00\n",
            "Accuracy (Test Set): 0.89\n",
            "Precision (Train Set): 1.00\n",
            "Precision (Test Set): 0.51\n",
            "Recall (Train Set): 1.00\n",
            "Recall (Test Set): 0.46\n",
            "F1-Score (Train Set): 1.00\n",
            "F1-Score (Test Set): 0.48\n",
            "roc_auc (test-proba): 0.88\n",
            "roc_auc (train-proba): 1.00\n",
            "roc_auc (crossval train): 0.9999286393910563\n",
            "roc_auc (crossval test): 0.6181934903506605\n",
            "None \n",
            "\n",
            "Evaluate model: XGB\n",
            "Accuracy (Train Set): 0.96\n",
            "Accuracy (Test Set): 0.88\n",
            "Precision (Train Set): 0.96\n",
            "Precision (Test Set): 0.51\n",
            "Recall (Train Set): 0.95\n",
            "Recall (Test Set): 0.50\n",
            "F1-Score (Train Set): 0.96\n",
            "F1-Score (Test Set): 0.50\n",
            "roc_auc (test-proba): 0.89\n",
            "roc_auc (train-proba): 0.99\n",
            "roc_auc (crossval train): 0.7871701413732317\n",
            "roc_auc (crossval test): 0.6246036286057014\n",
            "None \n",
            "\n",
            "Evaluate model: ADB\n",
            "Accuracy (Train Set): 0.89\n",
            "Accuracy (Test Set): 0.86\n",
            "Precision (Train Set): 0.89\n",
            "Precision (Test Set): 0.44\n",
            "Recall (Train Set): 0.89\n",
            "Recall (Test Set): 0.67\n",
            "F1-Score (Train Set): 0.89\n",
            "F1-Score (Test Set): 0.53\n",
            "roc_auc (test-proba): 0.88\n",
            "roc_auc (train-proba): 0.96\n",
            "roc_auc (crossval train): 0.6697299098932973\n",
            "roc_auc (crossval test): 0.6258783753767758\n",
            "None \n",
            "\n",
            "Evaluate model: Logistic\n",
            "Accuracy (Train Set): 0.84\n",
            "Accuracy (Test Set): 0.83\n",
            "Precision (Train Set): 0.84\n",
            "Precision (Test Set): 0.39\n",
            "Recall (Train Set): 0.84\n",
            "Recall (Test Set): 0.78\n",
            "F1-Score (Train Set): 0.84\n",
            "F1-Score (Test Set): 0.52\n",
            "roc_auc (test-proba): 0.88\n",
            "roc_auc (train-proba): 0.90\n",
            "roc_auc (crossval train): 0.6002015641889904\n",
            "roc_auc (crossval test): 0.6007269223387648\n",
            "None \n",
            "\n"
          ]
        }
      ],
      "source": [
        "%matplotlib\n",
        "\n",
        "\n",
        "models = {\n",
        "    \"DT\"         : DecisionTreeClassifier(random_state = 42),\n",
        "    \"RF\"         : RandomForestClassifier(random_state = 42),\n",
        "    \"XGB\"        : XGBClassifier(random_state = 42),\n",
        "    \"ADB\"        : AdaBoostClassifier(random_state = 42),\n",
        "    \"Logistic\"   : LogisticRegression(random_state = 42)\n",
        "\n",
        "\n",
        "\n",
        "}\n",
        "\n",
        "for model_name, model in models.items():\n",
        "    model.fit(X_resampled, y_resampled)\n",
        "    y_pred = model.predict(X_test)\n",
        "    print(\"Evaluate model: {}\".format(model_name))\n",
        "    print(eval_classification(model), \"\\n\")"
      ]
    },
    {
      "cell_type": "markdown",
      "source": [
        "#### Hyperparameter LogisticRegesssion"
      ],
      "metadata": {
        "id": "-2-lL0-qajQt"
      }
    },
    {
      "cell_type": "code",
      "execution_count": null,
      "metadata": {
        "colab": {
          "base_uri": "https://localhost:8080/"
        },
        "id": "28K9cP_i6mJ7",
        "outputId": "3ea6d3b8-ea94-4b56-b9af-0db37983c536"
      },
      "outputs": [
        {
          "output_type": "stream",
          "name": "stdout",
          "text": [
            "Accuracy (Train Set): 0.59\n",
            "Accuracy (Test Set): 0.90\n",
            "Precision (Train Set): 0.91\n",
            "Precision (Test Set): 0.65\n",
            "Recall (Train Set): 0.21\n",
            "Recall (Test Set): 0.26\n",
            "F1-Score (Train Set): 0.34\n",
            "F1-Score (Test Set): 0.37\n",
            "roc_auc (test-proba): 0.88\n",
            "roc_auc (train-proba): 0.90\n",
            "roc_auc (crossval train): 0.5851750500254167\n",
            "roc_auc (crossval test): 0.5723099888197802\n"
          ]
        }
      ],
      "source": [
        "from sklearn.model_selection import RandomizedSearchCV\n",
        "\n",
        "penalty = ['l1', 'l2']\n",
        "C = [float(x) for x in np.linspace(0.0001, 0.05, 100)]\n",
        "hyperparameters = dict(penalty=penalty, C=C)\n",
        "\n",
        "logreg = LogisticRegression()\n",
        "rs = RandomizedSearchCV(logreg, hyperparameters, scoring='roc_auc', random_state=1, cv=5, n_iter=100)\n",
        "rs.fit(X_train, y_train)\n",
        "eval_classification(rs)"
      ]
    },
    {
      "cell_type": "markdown",
      "source": [
        "#### Hyperparameter XGBoostClassifier"
      ],
      "metadata": {
        "id": "mSGAEOpzar-e"
      }
    },
    {
      "cell_type": "code",
      "execution_count": null,
      "metadata": {
        "colab": {
          "base_uri": "https://localhost:8080/"
        },
        "id": "D_OhJ81ITNYh",
        "outputId": "4b16acc8-5ff8-4da9-a008-811d6de8ec24"
      },
      "outputs": [
        {
          "output_type": "stream",
          "name": "stdout",
          "text": [
            "Accuracy (Train Set): 0.96\n",
            "Accuracy (Test Set): 0.88\n",
            "Precision (Train Set): 0.96\n",
            "Precision (Test Set): 0.51\n",
            "Recall (Train Set): 0.95\n",
            "Recall (Test Set): 0.50\n",
            "F1-Score (Train Set): 0.96\n",
            "F1-Score (Test Set): 0.50\n",
            "roc_auc (test-proba): 0.89\n",
            "roc_auc (train-proba): 0.99\n",
            "roc_auc (crossval train): 0.7871701413732317\n",
            "roc_auc (crossval test): 0.6246036286057014\n"
          ]
        }
      ],
      "source": [
        "# model xgb\n",
        "\n",
        "xg = XGBClassifier(random_state=42)\n",
        "xg.fit(X_resampled, y_resampled)\n",
        "eval_classification(xg)"
      ]
    },
    {
      "cell_type": "code",
      "execution_count": null,
      "metadata": {
        "id": "3vcGg3DxBwyz",
        "colab": {
          "base_uri": "https://localhost:8080/"
        },
        "outputId": "7aa6605e-01d8-4285-c3ed-4324a074ec45"
      },
      "outputs": [
        {
          "output_type": "stream",
          "name": "stdout",
          "text": [
            "Accuracy (Train Set): 0.98\n",
            "Accuracy (Test Set): 0.89\n",
            "Precision (Train Set): 0.99\n",
            "Precision (Test Set): 0.55\n",
            "Recall (Train Set): 0.97\n",
            "Recall (Test Set): 0.42\n",
            "F1-Score (Train Set): 0.98\n",
            "F1-Score (Test Set): 0.47\n",
            "roc_auc (test-proba): 0.89\n",
            "roc_auc (train-proba): 1.00\n",
            "roc_auc (crossval train): 0.8772427677079057\n",
            "roc_auc (crossval test): 0.639377430589404\n"
          ]
        }
      ],
      "source": [
        "#Hyperparameter tuning XGB\n",
        "# List of hyperparameter\n",
        "hyperparameters = {\n",
        "                    'max_depth' : [int(x) for x in np.linspace(10, 110, num = 11)],\n",
        "                    'min_child_weight' : [int(x) for x in np.linspace(1, 20, num = 11)],\n",
        "                    'gamma' : [float(x) for x in np.linspace(0, 1, num = 11)],\n",
        "                    'tree_method' : ['auto', 'exact', 'approx', 'hist'],\n",
        "\n",
        "                    'colsample_bytree' : [float(x) for x in np.linspace(0, 1, num = 11)],\n",
        "                    'eta' : [float(x) for x in np.linspace(0, 1, num = 100)],\n",
        "\n",
        "                    'lambda' : [float(x) for x in np.linspace(0, 1, num = 11)],\n",
        "                    'alpha' : [float(x) for x in np.linspace(0, 1, num = 11)]\n",
        "                    }\n",
        "\n",
        "\n",
        "# Init model\n",
        "xgb = XGBClassifier(random_state=42)\n",
        "model_xgb = RandomizedSearchCV(xgb, hyperparameters, cv=5, scoring= make_scorer(roc_auc_score))\n",
        "model_xgb.fit(X_resampled,y_resampled)\n",
        "\n",
        "# Predict & Evaluation\n",
        "eval_classification(model_xgb)"
      ]
    },
    {
      "cell_type": "markdown",
      "source": [
        "#### Hyperparameter AdaBoostClassifier"
      ],
      "metadata": {
        "id": "g7Lh9JHIaxW4"
      }
    },
    {
      "cell_type": "code",
      "execution_count": null,
      "metadata": {
        "id": "0c-tgs2vRzHW",
        "colab": {
          "base_uri": "https://localhost:8080/"
        },
        "outputId": "2a03aabb-d21f-4e89-9435-815efc7793e3"
      },
      "outputs": [
        {
          "output_type": "stream",
          "name": "stdout",
          "text": [
            "Accuracy (Train Set): 0.89\n",
            "Accuracy (Test Set): 0.86\n",
            "Precision (Train Set): 0.89\n",
            "Precision (Test Set): 0.44\n",
            "Recall (Train Set): 0.89\n",
            "Recall (Test Set): 0.67\n",
            "F1-Score (Train Set): 0.89\n",
            "F1-Score (Test Set): 0.53\n",
            "roc_auc (test-proba): 0.88\n",
            "roc_auc (train-proba): 0.96\n",
            "roc_auc (crossval train): 0.6697299098932973\n",
            "roc_auc (crossval test): 0.6258783753767758\n"
          ]
        }
      ],
      "source": [
        "## model AdaBoost\n",
        "\n",
        "ab = AdaBoostClassifier()\n",
        "ab.fit(X_resampled,y_resampled)\n",
        "eval_classification(ab)"
      ]
    },
    {
      "cell_type": "code",
      "execution_count": null,
      "metadata": {
        "id": "zVVbzx2JcGl2",
        "colab": {
          "base_uri": "https://localhost:8080/"
        },
        "outputId": "1b762d8c-5050-44c2-ba09-264f63f021dc"
      },
      "outputs": [
        {
          "output_type": "stream",
          "name": "stdout",
          "text": [
            "Accuracy (Train Set): 0.88\n",
            "Accuracy (Test Set): 0.86\n",
            "Precision (Train Set): 0.88\n",
            "Precision (Test Set): 0.43\n",
            "Recall (Train Set): 0.89\n",
            "Recall (Test Set): 0.72\n",
            "F1-Score (Train Set): 0.88\n",
            "F1-Score (Test Set): 0.54\n",
            "roc_auc (test-proba): 0.89\n",
            "roc_auc (train-proba): 0.95\n",
            "roc_auc (crossval train): 0.6512362344105317\n",
            "roc_auc (crossval test): 0.6080268949797306\n"
          ]
        }
      ],
      "source": [
        "#Hyperparameter tuning Adaboost\n",
        "# List of hyperparameter\n",
        "hyperparameters = dict(n_estimators = [int(x) for x in np.linspace(start = 50, stop = 500, num = 500)],\n",
        "                       learning_rate = [float(x) for x in np.linspace(start = 0.001, stop = 0.1, num = 200)],\n",
        "                       algorithm = ['SAMME', 'SAMME.R']\n",
        "                      )\n",
        "# Init model\n",
        "ab = AdaBoostClassifier(random_state=42)\n",
        "model_ab = RandomizedSearchCV(ab, hyperparameters, cv=5, scoring= make_scorer(roc_auc_score))\n",
        "model_ab.fit(X_resampled,y_resampled)\n",
        "\n",
        "# Predict & Evaluation\n",
        "eval_classification(model_ab)"
      ]
    },
    {
      "cell_type": "markdown",
      "source": [
        "#### Modeling Adaboost (X Test)"
      ],
      "metadata": {
        "id": "00WhqYj_a3EY"
      }
    },
    {
      "cell_type": "code",
      "execution_count": null,
      "metadata": {
        "id": "ryKotNhADKK3",
        "colab": {
          "base_uri": "https://localhost:8080/"
        },
        "outputId": "ff134a9e-49f5-4919-fc47-bedc4c2ad183"
      },
      "outputs": [
        {
          "output_type": "stream",
          "name": "stdout",
          "text": [
            "Accuracy (Train Set): 0.60\n",
            "Accuracy (Test Set): 0.90\n",
            "Precision (Train Set): 0.92\n",
            "Precision (Test Set): 0.67\n",
            "Recall (Train Set): 0.22\n",
            "Recall (Test Set): 0.27\n",
            "F1-Score (Train Set): 0.35\n",
            "F1-Score (Test Set): 0.38\n",
            "roc_auc (test-proba): 0.90\n",
            "roc_auc (train-proba): 0.91\n",
            "roc_auc (crossval train): 0.6507395649506982\n",
            "roc_auc (crossval test): 0.6078642259863389\n"
          ]
        }
      ],
      "source": [
        "#Hyperparameter tuning Adaboost\n",
        "# List of hyperparameter\n",
        "hyperparameters = dict(n_estimators = [int(x) for x in np.linspace(start = 50, stop = 500, num = 500)],\n",
        "                       learning_rate = [float(x) for x in np.linspace(start = 0.001, stop = 0.1, num = 200)],\n",
        "                       algorithm = ['SAMME', 'SAMME.R']\n",
        "                      )\n",
        "# Init model\n",
        "ab = AdaBoostClassifier(random_state=42)\n",
        "model_ab = RandomizedSearchCV(ab, hyperparameters, cv=5, scoring= make_scorer(roc_auc_score))\n",
        "model_ab.fit(X_test,y_test)\n",
        "\n",
        "# Predict & Evaluation\n",
        "eval_classification(model_ab)"
      ]
    },
    {
      "cell_type": "markdown",
      "metadata": {
        "id": "qJ8dvjviPjH8"
      },
      "source": [
        "##Feature Importance"
      ]
    },
    {
      "cell_type": "code",
      "execution_count": null,
      "metadata": {
        "id": "o2M__OpBcOyd"
      },
      "outputs": [],
      "source": [
        "def show_feature_importance(model):\n",
        "    feat_importances = pd.Series(model.feature_importances_, index=X.columns)\n",
        "    ax = feat_importances.nlargest(10).plot(kind='barh', figsize=(10, 8))\n",
        "    ax.invert_yaxis()\n",
        "\n",
        "    plt.xlabel('score')\n",
        "    plt.ylabel('feature')\n",
        "    plt.title('feature importance score \\n Top 10 AdaboostClassifier')\n",
        "    plt.show()\n",
        "\n",
        "\n",
        "def show_best_hyperparameter(model):\n",
        "    print(model.best_estimator_.get_params())"
      ]
    },
    {
      "cell_type": "code",
      "execution_count": null,
      "metadata": {
        "id": "u-5DUhxxcOtr",
        "colab": {
          "base_uri": "https://localhost:8080/",
          "height": 731
        },
        "outputId": "11a4c256-608f-4d7a-b42a-4e999f6b6cbd"
      },
      "outputs": [
        {
          "output_type": "display_data",
          "data": {
            "text/plain": [
              "<Figure size 1000x800 with 1 Axes>"
            ],
            "image/png": "[encoded data removed]"
          },
          "metadata": {}
        }
      ],
      "source": [
        "%matplotlib inline\n",
        "show_feature_importance(model_ab.best_estimator_)"
      ]
    },
    {
      "cell_type": "code",
      "execution_count": null,
      "metadata": {
        "id": "IjkSgnARcSh5",
        "colab": {
          "base_uri": "https://localhost:8080/",
          "height": 314
        },
        "outputId": "56765948-b8d8-410f-8580-3a05c52b9223"
      },
      "outputs": [
        {
          "output_type": "display_data",
          "data": {
            "text/plain": [
              "<Figure size 500x300 with 2 Axes>"
            ],
            "image/png": "[encoded data removed]"
          },
          "metadata": {}
        }
      ],
      "source": [
        "from sklearn.metrics import confusion_matrix, ConfusionMatrixDisplay\n",
        "\n",
        "\n",
        "pred_ab = model_ab.predict(X_test)\n",
        "c_matrix_plot(y_test, pred_ab)"
      ]
    },
    {
      "cell_type": "markdown",
      "source": [
        "## Simulasi Bisnis"
      ],
      "metadata": {
        "id": "ZC0gLSwUYr1Y"
      }
    },
    {
      "cell_type": "code",
      "execution_count": null,
      "metadata": {
        "id": "1ZvxG1I2f4dd"
      },
      "outputs": [],
      "source": [
        "## Mengembalikan nilai yang sudah di normalisasi\n",
        "X_test_invers = scaler.inverse_transform(X_test)"
      ]
    },
    {
      "cell_type": "code",
      "source": [
        "## Membuat dataframe untuk data test\n",
        "df_test = pd.DataFrame(X_test_invers, columns=[X.columns]).reset_index()\n",
        "df_y = pd.DataFrame(y_test).reset_index()\n",
        "df_test = pd.concat([df_test,df_y], axis = 1)"
      ],
      "metadata": {
        "id": "-PzvwFJpMKz8"
      },
      "execution_count": null,
      "outputs": []
    },
    {
      "cell_type": "code",
      "source": [
        "## menghapus kolom index\n",
        "df_test = df_test.drop(['index'], axis = 1)"
      ],
      "metadata": {
        "id": "1tL11o-MRrqf"
      },
      "execution_count": null,
      "outputs": []
    },
    {
      "cell_type": "code",
      "source": [
        "## memfilter data yang melakukan deposito berjangka\n",
        "df_test_yes = df_test[df_test['has_subs_deposit'] == 1]"
      ],
      "metadata": {
        "id": "mR9Z4PW3RmIY"
      },
      "execution_count": null,
      "outputs": []
    },
    {
      "cell_type": "code",
      "source": [
        "## Membuat dataframe untuk data prediksi\n",
        "df_pred = pd.DataFrame(X_test_invers, columns=[X.columns])\n",
        "df_y_pred = pd.DataFrame(y_pred)\n",
        "df_pred = pd.concat([df_pred,df_y_pred], axis = 1 )"
      ],
      "metadata": {
        "id": "1Ium9BxXUbv8"
      },
      "execution_count": null,
      "outputs": []
    },
    {
      "cell_type": "code",
      "source": [
        "## Mengubah nama kolom agar mudah dibaca\n",
        "new_kolom = ['age', 'age_category', 'job_type', 'job_type_admin', 'job_type_blue-collar',\n",
        "    'job_type_entrepreneur', 'job_type_housemaid', 'job_type_management',\n",
        "    'job_type_retired', 'job_type_self-employed', 'job_type_services',\n",
        "    'job_type_student', 'job_type_technician', 'job_type_unemployed',\n",
        "    'marital_status_divorced', 'marital_status_married', 'marital_status_single',\n",
        "    'education', 'has_default', 'balance', 'has_housing_loan', 'has_personal_loan',\n",
        "    'contact_type_cellular', 'contact_type_telephone', 'last_contact_duration',\n",
        "    'num_contacts_campaign', 'days_since_last_contacted', 'num_contacts_before_campaign',\n",
        "    'prev_campaign_outcome_failure', 'prev_campaign_outcome_not_contacted',\n",
        "    'prev_campaign_outcome_other', 'prev_campaign_outcome_success',\n",
        "    'prev_campaign_outcome_unknown','y_pred']\n",
        "df_pred.columns = new_kolom"
      ],
      "metadata": {
        "id": "XhvNrpSXWHxO"
      },
      "execution_count": null,
      "outputs": []
    },
    {
      "cell_type": "code",
      "source": [
        "## memfilter data yang melakukan deposito berjangka\n",
        "df_pred_yes = df_pred[df_pred['y_pred'] == 1]"
      ],
      "metadata": {
        "id": "h0yaHAwOWbTN"
      },
      "execution_count": null,
      "outputs": []
    },
    {
      "cell_type": "code",
      "execution_count": null,
      "metadata": {
        "id": "fEK66actn5Tj",
        "colab": {
          "base_uri": "https://localhost:8080/"
        },
        "outputId": "8754cd54-18a3-4e02-ce34-b2f5aba15e31"
      },
      "outputs": [
        {
          "output_type": "stream",
          "name": "stdout",
          "text": [
            "Jumlah Nasabah Sebelum Model :  has_subs_deposit\n",
            "1    1753\n",
            "Name: count, dtype: int64\n",
            "Conversion Rate Sebelum Model :  11.70617696160267\n"
          ]
        }
      ],
      "source": [
        "print('Jumlah Nasabah Sebelum Model : ',  df_test_yes['has_subs_deposit'].value_counts())\n",
        "print('Conversion Rate Sebelum Model : ',  (df_test_yes['has_subs_deposit'].count()/14975)*100)"
      ]
    },
    {
      "cell_type": "code",
      "source": [
        "print('Jumlah Nasabah Setelah model: ',  df_pred_yes['y_pred'].value_counts())\n",
        "print('Conversion Rate Setelah Model : ',  (df_pred_yes['y_pred'].count()/14975)*100)"
      ],
      "metadata": {
        "colab": {
          "base_uri": "https://localhost:8080/"
        },
        "id": "9_6XtpvDX_Yn",
        "outputId": "4c6d4ad6-6704-4556-e495-b276d47388a7"
      },
      "execution_count": null,
      "outputs": [
        {
          "output_type": "stream",
          "name": "stdout",
          "text": [
            "Jumlah Nasabah Setelah model:  y_pred\n",
            "1    3534\n",
            "Name: count, dtype: int64\n",
            "Conversion Rate Setelah Model :  23.599332220367277\n"
          ]
        }
      ]
    }
  ],
  "metadata": {
    "colab": {
      "provenance": []
    },
    "kernelspec": {
      "display_name": "Python 3 (ipykernel)",
      "language": "python",
      "name": "python3"
    },
    "language_info": {
      "codemirror_mode": {
        "name": "ipython",
        "version": 3
      },
      "file_extension": ".py",
      "mimetype": "text/x-python",
      "name": "python",
      "nbconvert_exporter": "python",
      "pygments_lexer": "ipython3",
      "version": "3.11.5"
    }
  },
  "nbformat": 4,
  "nbformat_minor": 0
}